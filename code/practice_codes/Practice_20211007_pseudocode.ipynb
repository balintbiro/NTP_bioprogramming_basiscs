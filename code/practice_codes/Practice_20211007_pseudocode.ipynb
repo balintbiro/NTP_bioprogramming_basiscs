{
 "cells": [
  {
   "cell_type": "markdown",
   "id": "0490a4ff",
   "metadata": {},
   "source": [
    "Cél: a rendszerben tárolt betegadatokból megjeleníteni az ID-t és a diagnózist, a diagnózisokat kategóriákba rendezni, gyakoriságot megszámolni\n",
    "\n",
    "beolvasni az adatbázist\n",
    "\n",
    "az alábbi oszlopokat megjeleníteni: 1., 2., 3. oszlop, elnevezni az oszlopokat\n",
    "\n",
    "diagnózisok kategóriákba rendezése: dictionary készítése\n",
    "\n",
    "dictionary kategóriák megszámolása (pie chart?)"
   ]
  },
  {
   "cell_type": "code",
   "execution_count": 1,
   "id": "14a9678b",
   "metadata": {},
   "outputs": [],
   "source": [
    "import pandas as pd\n",
    "import numpy as np\n",
    "import matplotlib.pyplot as plt"
   ]
  },
  {
   "cell_type": "code",
   "execution_count": 6,
   "id": "91941d10",
   "metadata": {},
   "outputs": [
    {
     "data": {
      "text/html": [
       "<div>\n",
       "<style scoped>\n",
       "    .dataframe tbody tr th:only-of-type {\n",
       "        vertical-align: middle;\n",
       "    }\n",
       "\n",
       "    .dataframe tbody tr th {\n",
       "        vertical-align: top;\n",
       "    }\n",
       "\n",
       "    .dataframe thead th {\n",
       "        text-align: right;\n",
       "    }\n",
       "</style>\n",
       "<table border=\"1\" class=\"dataframe\">\n",
       "  <thead>\n",
       "    <tr style=\"text-align: right;\">\n",
       "      <th></th>\n",
       "      <th>patientunitstayid</th>\n",
       "      <th>culturetakenoffset</th>\n",
       "      <th>culturesite</th>\n",
       "      <th>organism</th>\n",
       "      <th>antibiotic</th>\n",
       "      <th>sensitivitylevel</th>\n",
       "    </tr>\n",
       "    <tr>\n",
       "      <th>microlabid</th>\n",
       "      <th></th>\n",
       "      <th></th>\n",
       "      <th></th>\n",
       "      <th></th>\n",
       "      <th></th>\n",
       "      <th></th>\n",
       "    </tr>\n",
       "  </thead>\n",
       "  <tbody>\n",
       "    <tr>\n",
       "      <th>549559</th>\n",
       "      <td>983524</td>\n",
       "      <td>-688</td>\n",
       "      <td>Blood, Venipuncture</td>\n",
       "      <td>gram positive rods</td>\n",
       "      <td>NaN</td>\n",
       "      <td>NaN</td>\n",
       "    </tr>\n",
       "    <tr>\n",
       "      <th>549555</th>\n",
       "      <td>983524</td>\n",
       "      <td>-5481</td>\n",
       "      <td>Stool</td>\n",
       "      <td>no growth</td>\n",
       "      <td>NaN</td>\n",
       "      <td>NaN</td>\n",
       "    </tr>\n",
       "    <tr>\n",
       "      <th>549565</th>\n",
       "      <td>983524</td>\n",
       "      <td>324</td>\n",
       "      <td>Stool</td>\n",
       "      <td>no growth</td>\n",
       "      <td>NaN</td>\n",
       "      <td>NaN</td>\n",
       "    </tr>\n",
       "    <tr>\n",
       "      <th>549562</th>\n",
       "      <td>983524</td>\n",
       "      <td>-686</td>\n",
       "      <td>Blood, Central Line</td>\n",
       "      <td>gram negative rods</td>\n",
       "      <td>NaN</td>\n",
       "      <td>NaN</td>\n",
       "    </tr>\n",
       "    <tr>\n",
       "      <th>549564</th>\n",
       "      <td>983524</td>\n",
       "      <td>-681</td>\n",
       "      <td>Blood, Central Line</td>\n",
       "      <td>gram positive cocci</td>\n",
       "      <td>NaN</td>\n",
       "      <td>NaN</td>\n",
       "    </tr>\n",
       "    <tr>\n",
       "      <th>...</th>\n",
       "      <td>...</td>\n",
       "      <td>...</td>\n",
       "      <td>...</td>\n",
       "      <td>...</td>\n",
       "      <td>...</td>\n",
       "      <td>...</td>\n",
       "    </tr>\n",
       "    <tr>\n",
       "      <th>1617032</th>\n",
       "      <td>3160582</td>\n",
       "      <td>411</td>\n",
       "      <td>Other</td>\n",
       "      <td>mixed flora</td>\n",
       "      <td>NaN</td>\n",
       "      <td>NaN</td>\n",
       "    </tr>\n",
       "    <tr>\n",
       "      <th>1617031</th>\n",
       "      <td>3160582</td>\n",
       "      <td>-521</td>\n",
       "      <td>Blood, Venipuncture</td>\n",
       "      <td>no growth</td>\n",
       "      <td>NaN</td>\n",
       "      <td>NaN</td>\n",
       "    </tr>\n",
       "    <tr>\n",
       "      <th>1617033</th>\n",
       "      <td>3160582</td>\n",
       "      <td>411</td>\n",
       "      <td>Other</td>\n",
       "      <td>Candida albicans</td>\n",
       "      <td>NaN</td>\n",
       "      <td>NaN</td>\n",
       "    </tr>\n",
       "    <tr>\n",
       "      <th>1617030</th>\n",
       "      <td>3160582</td>\n",
       "      <td>-522</td>\n",
       "      <td>Blood, Venipuncture</td>\n",
       "      <td>no growth</td>\n",
       "      <td>NaN</td>\n",
       "      <td>NaN</td>\n",
       "    </tr>\n",
       "    <tr>\n",
       "      <th>1627296</th>\n",
       "      <td>3160583</td>\n",
       "      <td>-7</td>\n",
       "      <td>Sputum, Tracheal Specimen</td>\n",
       "      <td>no growth</td>\n",
       "      <td>NaN</td>\n",
       "      <td>NaN</td>\n",
       "    </tr>\n",
       "  </tbody>\n",
       "</table>\n",
       "<p>16996 rows × 6 columns</p>\n",
       "</div>"
      ],
      "text/plain": [
       "            patientunitstayid  culturetakenoffset                culturesite  \\\n",
       "microlabid                                                                     \n",
       "549559                 983524                -688        Blood, Venipuncture   \n",
       "549555                 983524               -5481                      Stool   \n",
       "549565                 983524                 324                      Stool   \n",
       "549562                 983524                -686        Blood, Central Line   \n",
       "549564                 983524                -681        Blood, Central Line   \n",
       "...                       ...                 ...                        ...   \n",
       "1617032               3160582                 411                      Other   \n",
       "1617031               3160582                -521        Blood, Venipuncture   \n",
       "1617033               3160582                 411                      Other   \n",
       "1617030               3160582                -522        Blood, Venipuncture   \n",
       "1627296               3160583                  -7  Sputum, Tracheal Specimen   \n",
       "\n",
       "                       organism antibiotic sensitivitylevel  \n",
       "microlabid                                                   \n",
       "549559       gram positive rods        NaN              NaN  \n",
       "549555                no growth        NaN              NaN  \n",
       "549565                no growth        NaN              NaN  \n",
       "549562       gram negative rods        NaN              NaN  \n",
       "549564      gram positive cocci        NaN              NaN  \n",
       "...                         ...        ...              ...  \n",
       "1617032             mixed flora        NaN              NaN  \n",
       "1617031               no growth        NaN              NaN  \n",
       "1617033        Candida albicans        NaN              NaN  \n",
       "1617030               no growth        NaN              NaN  \n",
       "1627296               no growth        NaN              NaN  \n",
       "\n",
       "[16996 rows x 6 columns]"
      ]
     },
     "execution_count": 6,
     "metadata": {},
     "output_type": "execute_result"
    }
   ],
   "source": [
    "matrix=pd.read_csv('../../data/microLab.csv', index_col=0)\n",
    "matrix"
   ]
  },
  {
   "cell_type": "code",
   "execution_count": 31,
   "id": "87b90e8c",
   "metadata": {},
   "outputs": [
    {
     "data": {
      "text/plain": [
       "microlabid\n",
       "549559           Blood, Venipuncture\n",
       "549555                         Stool\n",
       "549565                         Stool\n",
       "549562           Blood, Central Line\n",
       "549564           Blood, Central Line\n",
       "                     ...            \n",
       "1617032                        Other\n",
       "1617031          Blood, Venipuncture\n",
       "1617033                        Other\n",
       "1617030          Blood, Venipuncture\n",
       "1627296    Sputum, Tracheal Specimen\n",
       "Name: culturesite, Length: 16996, dtype: object"
      ]
     },
     "execution_count": 31,
     "metadata": {},
     "output_type": "execute_result"
    }
   ],
   "source": [
    "culturesites=matrix['culturesite']\n",
    "culturesites"
   ]
  },
  {
   "cell_type": "code",
   "execution_count": 9,
   "id": "6465d778",
   "metadata": {},
   "outputs": [
    {
     "data": {
      "text/plain": [
       "array(['Blood, Venipuncture', 'Stool', 'Blood, Central Line',\n",
       "       'Urine, Voided Specimen', 'Sputum, Tracheal Specimen',\n",
       "       'Nasopharynx', 'Urine, Catheter Specimen', 'Sputum, Expectorated',\n",
       "       'Bronchial Lavage', 'CSF', 'Other', 'Wound, Drainage Fluid',\n",
       "       'Wound, Decubitus', 'Abscess', 'Pleural Fluid', 'Peritoneal Fluid',\n",
       "       'Wound, Surgical', 'Bile', 'Rectal Swab', 'Skin'], dtype=object)"
      ]
     },
     "execution_count": 9,
     "metadata": {},
     "output_type": "execute_result"
    }
   ],
   "source": [
    "culturesites.unique()"
   ]
  },
  {
   "cell_type": "code",
   "execution_count": 16,
   "id": "23474392",
   "metadata": {},
   "outputs": [],
   "source": [
    "culturesites=culturesites.apply(lambda culturesite: True if 'Blood' in culturesite else False)"
   ]
  },
  {
   "cell_type": "code",
   "execution_count": 17,
   "id": "4694c458",
   "metadata": {},
   "outputs": [],
   "source": [
    "bool_mask=culturesites==True"
   ]
  },
  {
   "cell_type": "code",
   "execution_count": 20,
   "id": "2295b4be",
   "metadata": {},
   "outputs": [
    {
     "data": {
      "text/plain": [
       "microlabid\n",
       "549559     True\n",
       "549562     True\n",
       "549564     True\n",
       "549556     True\n",
       "549557     True\n",
       "           ... \n",
       "1599487    True\n",
       "1621776    True\n",
       "1621777    True\n",
       "1617031    True\n",
       "1617030    True\n",
       "Name: culturesite, Length: 3431, dtype: bool"
      ]
     },
     "execution_count": 20,
     "metadata": {},
     "output_type": "execute_result"
    }
   ],
   "source": [
    "culturesites[bool_mask]"
   ]
  },
  {
   "cell_type": "markdown",
   "id": "2bce7e22",
   "metadata": {},
   "source": [
    "len(culturesites[bool_mask])"
   ]
  },
  {
   "cell_type": "code",
   "execution_count": 25,
   "id": "4f4cc480",
   "metadata": {},
   "outputs": [],
   "source": [
    "trues=len(culturesites[bool_mask])\n",
    "falses=len(culturesites)-trues"
   ]
  },
  {
   "cell_type": "code",
   "execution_count": 26,
   "id": "0f000fa4",
   "metadata": {},
   "outputs": [
    {
     "data": {
      "text/plain": [
       "13565"
      ]
     },
     "execution_count": 26,
     "metadata": {},
     "output_type": "execute_result"
    }
   ],
   "source": [
    "falses"
   ]
  },
  {
   "cell_type": "code",
   "execution_count": 27,
   "id": "af4ef268",
   "metadata": {},
   "outputs": [
    {
     "data": {
      "text/plain": [
       "3431"
      ]
     },
     "execution_count": 27,
     "metadata": {},
     "output_type": "execute_result"
    }
   ],
   "source": [
    "trues"
   ]
  },
  {
   "cell_type": "code",
   "execution_count": 28,
   "id": "b7ce0fc0",
   "metadata": {},
   "outputs": [
    {
     "data": {
      "text/plain": [
       "16996"
      ]
     },
     "execution_count": 28,
     "metadata": {},
     "output_type": "execute_result"
    }
   ],
   "source": [
    "len(culturesites)"
   ]
  },
  {
   "cell_type": "code",
   "execution_count": 32,
   "id": "98fe809c",
   "metadata": {},
   "outputs": [
    {
     "data": {
      "text/plain": [
       "array(['Blood, Venipuncture', 'Stool', 'Blood, Central Line',\n",
       "       'Urine, Voided Specimen', 'Sputum, Tracheal Specimen',\n",
       "       'Nasopharynx', 'Urine, Catheter Specimen', 'Sputum, Expectorated',\n",
       "       'Bronchial Lavage', 'CSF', 'Other', 'Wound, Drainage Fluid',\n",
       "       'Wound, Decubitus', 'Abscess', 'Pleural Fluid', 'Peritoneal Fluid',\n",
       "       'Wound, Surgical', 'Bile', 'Rectal Swab', 'Skin'], dtype=object)"
      ]
     },
     "execution_count": 32,
     "metadata": {},
     "output_type": "execute_result"
    }
   ],
   "source": [
    "culturesites.unique()"
   ]
  },
  {
   "cell_type": "code",
   "execution_count": 38,
   "id": "2114c73c",
   "metadata": {},
   "outputs": [
    {
     "data": {
      "text/plain": [
       "Peritoneal Fluid              172\n",
       "Nasopharynx                  1325\n",
       "Wound, Decubitus              313\n",
       "Pleural Fluid                 153\n",
       "Urine, Voided Specimen       1051\n",
       "Sputum, Expectorated         2013\n",
       "Blood, Venipuncture          3352\n",
       "Wound, Surgical                40\n",
       "Sputum, Tracheal Specimen    3191\n",
       "Urine, Catheter Specimen     2132\n",
       "Bronchial Lavage              569\n",
       "Rectal Swab                   194\n",
       "Abscess                        80\n",
       "Other                        1893\n",
       "Bile                            1\n",
       "Stool                         239\n",
       "Skin                           24\n",
       "Wound, Drainage Fluid          78\n",
       "CSF                            97\n",
       "Blood, Central Line            79\n",
       "Name: culturesite, dtype: int64"
      ]
     },
     "execution_count": 38,
     "metadata": {},
     "output_type": "execute_result"
    }
   ],
   "source": [
    "culturesite_numbers=culturesites.value_counts(sort=False)\n",
    "culturesite_numbers"
   ]
  },
  {
   "cell_type": "code",
   "execution_count": 40,
   "id": "8a8e85eb",
   "metadata": {},
   "outputs": [
    {
     "data": {
      "text/plain": [
       "([<matplotlib.patches.Wedge at 0x7f99e5ea7c70>,\n",
       "  <matplotlib.patches.Wedge at 0x7f99e5e7d160>,\n",
       "  <matplotlib.patches.Wedge at 0x7f99e5e7d5e0>,\n",
       "  <matplotlib.patches.Wedge at 0x7f99e5e7da60>,\n",
       "  <matplotlib.patches.Wedge at 0x7f99e5e7dee0>,\n",
       "  <matplotlib.patches.Wedge at 0x7f99e62e93a0>,\n",
       "  <matplotlib.patches.Wedge at 0x7f99e62e9820>,\n",
       "  <matplotlib.patches.Wedge at 0x7f99e62e9ca0>,\n",
       "  <matplotlib.patches.Wedge at 0x7f99e62f8160>,\n",
       "  <matplotlib.patches.Wedge at 0x7f99e62f85e0>,\n",
       "  <matplotlib.patches.Wedge at 0x7f99e5e8b8e0>,\n",
       "  <matplotlib.patches.Wedge at 0x7f99e62f8ee0>,\n",
       "  <matplotlib.patches.Wedge at 0x7f99e63063a0>,\n",
       "  <matplotlib.patches.Wedge at 0x7f99e6306820>,\n",
       "  <matplotlib.patches.Wedge at 0x7f99e6306ca0>,\n",
       "  <matplotlib.patches.Wedge at 0x7f99e6312160>,\n",
       "  <matplotlib.patches.Wedge at 0x7f99e63125e0>,\n",
       "  <matplotlib.patches.Wedge at 0x7f99e6312a60>,\n",
       "  <matplotlib.patches.Wedge at 0x7f99e6312ee0>,\n",
       "  <matplotlib.patches.Wedge at 0x7f99e63203a0>],\n",
       " [Text(1.0994441093940062, 0.03496641701433821, ''),\n",
       "  Text(1.0480680666583566, 0.33399599945360864, ''),\n",
       "  Text(0.9008079974462405, 0.6313041673685467, ''),\n",
       "  Text(0.8431569211242506, 0.7064604775642261, ''),\n",
       "  Text(0.6664337406635688, 0.8751377430468664, ''),\n",
       "  Text(0.0928101300562767, 1.0960776796189844, ''),\n",
       "  Text(-0.8665669663133406, 0.677540916029795, ''),\n",
       "  Text(-1.0992633667003975, 0.0402498525526209, ''),\n",
       "  Text(-0.9316129244880889, -0.5848908948913041, ''),\n",
       "  Text(-0.028869199458409732, -1.0996211026179112, ''),\n",
       "  Text(0.5011279372620644, -0.9792194802471347, ''),\n",
       "  Text(0.6337993243751813, -0.8990541788021253, ''),\n",
       "  Text(0.6785015448887851, -0.865815022729181, ''),\n",
       "  Text(0.9426838240086836, -0.5668749491310808, ''),\n",
       "  Text(1.0799310430966251, -0.20916247788796896, ''),\n",
       "  Text(1.088144448988328, -0.16106414292414042, ''),\n",
       "  Text(1.0946857438227855, -0.1079959363640817, ''),\n",
       "  Text(1.096527217856756, -0.08733876859289064, ''),\n",
       "  Text(1.0987782863402917, -0.051829310887683104, ''),\n",
       "  Text(1.0998827218869207, -0.01606231909216675, '')])"
      ]
     },
     "execution_count": 40,
     "metadata": {},
     "output_type": "execute_result"
    },
    {
     "data": {
      "image/png": "[encoded data removed]",
      "text/plain": [
       "<Figure size 432x288 with 1 Axes>"
      ]
     },
     "metadata": {},
     "output_type": "display_data"
    }
   ],
   "source": [
    "plt.pie(culturesite_numbers)"
   ]
  },
  {
   "cell_type": "code",
   "execution_count": 45,
   "id": "37039d33",
   "metadata": {},
   "outputs": [
    {
     "data": {
      "text/plain": [
       "0           Blood, Venipuncture\n",
       "1                         Stool\n",
       "2           Blood, Central Line\n",
       "3        Urine, Voided Specimen\n",
       "4     Sputum, Tracheal Specimen\n",
       "5                   Nasopharynx\n",
       "6      Urine, Catheter Specimen\n",
       "7          Sputum, Expectorated\n",
       "8              Bronchial Lavage\n",
       "9                           CSF\n",
       "10                        Other\n",
       "11        Wound, Drainage Fluid\n",
       "12             Wound, Decubitus\n",
       "13                      Abscess\n",
       "14                Pleural Fluid\n",
       "15             Peritoneal Fluid\n",
       "16              Wound, Surgical\n",
       "17                         Bile\n",
       "18                  Rectal Swab\n",
       "19                         Skin\n",
       "dtype: object"
      ]
     },
     "execution_count": 45,
     "metadata": {},
     "output_type": "execute_result"
    }
   ],
   "source": [
    "trial=pd.Series(culturesites.unique())\n",
    "trial"
   ]
  },
  {
   "cell_type": "code",
   "execution_count": 46,
   "id": "0996f348",
   "metadata": {},
   "outputs": [
    {
     "data": {
      "text/plain": [
       "pandas.core.series.Series"
      ]
     },
     "execution_count": 46,
     "metadata": {},
     "output_type": "execute_result"
    }
   ],
   "source": [
    "type(trial)"
   ]
  },
  {
   "cell_type": "code",
   "execution_count": 55,
   "id": "84bbe7d7",
   "metadata": {},
   "outputs": [],
   "source": [
    "bogre=trial.apply(lambda element: matrix.loc[matrix['culturesite']==element])"
   ]
  },
  {
   "cell_type": "code",
   "execution_count": 53,
   "id": "355b46fe",
   "metadata": {},
   "outputs": [
    {
     "data": {
      "text/plain": [
       "0                 patientunitstayid  culturetakenoff...\n",
       "1                 patientunitstayid  culturetakenoff...\n",
       "2                 patientunitstayid  culturetakenoff...\n",
       "3                 patientunitstayid  culturetakenoff...\n",
       "4                 patientunitstayid  culturetakenoff...\n",
       "5                 patientunitstayid  culturetakenoff...\n",
       "6                 patientunitstayid  culturetakenoff...\n",
       "7                 patientunitstayid  culturetakenoff...\n",
       "8                 patientunitstayid  culturetakenoff...\n",
       "9                 patientunitstayid  culturetakenoff...\n",
       "10                patientunitstayid  culturetakenoff...\n",
       "11                patientunitstayid  culturetakenoff...\n",
       "12                patientunitstayid  culturetakenoff...\n",
       "13                patientunitstayid  culturetakenoff...\n",
       "14                patientunitstayid  culturetakenoff...\n",
       "15                patientunitstayid  culturetakenoff...\n",
       "16                patientunitstayid  culturetakenoff...\n",
       "17                patientunitstayid  culturetakenoff...\n",
       "18                patientunitstayid  culturetakenoff...\n",
       "19                patientunitstayid  culturetakenoff...\n",
       "dtype: object"
      ]
     },
     "execution_count": 53,
     "metadata": {},
     "output_type": "execute_result"
    }
   ],
   "source": [
    "bogre"
   ]
  },
  {
   "cell_type": "code",
   "execution_count": 54,
   "id": "ae552f22",
   "metadata": {},
   "outputs": [
    {
     "data": {
      "text/html": [
       "<div>\n",
       "<style scoped>\n",
       "    .dataframe tbody tr th:only-of-type {\n",
       "        vertical-align: middle;\n",
       "    }\n",
       "\n",
       "    .dataframe tbody tr th {\n",
       "        vertical-align: top;\n",
       "    }\n",
       "\n",
       "    .dataframe thead th {\n",
       "        text-align: right;\n",
       "    }\n",
       "</style>\n",
       "<table border=\"1\" class=\"dataframe\">\n",
       "  <thead>\n",
       "    <tr style=\"text-align: right;\">\n",
       "      <th></th>\n",
       "      <th>patientunitstayid</th>\n",
       "      <th>culturetakenoffset</th>\n",
       "      <th>culturesite</th>\n",
       "      <th>organism</th>\n",
       "      <th>antibiotic</th>\n",
       "      <th>sensitivitylevel</th>\n",
       "    </tr>\n",
       "    <tr>\n",
       "      <th>microlabid</th>\n",
       "      <th></th>\n",
       "      <th></th>\n",
       "      <th></th>\n",
       "      <th></th>\n",
       "      <th></th>\n",
       "      <th></th>\n",
       "    </tr>\n",
       "  </thead>\n",
       "  <tbody>\n",
       "    <tr>\n",
       "      <th>551409</th>\n",
       "      <td>990355</td>\n",
       "      <td>34</td>\n",
       "      <td>Nasopharynx</td>\n",
       "      <td>no growth</td>\n",
       "      <td>NaN</td>\n",
       "      <td>NaN</td>\n",
       "    </tr>\n",
       "    <tr>\n",
       "      <th>837314</th>\n",
       "      <td>2588551</td>\n",
       "      <td>615</td>\n",
       "      <td>Nasopharynx</td>\n",
       "      <td>no growth</td>\n",
       "      <td>NaN</td>\n",
       "      <td>NaN</td>\n",
       "    </tr>\n",
       "    <tr>\n",
       "      <th>1570107</th>\n",
       "      <td>3034199</td>\n",
       "      <td>21</td>\n",
       "      <td>Nasopharynx</td>\n",
       "      <td>Other</td>\n",
       "      <td>NaN</td>\n",
       "      <td>NaN</td>\n",
       "    </tr>\n",
       "    <tr>\n",
       "      <th>1571129</th>\n",
       "      <td>3035002</td>\n",
       "      <td>112</td>\n",
       "      <td>Nasopharynx</td>\n",
       "      <td>Other</td>\n",
       "      <td>NaN</td>\n",
       "      <td>NaN</td>\n",
       "    </tr>\n",
       "    <tr>\n",
       "      <th>1555985</th>\n",
       "      <td>3035720</td>\n",
       "      <td>474</td>\n",
       "      <td>Nasopharynx</td>\n",
       "      <td>Other</td>\n",
       "      <td>NaN</td>\n",
       "      <td>NaN</td>\n",
       "    </tr>\n",
       "    <tr>\n",
       "      <th>...</th>\n",
       "      <td>...</td>\n",
       "      <td>...</td>\n",
       "      <td>...</td>\n",
       "      <td>...</td>\n",
       "      <td>...</td>\n",
       "      <td>...</td>\n",
       "    </tr>\n",
       "    <tr>\n",
       "      <th>1633329</th>\n",
       "      <td>3160395</td>\n",
       "      <td>16</td>\n",
       "      <td>Nasopharynx</td>\n",
       "      <td>Other</td>\n",
       "      <td>NaN</td>\n",
       "      <td>NaN</td>\n",
       "    </tr>\n",
       "    <tr>\n",
       "      <th>1590727</th>\n",
       "      <td>3160468</td>\n",
       "      <td>7</td>\n",
       "      <td>Nasopharynx</td>\n",
       "      <td>no growth</td>\n",
       "      <td>NaN</td>\n",
       "      <td>NaN</td>\n",
       "    </tr>\n",
       "    <tr>\n",
       "      <th>1610625</th>\n",
       "      <td>3160512</td>\n",
       "      <td>-970</td>\n",
       "      <td>Nasopharynx</td>\n",
       "      <td>Other</td>\n",
       "      <td>NaN</td>\n",
       "      <td>NaN</td>\n",
       "    </tr>\n",
       "    <tr>\n",
       "      <th>1599224</th>\n",
       "      <td>3160567</td>\n",
       "      <td>496</td>\n",
       "      <td>Nasopharynx</td>\n",
       "      <td>no growth</td>\n",
       "      <td>NaN</td>\n",
       "      <td>NaN</td>\n",
       "    </tr>\n",
       "    <tr>\n",
       "      <th>1621779</th>\n",
       "      <td>3160572</td>\n",
       "      <td>-21</td>\n",
       "      <td>Nasopharynx</td>\n",
       "      <td>no growth</td>\n",
       "      <td>NaN</td>\n",
       "      <td>NaN</td>\n",
       "    </tr>\n",
       "  </tbody>\n",
       "</table>\n",
       "<p>1325 rows × 6 columns</p>\n",
       "</div>"
      ],
      "text/plain": [
       "            patientunitstayid  culturetakenoffset  culturesite   organism  \\\n",
       "microlabid                                                                  \n",
       "551409                 990355                  34  Nasopharynx  no growth   \n",
       "837314                2588551                 615  Nasopharynx  no growth   \n",
       "1570107               3034199                  21  Nasopharynx      Other   \n",
       "1571129               3035002                 112  Nasopharynx      Other   \n",
       "1555985               3035720                 474  Nasopharynx      Other   \n",
       "...                       ...                 ...          ...        ...   \n",
       "1633329               3160395                  16  Nasopharynx      Other   \n",
       "1590727               3160468                   7  Nasopharynx  no growth   \n",
       "1610625               3160512                -970  Nasopharynx      Other   \n",
       "1599224               3160567                 496  Nasopharynx  no growth   \n",
       "1621779               3160572                 -21  Nasopharynx  no growth   \n",
       "\n",
       "           antibiotic sensitivitylevel  \n",
       "microlabid                              \n",
       "551409            NaN              NaN  \n",
       "837314            NaN              NaN  \n",
       "1570107           NaN              NaN  \n",
       "1571129           NaN              NaN  \n",
       "1555985           NaN              NaN  \n",
       "...               ...              ...  \n",
       "1633329           NaN              NaN  \n",
       "1590727           NaN              NaN  \n",
       "1610625           NaN              NaN  \n",
       "1599224           NaN              NaN  \n",
       "1621779           NaN              NaN  \n",
       "\n",
       "[1325 rows x 6 columns]"
      ]
     },
     "execution_count": 54,
     "metadata": {},
     "output_type": "execute_result"
    }
   ],
   "source": [
    "bogre[5]"
   ]
  },
  {
   "cell_type": "code",
   "execution_count": 52,
   "id": "9c45c731",
   "metadata": {},
   "outputs": [
    {
     "data": {
      "text/plain": [
       "0     3352\n",
       "1      239\n",
       "2       79\n",
       "3     1051\n",
       "4     3191\n",
       "5     1325\n",
       "6     2132\n",
       "7     2013\n",
       "8      569\n",
       "9       97\n",
       "10    1893\n",
       "11      78\n",
       "12     313\n",
       "13      80\n",
       "14     153\n",
       "15     172\n",
       "16      40\n",
       "17       1\n",
       "18     194\n",
       "19      24\n",
       "dtype: int64"
      ]
     },
     "execution_count": 52,
     "metadata": {},
     "output_type": "execute_result"
    }
   ],
   "source": [
    "trial.apply(lambda element: len(matrix.loc[matrix['culturesite']==element]))"
   ]
  },
  {
   "cell_type": "code",
   "execution_count": null,
   "id": "a21196e9",
   "metadata": {},
   "outputs": [],
   "source": []
  }
 ],
 "metadata": {
  "kernelspec": {
   "display_name": "Python 3",
   "language": "python",
   "name": "python3"
  },
  "language_info": {
   "codemirror_mode": {
    "name": "ipython",
    "version": 3
   },
   "file_extension": ".py",
   "mimetype": "text/x-python",
   "name": "python",
   "nbconvert_exporter": "python",
   "pygments_lexer": "ipython3",
   "version": "3.8.8"
  }
 },
 "nbformat": 4,
 "nbformat_minor": 5
}
