{
 "cells": [
  {
   "cell_type": "code",
   "execution_count": 1,
   "id": "2852dac5",
   "metadata": {},
   "outputs": [
    {
     "ename": "OSError",
     "evalue": "[Errno 22] Invalid argument: 'Z:\\x08alint\\np/trial.fasta'",
     "output_type": "error",
     "traceback": [
      "\u001b[1;31m---------------------------------------------------------------------------\u001b[0m",
      "\u001b[1;31mOSError\u001b[0m                                   Traceback (most recent call last)",
      "\u001b[1;32m<ipython-input-1-06d55cb08269>\u001b[0m in \u001b[0;36m<module>\u001b[1;34m\u001b[0m\n\u001b[1;32m----> 1\u001b[1;33m \u001b[1;32mwith\u001b[0m \u001b[0mopen\u001b[0m \u001b[1;33m(\u001b[0m\u001b[1;34m'Z:\\balint\\np/trial.fasta'\u001b[0m\u001b[1;33m)\u001b[0m \u001b[1;32mas\u001b[0m \u001b[0mproba\u001b[0m\u001b[1;33m:\u001b[0m\u001b[1;33m\u001b[0m\u001b[1;33m\u001b[0m\u001b[0m\n\u001b[0m\u001b[0;32m      2\u001b[0m     \u001b[0mproba\u001b[0m\u001b[1;33m.\u001b[0m\u001b[0mwrite\u001b[0m\u001b[1;33m(\u001b[0m\u001b[1;34m'>abc123\\n'\u001b[0m\u001b[1;33m)\u001b[0m\u001b[1;33m\u001b[0m\u001b[1;33m\u001b[0m\u001b[0m\n",
      "\u001b[1;31mOSError\u001b[0m: [Errno 22] Invalid argument: 'Z:\\x08alint\\np/trial.fasta'"
     ]
    }
   ],
   "source": [
    "with open ('Z:\\balint\\np/trial.fasta') as proba:\n",
    "    proba.write('>abc123\\n')"
   ]
  },
  {
   "cell_type": "code",
   "execution_count": 4,
   "id": "19e2846c",
   "metadata": {},
   "outputs": [
    {
     "ename": "OSError",
     "evalue": "[Errno 22] Invalid argument: 'Z:\\x08alint\\np/trial.fasta'",
     "output_type": "error",
     "traceback": [
      "\u001b[1;31m---------------------------------------------------------------------------\u001b[0m",
      "\u001b[1;31mOSError\u001b[0m                                   Traceback (most recent call last)",
      "\u001b[1;32m<ipython-input-4-06d55cb08269>\u001b[0m in \u001b[0;36m<module>\u001b[1;34m\u001b[0m\n\u001b[1;32m----> 1\u001b[1;33m \u001b[1;32mwith\u001b[0m \u001b[0mopen\u001b[0m \u001b[1;33m(\u001b[0m\u001b[1;34m'Z:\\balint\\np/trial.fasta'\u001b[0m\u001b[1;33m)\u001b[0m \u001b[1;32mas\u001b[0m \u001b[0mproba\u001b[0m\u001b[1;33m:\u001b[0m\u001b[1;33m\u001b[0m\u001b[1;33m\u001b[0m\u001b[0m\n\u001b[0m\u001b[0;32m      2\u001b[0m     \u001b[0mproba\u001b[0m\u001b[1;33m.\u001b[0m\u001b[0mwrite\u001b[0m\u001b[1;33m(\u001b[0m\u001b[1;34m'>abc123\\n'\u001b[0m\u001b[1;33m)\u001b[0m\u001b[1;33m\u001b[0m\u001b[1;33m\u001b[0m\u001b[0m\n",
      "\u001b[1;31mOSError\u001b[0m: [Errno 22] Invalid argument: 'Z:\\x08alint\\np/trial.fasta'"
     ]
    }
   ],
   "source": [
    "with open ('Z:\\balint\\np/trial.fasta') as proba:\n",
    "    proba.write('>abc123\\n')"
   ]
  },
  {
   "cell_type": "code",
   "execution_count": null,
   "id": "9318f48d",
   "metadata": {},
   "outputs": [],
   "source": [
    "with open ('Z:\\balint\\np/trial.fasta') as proba:\n",
    "    proba.write('>abc123\\n')"
   ]
  },
  {
   "cell_type": "code",
   "execution_count": 14,
   "id": "109039f7",
   "metadata": {},
   "outputs": [],
   "source": [
    "with open (r'Z:\\balint\\np/trial.fasta','w') as proba:\n",
    "    proba.write('>abc123\\n')"
   ]
  },
  {
   "cell_type": "code",
   "execution_count": 15,
   "id": "c0db2189",
   "metadata": {},
   "outputs": [],
   "source": [
    "with open (r'Z:\\balint\\np/trial.fasta','a') as proba:\n",
    "    proba.write('ATCTGATCAGCTAGCTAGCATCGTGGGGGATCGATCGATCAGT')"
   ]
  },
  {
   "cell_type": "code",
   "execution_count": 17,
   "id": "2b6b4b51",
   "metadata": {},
   "outputs": [
    {
     "name": "stdout",
     "output_type": "stream",
     "text": [
      "['>abc123\\n', 'ATCTGATCAGCTAGCTAGCATCGTGGGGGATCGATCGATCAGT']\n"
     ]
    }
   ],
   "source": [
    "with open (r'Z:\\balint\\np/trial.fasta') as proba:\n",
    "    content = proba.readlines()\n",
    "    print((content))"
   ]
  },
  {
   "cell_type": "code",
   "execution_count": 20,
   "id": "5a700c9d",
   "metadata": {},
   "outputs": [
    {
     "data": {
      "text/plain": [
       "['>abc123\\n', 'ATCTGATCAGCTAGCTAGCATCGTGGGGGATCGATCGATCAGT']"
      ]
     },
     "execution_count": 20,
     "metadata": {},
     "output_type": "execute_result"
    }
   ],
   "source": [
    "content = open(r'Z:\\balint\\np/trial.fasta')\n",
    "content.readlines()"
   ]
  },
  {
   "cell_type": "code",
   "execution_count": 21,
   "id": "c0ffd053",
   "metadata": {},
   "outputs": [
    {
     "name": "stdout",
     "output_type": "stream",
     "text": [
      ">abc123\n",
      "\n",
      "ATCTGATCAGCTAGCTAGCATCGTGGGGGATCGATCGATCAGT\n"
     ]
    }
   ],
   "source": [
    "with open (r'Z:\\balint\\np/trial.fasta') as proba:\n",
    "    content = proba.readlines()\n",
    "    for line in content:\n",
    "        print(line)"
   ]
  },
  {
   "cell_type": "code",
   "execution_count": 22,
   "id": "e61552c0",
   "metadata": {},
   "outputs": [
    {
     "name": "stdout",
     "output_type": "stream",
     "text": [
      ">abc123\n",
      "ATCTGATCAGCTAGCTAGCATCGTGGGGGATCGATCGATCAG\n"
     ]
    }
   ],
   "source": [
    "with open (r'Z:\\balint\\np/trial.fasta') as proba:\n",
    "    content = proba.readlines()\n",
    "    for line in content:\n",
    "        print(line[:-1])"
   ]
  },
  {
   "cell_type": "code",
   "execution_count": 23,
   "id": "7558249d",
   "metadata": {},
   "outputs": [
    {
     "name": "stdout",
     "output_type": "stream",
     "text": [
      ">abc123\n",
      "ATCTGATCAGCTAGCTAGCATCGTGGGGGATCGATCGATCAGT\n"
     ]
    }
   ],
   "source": [
    "with open (r'Z:\\balint\\np/trial.fasta') as proba:\n",
    "    content = proba.readlines()\n",
    "    for line in content:\n",
    "        if line[0] == '>':\n",
    "            print(line[:-1])\n",
    "        else:\n",
    "            print(line)"
   ]
  },
  {
   "cell_type": "code",
   "execution_count": 24,
   "id": "8b447e85",
   "metadata": {},
   "outputs": [],
   "source": [
    "import os"
   ]
  },
  {
   "cell_type": "code",
   "execution_count": 28,
   "id": "2ce60bf7",
   "metadata": {},
   "outputs": [
    {
     "data": {
      "text/plain": [
       "['.ipynb_checkpoints',\n",
       " '1_prg.ipynb',\n",
       " '2_prg.ipynb',\n",
       " '3_prg.ipynb',\n",
       " 'Untitled.ipynb']"
      ]
     },
     "execution_count": 28,
     "metadata": {},
     "output_type": "execute_result"
    }
   ],
   "source": [
    "os.listdir('../code')"
   ]
  },
  {
   "cell_type": "code",
   "execution_count": 32,
   "id": "b6d5f185",
   "metadata": {},
   "outputs": [],
   "source": [
    "with open ('../data/trial.fasta','w') as proba:\n",
    "    proba.write('>abc123\\n')\n",
    "    proba.write('ATCTGATCAGCTAGCTAGCATCGTGGGGGATCGATCGATCAGT')"
   ]
  },
  {
   "cell_type": "code",
   "execution_count": 34,
   "id": "e71f1d37",
   "metadata": {},
   "outputs": [
    {
     "name": "stdout",
     "output_type": "stream",
     "text": [
      "1\n",
      "3\n"
     ]
    }
   ],
   "source": [
    "os.path.join('../data/')\n",
    "for i in range(1,5,2):\n",
    "    print(i)"
   ]
  },
  {
   "cell_type": "code",
   "execution_count": null,
   "id": "bf1a2df8",
   "metadata": {},
   "outputs": [],
   "source": []
  }
 ],
 "metadata": {
  "kernelspec": {
   "display_name": "Python 3",
   "language": "python",
   "name": "python3"
  },
  "language_info": {
   "codemirror_mode": {
    "name": "ipython",
    "version": 3
   },
   "file_extension": ".py",
   "mimetype": "text/x-python",
   "name": "python",
   "nbconvert_exporter": "python",
   "pygments_lexer": "ipython3",
   "version": "3.7.1"
  }
 },
 "nbformat": 4,
 "nbformat_minor": 5
}
