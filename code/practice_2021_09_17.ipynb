{
 "cells": [
  {
   "cell_type": "code",
   "execution_count": 63,
   "id": "e8da4101",
   "metadata": {},
   "outputs": [],
   "source": [
    "import pandas as pd\n",
    "import matplotlib.pyplot as plt"
   ]
  },
  {
   "cell_type": "code",
   "execution_count": 11,
   "id": "d9f54dc5",
   "metadata": {},
   "outputs": [
    {
     "data": {
      "text/html": [
       "<div>\n",
       "<style scoped>\n",
       "    .dataframe tbody tr th:only-of-type {\n",
       "        vertical-align: middle;\n",
       "    }\n",
       "\n",
       "    .dataframe tbody tr th {\n",
       "        vertical-align: top;\n",
       "    }\n",
       "\n",
       "    .dataframe thead th {\n",
       "        text-align: right;\n",
       "    }\n",
       "</style>\n",
       "<table border=\"1\" class=\"dataframe\">\n",
       "  <thead>\n",
       "    <tr style=\"text-align: right;\">\n",
       "      <th></th>\n",
       "      <th>patientunitstayid</th>\n",
       "      <th>culturetakenoffset</th>\n",
       "      <th>culturesite</th>\n",
       "      <th>organism</th>\n",
       "      <th>antibiotic</th>\n",
       "      <th>sensitivitylevel</th>\n",
       "    </tr>\n",
       "    <tr>\n",
       "      <th>microlabid</th>\n",
       "      <th></th>\n",
       "      <th></th>\n",
       "      <th></th>\n",
       "      <th></th>\n",
       "      <th></th>\n",
       "      <th></th>\n",
       "    </tr>\n",
       "  </thead>\n",
       "  <tbody>\n",
       "    <tr>\n",
       "      <th>549559</th>\n",
       "      <td>983524</td>\n",
       "      <td>-688</td>\n",
       "      <td>Blood, Venipuncture</td>\n",
       "      <td>gram positive rods</td>\n",
       "      <td>NaN</td>\n",
       "      <td>NaN</td>\n",
       "    </tr>\n",
       "    <tr>\n",
       "      <th>549555</th>\n",
       "      <td>983524</td>\n",
       "      <td>-5481</td>\n",
       "      <td>Stool</td>\n",
       "      <td>no growth</td>\n",
       "      <td>NaN</td>\n",
       "      <td>NaN</td>\n",
       "    </tr>\n",
       "    <tr>\n",
       "      <th>549565</th>\n",
       "      <td>983524</td>\n",
       "      <td>324</td>\n",
       "      <td>Stool</td>\n",
       "      <td>no growth</td>\n",
       "      <td>NaN</td>\n",
       "      <td>NaN</td>\n",
       "    </tr>\n",
       "    <tr>\n",
       "      <th>549562</th>\n",
       "      <td>983524</td>\n",
       "      <td>-686</td>\n",
       "      <td>Blood, Central Line</td>\n",
       "      <td>gram negative rods</td>\n",
       "      <td>NaN</td>\n",
       "      <td>NaN</td>\n",
       "    </tr>\n",
       "    <tr>\n",
       "      <th>549564</th>\n",
       "      <td>983524</td>\n",
       "      <td>-681</td>\n",
       "      <td>Blood, Central Line</td>\n",
       "      <td>gram positive cocci</td>\n",
       "      <td>NaN</td>\n",
       "      <td>NaN</td>\n",
       "    </tr>\n",
       "    <tr>\n",
       "      <th>...</th>\n",
       "      <td>...</td>\n",
       "      <td>...</td>\n",
       "      <td>...</td>\n",
       "      <td>...</td>\n",
       "      <td>...</td>\n",
       "      <td>...</td>\n",
       "    </tr>\n",
       "    <tr>\n",
       "      <th>1617032</th>\n",
       "      <td>3160582</td>\n",
       "      <td>411</td>\n",
       "      <td>Other</td>\n",
       "      <td>mixed flora</td>\n",
       "      <td>NaN</td>\n",
       "      <td>NaN</td>\n",
       "    </tr>\n",
       "    <tr>\n",
       "      <th>1617031</th>\n",
       "      <td>3160582</td>\n",
       "      <td>-521</td>\n",
       "      <td>Blood, Venipuncture</td>\n",
       "      <td>no growth</td>\n",
       "      <td>NaN</td>\n",
       "      <td>NaN</td>\n",
       "    </tr>\n",
       "    <tr>\n",
       "      <th>1617033</th>\n",
       "      <td>3160582</td>\n",
       "      <td>411</td>\n",
       "      <td>Other</td>\n",
       "      <td>Candida albicans</td>\n",
       "      <td>NaN</td>\n",
       "      <td>NaN</td>\n",
       "    </tr>\n",
       "    <tr>\n",
       "      <th>1617030</th>\n",
       "      <td>3160582</td>\n",
       "      <td>-522</td>\n",
       "      <td>Blood, Venipuncture</td>\n",
       "      <td>no growth</td>\n",
       "      <td>NaN</td>\n",
       "      <td>NaN</td>\n",
       "    </tr>\n",
       "    <tr>\n",
       "      <th>1627296</th>\n",
       "      <td>3160583</td>\n",
       "      <td>-7</td>\n",
       "      <td>Sputum, Tracheal Specimen</td>\n",
       "      <td>no growth</td>\n",
       "      <td>NaN</td>\n",
       "      <td>NaN</td>\n",
       "    </tr>\n",
       "  </tbody>\n",
       "</table>\n",
       "<p>16996 rows × 6 columns</p>\n",
       "</div>"
      ],
      "text/plain": [
       "            patientunitstayid  culturetakenoffset                culturesite  \\\n",
       "microlabid                                                                     \n",
       "549559                 983524                -688        Blood, Venipuncture   \n",
       "549555                 983524               -5481                      Stool   \n",
       "549565                 983524                 324                      Stool   \n",
       "549562                 983524                -686        Blood, Central Line   \n",
       "549564                 983524                -681        Blood, Central Line   \n",
       "...                       ...                 ...                        ...   \n",
       "1617032               3160582                 411                      Other   \n",
       "1617031               3160582                -521        Blood, Venipuncture   \n",
       "1617033               3160582                 411                      Other   \n",
       "1617030               3160582                -522        Blood, Venipuncture   \n",
       "1627296               3160583                  -7  Sputum, Tracheal Specimen   \n",
       "\n",
       "                       organism antibiotic sensitivitylevel  \n",
       "microlabid                                                   \n",
       "549559       gram positive rods        NaN              NaN  \n",
       "549555                no growth        NaN              NaN  \n",
       "549565                no growth        NaN              NaN  \n",
       "549562       gram negative rods        NaN              NaN  \n",
       "549564      gram positive cocci        NaN              NaN  \n",
       "...                         ...        ...              ...  \n",
       "1617032             mixed flora        NaN              NaN  \n",
       "1617031               no growth        NaN              NaN  \n",
       "1617033        Candida albicans        NaN              NaN  \n",
       "1617030               no growth        NaN              NaN  \n",
       "1627296               no growth        NaN              NaN  \n",
       "\n",
       "[16996 rows x 6 columns]"
      ]
     },
     "execution_count": 11,
     "metadata": {},
     "output_type": "execute_result"
    }
   ],
   "source": [
    "matrix = pd.read_csv('../data/microLab.csv', index_col=0)\n",
    "matrix"
   ]
  },
  {
   "cell_type": "code",
   "execution_count": 12,
   "id": "4eeff518",
   "metadata": {},
   "outputs": [],
   "source": [
    "culturesites=matrix['culturesite']"
   ]
  },
  {
   "cell_type": "code",
   "execution_count": 13,
   "id": "525e259f",
   "metadata": {},
   "outputs": [
    {
     "data": {
      "text/plain": [
       "microlabid\n",
       "549559           Blood, Venipuncture\n",
       "549555                         Stool\n",
       "549565                         Stool\n",
       "549562           Blood, Central Line\n",
       "549564           Blood, Central Line\n",
       "                     ...            \n",
       "1617032                        Other\n",
       "1617031          Blood, Venipuncture\n",
       "1617033                        Other\n",
       "1617030          Blood, Venipuncture\n",
       "1627296    Sputum, Tracheal Specimen\n",
       "Name: culturesite, Length: 16996, dtype: object"
      ]
     },
     "execution_count": 13,
     "metadata": {},
     "output_type": "execute_result"
    }
   ],
   "source": [
    "culturesites"
   ]
  },
  {
   "cell_type": "code",
   "execution_count": 17,
   "id": "1ba63296",
   "metadata": {},
   "outputs": [
    {
     "data": {
      "text/plain": [
       "array(['Blood, Venipuncture', 'Stool', 'Blood, Central Line',\n",
       "       'Urine, Voided Specimen', 'Sputum, Tracheal Specimen',\n",
       "       'Nasopharynx', 'Urine, Catheter Specimen', 'Sputum, Expectorated',\n",
       "       'Bronchial Lavage', 'CSF', 'Other', 'Wound, Drainage Fluid',\n",
       "       'Wound, Decubitus', 'Abscess', 'Pleural Fluid', 'Peritoneal Fluid',\n",
       "       'Wound, Surgical', 'Bile', 'Rectal Swab', 'Skin'], dtype=object)"
      ]
     },
     "execution_count": 17,
     "metadata": {},
     "output_type": "execute_result"
    }
   ],
   "source": [
    "culturesites.unique()"
   ]
  },
  {
   "cell_type": "code",
   "execution_count": 18,
   "id": "1d26d30c",
   "metadata": {},
   "outputs": [
    {
     "data": {
      "text/plain": [
       "20"
      ]
     },
     "execution_count": 18,
     "metadata": {},
     "output_type": "execute_result"
    }
   ],
   "source": [
    "len(culturesites.unique())"
   ]
  },
  {
   "cell_type": "code",
   "execution_count": 22,
   "id": "b817e2b9",
   "metadata": {},
   "outputs": [
    {
     "data": {
      "text/plain": [
       "numpy.ndarray"
      ]
     },
     "execution_count": 22,
     "metadata": {},
     "output_type": "execute_result"
    }
   ],
   "source": [
    "type(culturesites.unique())"
   ]
  },
  {
   "cell_type": "code",
   "execution_count": 23,
   "id": "5c88e888",
   "metadata": {},
   "outputs": [
    {
     "data": {
      "text/plain": [
       "0           Blood, Venipuncture\n",
       "1                         Stool\n",
       "2           Blood, Central Line\n",
       "3        Urine, Voided Specimen\n",
       "4     Sputum, Tracheal Specimen\n",
       "5                   Nasopharynx\n",
       "6      Urine, Catheter Specimen\n",
       "7          Sputum, Expectorated\n",
       "8              Bronchial Lavage\n",
       "9                           CSF\n",
       "10                        Other\n",
       "11        Wound, Drainage Fluid\n",
       "12             Wound, Decubitus\n",
       "13                      Abscess\n",
       "14                Pleural Fluid\n",
       "15             Peritoneal Fluid\n",
       "16              Wound, Surgical\n",
       "17                         Bile\n",
       "18                  Rectal Swab\n",
       "19                         Skin\n",
       "dtype: object"
      ]
     },
     "execution_count": 23,
     "metadata": {},
     "output_type": "execute_result"
    }
   ],
   "source": [
    "pd.Series(culturesites.unique())"
   ]
  },
  {
   "cell_type": "code",
   "execution_count": 25,
   "id": "3a614315",
   "metadata": {},
   "outputs": [],
   "source": [
    "subdf = matrix.loc[matrix['culturesite']=='Blood, Venipuncture']"
   ]
  },
  {
   "cell_type": "code",
   "execution_count": 26,
   "id": "c7f021cc",
   "metadata": {},
   "outputs": [
    {
     "data": {
      "text/html": [
       "<div>\n",
       "<style scoped>\n",
       "    .dataframe tbody tr th:only-of-type {\n",
       "        vertical-align: middle;\n",
       "    }\n",
       "\n",
       "    .dataframe tbody tr th {\n",
       "        vertical-align: top;\n",
       "    }\n",
       "\n",
       "    .dataframe thead th {\n",
       "        text-align: right;\n",
       "    }\n",
       "</style>\n",
       "<table border=\"1\" class=\"dataframe\">\n",
       "  <thead>\n",
       "    <tr style=\"text-align: right;\">\n",
       "      <th></th>\n",
       "      <th>patientunitstayid</th>\n",
       "      <th>culturetakenoffset</th>\n",
       "      <th>culturesite</th>\n",
       "      <th>organism</th>\n",
       "      <th>antibiotic</th>\n",
       "      <th>sensitivitylevel</th>\n",
       "    </tr>\n",
       "    <tr>\n",
       "      <th>microlabid</th>\n",
       "      <th></th>\n",
       "      <th></th>\n",
       "      <th></th>\n",
       "      <th></th>\n",
       "      <th></th>\n",
       "      <th></th>\n",
       "    </tr>\n",
       "  </thead>\n",
       "  <tbody>\n",
       "    <tr>\n",
       "      <th>549559</th>\n",
       "      <td>983524</td>\n",
       "      <td>-688</td>\n",
       "      <td>Blood, Venipuncture</td>\n",
       "      <td>gram positive rods</td>\n",
       "      <td>NaN</td>\n",
       "      <td>NaN</td>\n",
       "    </tr>\n",
       "    <tr>\n",
       "      <th>549558</th>\n",
       "      <td>983524</td>\n",
       "      <td>-688</td>\n",
       "      <td>Blood, Venipuncture</td>\n",
       "      <td>gram negative rods</td>\n",
       "      <td>NaN</td>\n",
       "      <td>NaN</td>\n",
       "    </tr>\n",
       "    <tr>\n",
       "      <th>549560</th>\n",
       "      <td>983524</td>\n",
       "      <td>-688</td>\n",
       "      <td>Blood, Venipuncture</td>\n",
       "      <td>gram positive cocci</td>\n",
       "      <td>NaN</td>\n",
       "      <td>NaN</td>\n",
       "    </tr>\n",
       "    <tr>\n",
       "      <th>549561</th>\n",
       "      <td>983524</td>\n",
       "      <td>-688</td>\n",
       "      <td>Blood, Venipuncture</td>\n",
       "      <td>gram positive cocci - in chains</td>\n",
       "      <td>NaN</td>\n",
       "      <td>NaN</td>\n",
       "    </tr>\n",
       "    <tr>\n",
       "      <th>552338</th>\n",
       "      <td>989617</td>\n",
       "      <td>-494</td>\n",
       "      <td>Blood, Venipuncture</td>\n",
       "      <td>no growth</td>\n",
       "      <td>NaN</td>\n",
       "      <td>NaN</td>\n",
       "    </tr>\n",
       "    <tr>\n",
       "      <th>...</th>\n",
       "      <td>...</td>\n",
       "      <td>...</td>\n",
       "      <td>...</td>\n",
       "      <td>...</td>\n",
       "      <td>...</td>\n",
       "      <td>...</td>\n",
       "    </tr>\n",
       "    <tr>\n",
       "      <th>1599487</th>\n",
       "      <td>3160567</td>\n",
       "      <td>13636</td>\n",
       "      <td>Blood, Venipuncture</td>\n",
       "      <td>no growth</td>\n",
       "      <td>NaN</td>\n",
       "      <td>NaN</td>\n",
       "    </tr>\n",
       "    <tr>\n",
       "      <th>1621776</th>\n",
       "      <td>3160572</td>\n",
       "      <td>-301</td>\n",
       "      <td>Blood, Venipuncture</td>\n",
       "      <td>no growth</td>\n",
       "      <td>NaN</td>\n",
       "      <td>NaN</td>\n",
       "    </tr>\n",
       "    <tr>\n",
       "      <th>1621777</th>\n",
       "      <td>3160572</td>\n",
       "      <td>-291</td>\n",
       "      <td>Blood, Venipuncture</td>\n",
       "      <td>no growth</td>\n",
       "      <td>NaN</td>\n",
       "      <td>NaN</td>\n",
       "    </tr>\n",
       "    <tr>\n",
       "      <th>1617031</th>\n",
       "      <td>3160582</td>\n",
       "      <td>-521</td>\n",
       "      <td>Blood, Venipuncture</td>\n",
       "      <td>no growth</td>\n",
       "      <td>NaN</td>\n",
       "      <td>NaN</td>\n",
       "    </tr>\n",
       "    <tr>\n",
       "      <th>1617030</th>\n",
       "      <td>3160582</td>\n",
       "      <td>-522</td>\n",
       "      <td>Blood, Venipuncture</td>\n",
       "      <td>no growth</td>\n",
       "      <td>NaN</td>\n",
       "      <td>NaN</td>\n",
       "    </tr>\n",
       "  </tbody>\n",
       "</table>\n",
       "<p>3352 rows × 6 columns</p>\n",
       "</div>"
      ],
      "text/plain": [
       "            patientunitstayid  culturetakenoffset          culturesite  \\\n",
       "microlabid                                                               \n",
       "549559                 983524                -688  Blood, Venipuncture   \n",
       "549558                 983524                -688  Blood, Venipuncture   \n",
       "549560                 983524                -688  Blood, Venipuncture   \n",
       "549561                 983524                -688  Blood, Venipuncture   \n",
       "552338                 989617                -494  Blood, Venipuncture   \n",
       "...                       ...                 ...                  ...   \n",
       "1599487               3160567               13636  Blood, Venipuncture   \n",
       "1621776               3160572                -301  Blood, Venipuncture   \n",
       "1621777               3160572                -291  Blood, Venipuncture   \n",
       "1617031               3160582                -521  Blood, Venipuncture   \n",
       "1617030               3160582                -522  Blood, Venipuncture   \n",
       "\n",
       "                                   organism antibiotic sensitivitylevel  \n",
       "microlabid                                                               \n",
       "549559                   gram positive rods        NaN              NaN  \n",
       "549558                   gram negative rods        NaN              NaN  \n",
       "549560                  gram positive cocci        NaN              NaN  \n",
       "549561      gram positive cocci - in chains        NaN              NaN  \n",
       "552338                            no growth        NaN              NaN  \n",
       "...                                     ...        ...              ...  \n",
       "1599487                           no growth        NaN              NaN  \n",
       "1621776                           no growth        NaN              NaN  \n",
       "1621777                           no growth        NaN              NaN  \n",
       "1617031                           no growth        NaN              NaN  \n",
       "1617030                           no growth        NaN              NaN  \n",
       "\n",
       "[3352 rows x 6 columns]"
      ]
     },
     "execution_count": 26,
     "metadata": {},
     "output_type": "execute_result"
    }
   ],
   "source": [
    "subdf"
   ]
  },
  {
   "cell_type": "code",
   "execution_count": 27,
   "id": "9a209345",
   "metadata": {},
   "outputs": [
    {
     "data": {
      "text/plain": [
       "microlabid\n",
       "549559                  gram positive rods\n",
       "549558                  gram negative rods\n",
       "549560                 gram positive cocci\n",
       "549561     gram positive cocci - in chains\n",
       "552338                           no growth\n",
       "                        ...               \n",
       "1599487                          no growth\n",
       "1621776                          no growth\n",
       "1621777                          no growth\n",
       "1617031                          no growth\n",
       "1617030                          no growth\n",
       "Name: organism, Length: 3352, dtype: object"
      ]
     },
     "execution_count": 27,
     "metadata": {},
     "output_type": "execute_result"
    }
   ],
   "source": [
    "subdf['organism']"
   ]
  },
  {
   "cell_type": "code",
   "execution_count": 28,
   "id": "fc84f417",
   "metadata": {},
   "outputs": [
    {
     "data": {
      "text/plain": [
       "array(['gram positive rods', 'gram negative rods', 'gram positive cocci',\n",
       "       'gram positive cocci - in chains', 'no growth',\n",
       "       'gram positive cocci - in clusters', 'Other',\n",
       "       'Streptococcus species, other', 'Haemophilus influenzae',\n",
       "       'Escherichia coli', 'Klebsiella pneumoniae',\n",
       "       'Staphylococcus aureus', 'Streptococcus pneumoniae',\n",
       "       'Enterobacter sp.', 'gram positive diplococci',\n",
       "       'Proteus mirabilis (indole +)', 'Enterococcus faecalis', 'yeast',\n",
       "       'Staphylococcus epidermidis', 'Candida tropicalis',\n",
       "       'Enterococcus fecium', 'Pseudomonas aeruginosa',\n",
       "       'gram negative cocci', 'Streptococcus pyogenes',\n",
       "       'Candida parapsilosis', 'Campylobacter fetus',\n",
       "       'Staphylococcus hominis', 'Clostridium difficile',\n",
       "       'Klebsiella oxytoca'], dtype=object)"
      ]
     },
     "execution_count": 28,
     "metadata": {},
     "output_type": "execute_result"
    }
   ],
   "source": [
    "subdf['organism'].unique()"
   ]
  },
  {
   "cell_type": "code",
   "execution_count": 29,
   "id": "f3994c7c",
   "metadata": {},
   "outputs": [
    {
     "data": {
      "text/plain": [
       "29"
      ]
     },
     "execution_count": 29,
     "metadata": {},
     "output_type": "execute_result"
    }
   ],
   "source": [
    "len(subdf['organism'].unique())"
   ]
  },
  {
   "cell_type": "code",
   "execution_count": 60,
   "id": "2280a532",
   "metadata": {},
   "outputs": [
    {
     "data": {
      "text/plain": [
       "no growth                            1942\n",
       "Other                                 346\n",
       "Staphylococcus aureus                 232\n",
       "Escherichia coli                      145\n",
       "Klebsiella pneumoniae                 117\n",
       "Staphylococcus epidermidis            102\n",
       "gram negative rods                     93\n",
       "gram positive cocci                    80\n",
       "gram positive cocci - in clusters      76\n",
       "Streptococcus species, other           31\n",
       "gram positive cocci - in chains        27\n",
       "Enterococcus faecalis                  24\n",
       "Proteus mirabilis (indole +)           17\n",
       "Pseudomonas aeruginosa                 15\n",
       "Streptococcus pneumoniae               14\n",
       "Enterobacter sp.                       14\n",
       "Staphylococcus hominis                 14\n",
       "gram positive rods                     14\n",
       "Enterococcus fecium                    13\n",
       "Klebsiella oxytoca                     11\n",
       "yeast                                   7\n",
       "gram positive diplococci                4\n",
       "Campylobacter fetus                     3\n",
       "Candida tropicalis                      2\n",
       "gram negative cocci                     2\n",
       "Clostridium difficile                   2\n",
       "Haemophilus influenzae                  2\n",
       "Streptococcus pyogenes                  2\n",
       "Candida parapsilosis                    1\n",
       "Name: organism, dtype: int64"
      ]
     },
     "execution_count": 60,
     "metadata": {},
     "output_type": "execute_result"
    }
   ],
   "source": [
    "organisms=subdf['organism'].value_counts()\n",
    "organisms"
   ]
  },
  {
   "cell_type": "code",
   "execution_count": 39,
   "id": "3f20c97d",
   "metadata": {},
   "outputs": [
    {
     "data": {
      "text/plain": [
       "no growth                            1942\n",
       "Other                                 346\n",
       "Staphylococcus aureus                 232\n",
       "Escherichia coli                      145\n",
       "Klebsiella pneumoniae                 117\n",
       "Staphylococcus epidermidis            102\n",
       "gram positive cocci                    80\n",
       "gram positive cocci - in clusters      76\n",
       "Streptococcus species, other           31\n",
       "gram positive cocci - in chains        27\n",
       "Enterococcus faecalis                  24\n",
       "Proteus mirabilis (indole +)           17\n",
       "Pseudomonas aeruginosa                 15\n",
       "Streptococcus pneumoniae               14\n",
       "Enterobacter sp.                       14\n",
       "Staphylococcus hominis                 14\n",
       "gram positive rods                     14\n",
       "Enterococcus fecium                    13\n",
       "Klebsiella oxytoca                     11\n",
       "yeast                                   7\n",
       "gram positive diplococci                4\n",
       "Campylobacter fetus                     3\n",
       "Candida tropicalis                      2\n",
       "gram negative cocci                     2\n",
       "Clostridium difficile                   2\n",
       "Haemophilus influenzae                  2\n",
       "Streptococcus pyogenes                  2\n",
       "Candida parapsilosis                    1\n",
       "Name: organism, dtype: int64"
      ]
     },
     "execution_count": 39,
     "metadata": {},
     "output_type": "execute_result"
    }
   ],
   "source": [
    "organisms.drop(labels=['gram negative rods'])"
   ]
  },
  {
   "cell_type": "code",
   "execution_count": 58,
   "id": "27d825b1",
   "metadata": {},
   "outputs": [],
   "source": [
    "non_specified_organism=['gram negative rods', 'gram positive cocci', 'gram positive cocci - in clusters', \n",
    "'Streptococcus species, other', 'gram positive cocci - in chains', 'yeast', 'gram positive diplococci', 'Other', 'gram negative cocci']"
   ]
  },
  {
   "cell_type": "code",
   "execution_count": 61,
   "id": "c5ea4aa6",
   "metadata": {},
   "outputs": [
    {
     "data": {
      "text/plain": [
       "no growth                       1942\n",
       "Staphylococcus aureus            232\n",
       "Escherichia coli                 145\n",
       "Klebsiella pneumoniae            117\n",
       "Staphylococcus epidermidis       102\n",
       "Enterococcus faecalis             24\n",
       "Proteus mirabilis (indole +)      17\n",
       "Pseudomonas aeruginosa            15\n",
       "Streptococcus pneumoniae          14\n",
       "Enterobacter sp.                  14\n",
       "Staphylococcus hominis            14\n",
       "gram positive rods                14\n",
       "Enterococcus fecium               13\n",
       "Klebsiella oxytoca                11\n",
       "Campylobacter fetus                3\n",
       "Candida tropicalis                 2\n",
       "Clostridium difficile              2\n",
       "Haemophilus influenzae             2\n",
       "Streptococcus pyogenes             2\n",
       "Candida parapsilosis               1\n",
       "Name: organism, dtype: int64"
      ]
     },
     "execution_count": 61,
     "metadata": {},
     "output_type": "execute_result"
    }
   ],
   "source": [
    "organisms=organisms.drop(labels=non_specified_organisms)\n",
    "organisms"
   ]
  },
  {
   "cell_type": "code",
   "execution_count": 66,
   "id": "5bf9371e",
   "metadata": {},
   "outputs": [
    {
     "data": {
      "text/plain": [
       "<BarContainer object of 20 artists>"
      ]
     },
     "execution_count": 66,
     "metadata": {},
     "output_type": "execute_result"
    },
    {
     "data": {
      "image/png": "[encoded data removed]",
      "text/plain": [
       "<Figure size 432x288 with 1 Axes>"
      ]
     },
     "metadata": {
      "needs_background": "light"
     },
     "output_type": "display_data"
    }
   ],
   "source": [
    "fig, axs = plt.subplots(nrows=1, ncols=1)\n",
    "axs.bar(organisms.index.values, organisms)"
   ]
  },
  {
   "cell_type": "code",
   "execution_count": null,
   "id": "a0b5746a",
   "metadata": {},
   "outputs": [],
   "source": []
  }
 ],
 "metadata": {
  "kernelspec": {
   "display_name": "Python 3",
   "language": "python",
   "name": "python3"
  },
  "language_info": {
   "codemirror_mode": {
    "name": "ipython",
    "version": 3
   },
   "file_extension": ".py",
   "mimetype": "text/x-python",
   "name": "python",
   "nbconvert_exporter": "python",
   "pygments_lexer": "ipython3",
   "version": "3.8.8"
  }
 },
 "nbformat": 4,
 "nbformat_minor": 5
}
