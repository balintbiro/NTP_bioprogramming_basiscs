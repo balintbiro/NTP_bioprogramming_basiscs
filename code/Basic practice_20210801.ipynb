{
 "cells": [
  {
   "cell_type": "code",
   "execution_count": 1,
   "id": "315fecf9",
   "metadata": {},
   "outputs": [
    {
     "name": "stdout",
     "output_type": "stream",
     "text": [
      "Hello world!\n"
     ]
    }
   ],
   "source": [
    "message = 'Hello world!'\n",
    "print(message)"
   ]
  },
  {
   "cell_type": "code",
   "execution_count": 5,
   "id": "6d9ea2c1",
   "metadata": {},
   "outputs": [
    {
     "name": "stdout",
     "output_type": "stream",
     "text": [
      "Message is a string\n"
     ]
    }
   ],
   "source": [
    "if type(message)==str:\n",
    "    print('Message is a string')\n",
    "else:\n",
    "    print('Message is not a string!')"
   ]
  },
  {
   "cell_type": "code",
   "execution_count": 6,
   "id": "7e5f0fd4",
   "metadata": {},
   "outputs": [],
   "source": [
    "string1 = 'Gesztenye'"
   ]
  },
  {
   "cell_type": "code",
   "execution_count": 7,
   "id": "df0ed02e",
   "metadata": {},
   "outputs": [
    {
     "data": {
      "text/plain": [
       "'G'"
      ]
     },
     "execution_count": 7,
     "metadata": {},
     "output_type": "execute_result"
    }
   ],
   "source": [
    "string1[0]"
   ]
  },
  {
   "cell_type": "code",
   "execution_count": 8,
   "id": "0562c20f",
   "metadata": {},
   "outputs": [
    {
     "data": {
      "text/plain": [
       "'e'"
      ]
     },
     "execution_count": 8,
     "metadata": {},
     "output_type": "execute_result"
    }
   ],
   "source": [
    "string1[8]"
   ]
  },
  {
   "cell_type": "code",
   "execution_count": 9,
   "id": "008a9578",
   "metadata": {},
   "outputs": [
    {
     "data": {
      "text/plain": [
       "'eynetzseG'"
      ]
     },
     "execution_count": 9,
     "metadata": {},
     "output_type": "execute_result"
    }
   ],
   "source": [
    "string1[::-1]"
   ]
  },
  {
   "cell_type": "code",
   "execution_count": 10,
   "id": "156d47d4",
   "metadata": {},
   "outputs": [
    {
     "data": {
      "text/plain": [
       "'G'"
      ]
     },
     "execution_count": 10,
     "metadata": {},
     "output_type": "execute_result"
    }
   ],
   "source": [
    "string1[:1]"
   ]
  },
  {
   "cell_type": "code",
   "execution_count": 11,
   "id": "6fb04f31",
   "metadata": {},
   "outputs": [
    {
     "data": {
      "text/plain": [
       "'Gesztenye'"
      ]
     },
     "execution_count": 11,
     "metadata": {},
     "output_type": "execute_result"
    }
   ],
   "source": [
    "string1[::1]"
   ]
  },
  {
   "cell_type": "code",
   "execution_count": 12,
   "id": "0aad906f",
   "metadata": {},
   "outputs": [
    {
     "data": {
      "text/plain": [
       "'esztenye'"
      ]
     },
     "execution_count": 12,
     "metadata": {},
     "output_type": "execute_result"
    }
   ],
   "source": [
    "string1[1:]"
   ]
  },
  {
   "cell_type": "code",
   "execution_count": 13,
   "id": "27bdb011",
   "metadata": {},
   "outputs": [
    {
     "data": {
      "text/plain": [
       "'G'"
      ]
     },
     "execution_count": 13,
     "metadata": {},
     "output_type": "execute_result"
    }
   ],
   "source": [
    "string1[:1]"
   ]
  },
  {
   "cell_type": "code",
   "execution_count": 14,
   "id": "ee39cd01",
   "metadata": {},
   "outputs": [
    {
     "data": {
      "text/plain": [
       "'Ges'"
      ]
     },
     "execution_count": 14,
     "metadata": {},
     "output_type": "execute_result"
    }
   ],
   "source": [
    "string1[0:3]"
   ]
  },
  {
   "cell_type": "code",
   "execution_count": 15,
   "id": "8eccb8e0",
   "metadata": {},
   "outputs": [
    {
     "data": {
      "text/plain": [
       "9"
      ]
     },
     "execution_count": 15,
     "metadata": {},
     "output_type": "execute_result"
    }
   ],
   "source": [
    "len(string1)"
   ]
  },
  {
   "cell_type": "code",
   "execution_count": 17,
   "id": "8a96d8ac",
   "metadata": {},
   "outputs": [],
   "source": [
    "string2 = 'Gesz\\ntenye'"
   ]
  },
  {
   "cell_type": "code",
   "execution_count": 18,
   "id": "01b74924",
   "metadata": {},
   "outputs": [
    {
     "name": "stdout",
     "output_type": "stream",
     "text": [
      "Gesz\n",
      "tenye\n"
     ]
    }
   ],
   "source": [
    "print(string2)"
   ]
  },
  {
   "cell_type": "code",
   "execution_count": 20,
   "id": "fd1755dc",
   "metadata": {},
   "outputs": [
    {
     "name": "stdout",
     "output_type": "stream",
     "text": [
      "Gesztenye\ta\tnyuszi\n"
     ]
    }
   ],
   "source": [
    "string3 = 'Gesztenye\\ta\\tnyuszi'\n",
    "print(string3)"
   ]
  },
  {
   "cell_type": "code",
   "execution_count": 30,
   "id": "d350eea7",
   "metadata": {},
   "outputs": [
    {
     "name": "stdout",
     "output_type": "stream",
     "text": [
      "nem egyforma\n"
     ]
    }
   ],
   "source": [
    "if string1 != string2:\n",
    "    print('nem egyforma')\n",
    "else:\n",
    "    print('egyforma')"
   ]
  },
  {
   "cell_type": "code",
   "execution_count": 31,
   "id": "7f31847d",
   "metadata": {},
   "outputs": [
    {
     "data": {
      "text/plain": [
       "'esztenye'"
      ]
     },
     "execution_count": 31,
     "metadata": {},
     "output_type": "execute_result"
    }
   ],
   "source": [
    "string1[1:]"
   ]
  },
  {
   "cell_type": "code",
   "execution_count": 32,
   "id": "21c1efac",
   "metadata": {},
   "outputs": [
    {
     "data": {
      "text/plain": [
       "'G'"
      ]
     },
     "execution_count": 32,
     "metadata": {},
     "output_type": "execute_result"
    }
   ],
   "source": [
    "string1[:1]"
   ]
  },
  {
   "cell_type": "code",
   "execution_count": 33,
   "id": "ef0a4c86",
   "metadata": {},
   "outputs": [
    {
     "data": {
      "text/plain": [
       "'Gaztenye'"
      ]
     },
     "execution_count": 33,
     "metadata": {},
     "output_type": "execute_result"
    }
   ],
   "source": [
    "string1.replace('esz', 'az')"
   ]
  },
  {
   "cell_type": "code",
   "execution_count": 34,
   "id": "ff2aac2d",
   "metadata": {},
   "outputs": [
    {
     "data": {
      "text/plain": [
       "False"
      ]
     },
     "execution_count": 34,
     "metadata": {},
     "output_type": "execute_result"
    }
   ],
   "source": [
    "string1 is string2"
   ]
  },
  {
   "cell_type": "code",
   "execution_count": 37,
   "id": "f8773f9d",
   "metadata": {
    "scrolled": true
   },
   "outputs": [
    {
     "data": {
      "text/plain": [
       "-1"
      ]
     },
     "execution_count": 37,
     "metadata": {},
     "output_type": "execute_result"
    }
   ],
   "source": [
    "string1.find('az')"
   ]
  },
  {
   "cell_type": "code",
   "execution_count": 44,
   "id": "add850f1",
   "metadata": {},
   "outputs": [],
   "source": [
    "gaz = 'Gesz'"
   ]
  },
  {
   "cell_type": "code",
   "execution_count": 45,
   "id": "10712869",
   "metadata": {},
   "outputs": [
    {
     "data": {
      "text/plain": [
       "0"
      ]
     },
     "execution_count": 45,
     "metadata": {},
     "output_type": "execute_result"
    }
   ],
   "source": [
    "string1.find(gaz) #returns the lowest index of the substring if it is found in a given string"
   ]
  },
  {
   "cell_type": "code",
   "execution_count": 40,
   "id": "8ecacb75",
   "metadata": {},
   "outputs": [
    {
     "data": {
      "text/plain": [
       "'Ge'"
      ]
     },
     "execution_count": 40,
     "metadata": {},
     "output_type": "execute_result"
    }
   ],
   "source": [
    "string1[:2]"
   ]
  },
  {
   "cell_type": "code",
   "execution_count": 41,
   "id": "828b5d9e",
   "metadata": {},
   "outputs": [
    {
     "data": {
      "text/plain": [
       "'sztenye'"
      ]
     },
     "execution_count": 41,
     "metadata": {},
     "output_type": "execute_result"
    }
   ],
   "source": [
    "string1[2:]"
   ]
  },
  {
   "cell_type": "code",
   "execution_count": 46,
   "id": "f0c0046c",
   "metadata": {},
   "outputs": [],
   "source": [
    "substring = 'enye'"
   ]
  },
  {
   "cell_type": "code",
   "execution_count": 50,
   "id": "0e104c3c",
   "metadata": {},
   "outputs": [
    {
     "data": {
      "text/plain": [
       "5"
      ]
     },
     "execution_count": 50,
     "metadata": {},
     "output_type": "execute_result"
    }
   ],
   "source": [
    "start = string1.find(substring)\n",
    "start"
   ]
  },
  {
   "cell_type": "code",
   "execution_count": 52,
   "id": "169c763f",
   "metadata": {},
   "outputs": [
    {
     "data": {
      "text/plain": [
       "9"
      ]
     },
     "execution_count": 52,
     "metadata": {},
     "output_type": "execute_result"
    }
   ],
   "source": [
    "end = start + len(substring)\n",
    "end"
   ]
  },
  {
   "cell_type": "code",
   "execution_count": 54,
   "id": "5d27150e",
   "metadata": {},
   "outputs": [],
   "source": [
    "list1 = ['a', 'b', 'c']"
   ]
  },
  {
   "cell_type": "code",
   "execution_count": 55,
   "id": "8f035db2",
   "metadata": {},
   "outputs": [
    {
     "data": {
      "text/plain": [
       "['a', 'b', 'c']"
      ]
     },
     "execution_count": 55,
     "metadata": {},
     "output_type": "execute_result"
    }
   ],
   "source": [
    "list1"
   ]
  },
  {
   "cell_type": "code",
   "execution_count": 56,
   "id": "c4f43d74",
   "metadata": {},
   "outputs": [
    {
     "data": {
      "text/plain": [
       "'b'"
      ]
     },
     "execution_count": 56,
     "metadata": {},
     "output_type": "execute_result"
    }
   ],
   "source": [
    "list1[1]"
   ]
  },
  {
   "cell_type": "code",
   "execution_count": 57,
   "id": "0a7a2c06",
   "metadata": {},
   "outputs": [],
   "source": [
    "string4 = 'asdf.asdf'"
   ]
  },
  {
   "cell_type": "code",
   "execution_count": 59,
   "id": "b4a17e94",
   "metadata": {},
   "outputs": [
    {
     "data": {
      "text/plain": [
       "['asdf.asdf']"
      ]
     },
     "execution_count": 59,
     "metadata": {},
     "output_type": "execute_result"
    }
   ],
   "source": [
    "string4.rsplit()"
   ]
  },
  {
   "cell_type": "markdown",
   "id": "f9316f95",
   "metadata": {},
   "source": [
    "string5 = 'asdf\\nasdf'"
   ]
  },
  {
   "cell_type": "code",
   "execution_count": 62,
   "id": "d520ac9d",
   "metadata": {},
   "outputs": [
    {
     "data": {
      "text/plain": [
       "['asdf', 'asdf']"
      ]
     },
     "execution_count": 62,
     "metadata": {},
     "output_type": "execute_result"
    }
   ],
   "source": [
    "string5 = 'asdf\\nasdf'\n",
    "string5.rsplit()"
   ]
  },
  {
   "cell_type": "code",
   "execution_count": 65,
   "id": "d9930942",
   "metadata": {},
   "outputs": [
    {
     "data": {
      "text/plain": [
       "list"
      ]
     },
     "execution_count": 65,
     "metadata": {},
     "output_type": "execute_result"
    }
   ],
   "source": [
    "type(string5.rsplit('.'))"
   ]
  },
  {
   "cell_type": "code",
   "execution_count": 66,
   "id": "b9ae7f22",
   "metadata": {},
   "outputs": [],
   "source": [
    "string6 = 'asdfasdfasdfasdf\\n'"
   ]
  },
  {
   "cell_type": "code",
   "execution_count": 67,
   "id": "e0b6ad9e",
   "metadata": {},
   "outputs": [
    {
     "data": {
      "text/plain": [
       "['asdfasdfasdfasdf']"
      ]
     },
     "execution_count": 67,
     "metadata": {},
     "output_type": "execute_result"
    }
   ],
   "source": [
    "string6.rsplit()"
   ]
  },
  {
   "cell_type": "code",
   "execution_count": 68,
   "id": "211aeafd",
   "metadata": {},
   "outputs": [],
   "source": [
    "string7 = string1[1:] + 'G'"
   ]
  },
  {
   "cell_type": "code",
   "execution_count": 69,
   "id": "fdd37eda",
   "metadata": {},
   "outputs": [
    {
     "name": "stdout",
     "output_type": "stream",
     "text": [
      "esztenyeG\n"
     ]
    }
   ],
   "source": [
    "print(string7)"
   ]
  },
  {
   "cell_type": "code",
   "execution_count": 70,
   "id": "aed263f5",
   "metadata": {},
   "outputs": [],
   "source": [
    "string7 = string1[1:] + string1[:1]"
   ]
  },
  {
   "cell_type": "code",
   "execution_count": 71,
   "id": "e5eb17e7",
   "metadata": {},
   "outputs": [
    {
     "name": "stdout",
     "output_type": "stream",
     "text": [
      "esztenyeG\n"
     ]
    }
   ],
   "source": [
    "print(string7)"
   ]
  },
  {
   "cell_type": "code",
   "execution_count": 74,
   "id": "07a64137",
   "metadata": {},
   "outputs": [],
   "source": [
    "list2 = [['Gesz'], ['tenye']]"
   ]
  },
  {
   "cell_type": "code",
   "execution_count": 75,
   "id": "543aae7e",
   "metadata": {},
   "outputs": [
    {
     "name": "stdout",
     "output_type": "stream",
     "text": [
      "[['Gesz'], ['tenye']]\n"
     ]
    }
   ],
   "source": [
    "print(list2)"
   ]
  },
  {
   "cell_type": "code",
   "execution_count": 77,
   "id": "e0a80d7e",
   "metadata": {},
   "outputs": [
    {
     "data": {
      "text/plain": [
       "['Gesz']"
      ]
     },
     "execution_count": 77,
     "metadata": {},
     "output_type": "execute_result"
    }
   ],
   "source": [
    "list2[0]"
   ]
  },
  {
   "cell_type": "code",
   "execution_count": 79,
   "id": "591ea619",
   "metadata": {},
   "outputs": [],
   "source": [
    "tasks = {'Matyi':'programozik', 'Fati':'kajál'}"
   ]
  },
  {
   "cell_type": "code",
   "execution_count": 80,
   "id": "cb4f7bbb",
   "metadata": {},
   "outputs": [
    {
     "data": {
      "text/plain": [
       "'kajál'"
      ]
     },
     "execution_count": 80,
     "metadata": {},
     "output_type": "execute_result"
    }
   ],
   "source": [
    "tasks['Fati']"
   ]
  },
  {
   "cell_type": "code",
   "execution_count": null,
   "id": "2303f7cc",
   "metadata": {},
   "outputs": [],
   "source": []
  }
 ],
 "metadata": {
  "kernelspec": {
   "display_name": "Python 3",
   "language": "python",
   "name": "python3"
  },
  "language_info": {
   "codemirror_mode": {
    "name": "ipython",
    "version": 3
   },
   "file_extension": ".py",
   "mimetype": "text/x-python",
   "name": "python",
   "nbconvert_exporter": "python",
   "pygments_lexer": "ipython3",
   "version": "3.8.8"
  }
 },
 "nbformat": 4,
 "nbformat_minor": 5
}
