{
 "cells": [
  {
   "cell_type": "code",
   "execution_count": 1,
   "id": "d498719a",
   "metadata": {},
   "outputs": [
    {
     "name": "stdout",
     "output_type": "stream",
     "text": [
      "Hello world!\n"
     ]
    }
   ],
   "source": [
    "message = 'Hello world!'\n",
    "print(message)"
   ]
  },
  {
   "cell_type": "code",
   "execution_count": 5,
   "id": "592a2ac6",
   "metadata": {},
   "outputs": [
    {
     "name": "stdout",
     "output_type": "stream",
     "text": [
      "Message is a string\n"
     ]
    }
   ],
   "source": [
    "if type(message)==str:\n",
    "    print('Message is a string')\n",
    "else:\n",
    "    print('Message is not a string!')"
   ]
  },
  {
   "cell_type": "code",
   "execution_count": 6,
   "id": "becfcde2",
   "metadata": {},
   "outputs": [],
   "source": [
    "string1 = 'Gesztenye'"
   ]
  },
  {
   "cell_type": "code",
   "execution_count": 7,
   "id": "b357f8f8",
   "metadata": {},
   "outputs": [
    {
     "data": {
      "text/plain": [
       "'G'"
      ]
     },
     "execution_count": 7,
     "metadata": {},
     "output_type": "execute_result"
    }
   ],
   "source": [
    "string1[0]"
   ]
  },
  {
   "cell_type": "code",
   "execution_count": 8,
   "id": "c2dcfbdc",
   "metadata": {},
   "outputs": [
    {
     "data": {
      "text/plain": [
       "'e'"
      ]
     },
     "execution_count": 8,
     "metadata": {},
     "output_type": "execute_result"
    }
   ],
   "source": [
    "string1[8]"
   ]
  },
  {
   "cell_type": "code",
   "execution_count": 9,
   "id": "ae843bd6",
   "metadata": {},
   "outputs": [
    {
     "data": {
      "text/plain": [
       "'eynetzseG'"
      ]
     },
     "execution_count": 9,
     "metadata": {},
     "output_type": "execute_result"
    }
   ],
   "source": [
    "string1[::-1]"
   ]
  },
  {
   "cell_type": "code",
   "execution_count": 10,
   "id": "e156d4b3",
   "metadata": {},
   "outputs": [
    {
     "data": {
      "text/plain": [
       "'G'"
      ]
     },
     "execution_count": 10,
     "metadata": {},
     "output_type": "execute_result"
    }
   ],
   "source": [
    "string1[:1]"
   ]
  },
  {
   "cell_type": "code",
   "execution_count": 11,
   "id": "9b244d1e",
   "metadata": {},
   "outputs": [
    {
     "data": {
      "text/plain": [
       "'Gesztenye'"
      ]
     },
     "execution_count": 11,
     "metadata": {},
     "output_type": "execute_result"
    }
   ],
   "source": [
    "string1[::1]"
   ]
  },
  {
   "cell_type": "code",
   "execution_count": 12,
   "id": "f5f00e7a",
   "metadata": {},
   "outputs": [
    {
     "data": {
      "text/plain": [
       "'esztenye'"
      ]
     },
     "execution_count": 12,
     "metadata": {},
     "output_type": "execute_result"
    }
   ],
   "source": [
    "string1[1:]"
   ]
  },
  {
   "cell_type": "code",
   "execution_count": 13,
   "id": "435bac6f",
   "metadata": {},
   "outputs": [
    {
     "data": {
      "text/plain": [
       "'G'"
      ]
     },
     "execution_count": 13,
     "metadata": {},
     "output_type": "execute_result"
    }
   ],
   "source": [
    "string1[:1]"
   ]
  },
  {
   "cell_type": "code",
   "execution_count": 14,
   "id": "ad4aeae8",
   "metadata": {},
   "outputs": [
    {
     "data": {
      "text/plain": [
       "'Ges'"
      ]
     },
     "execution_count": 14,
     "metadata": {},
     "output_type": "execute_result"
    }
   ],
   "source": [
    "string1[0:3]"
   ]
  },
  {
   "cell_type": "code",
   "execution_count": 15,
   "id": "01fa3490",
   "metadata": {},
   "outputs": [
    {
     "data": {
      "text/plain": [
       "9"
      ]
     },
     "execution_count": 15,
     "metadata": {},
     "output_type": "execute_result"
    }
   ],
   "source": [
    "len(string1)"
   ]
  },
  {
   "cell_type": "code",
   "execution_count": 17,
   "id": "60c4212b",
   "metadata": {},
   "outputs": [],
   "source": [
    "string2 = 'Gesz\\ntenye'"
   ]
  },
  {
   "cell_type": "code",
   "execution_count": 18,
   "id": "42b40f1f",
   "metadata": {},
   "outputs": [
    {
     "name": "stdout",
     "output_type": "stream",
     "text": [
      "Gesz\n",
      "tenye\n"
     ]
    }
   ],
   "source": [
    "print(string2)"
   ]
  },
  {
   "cell_type": "code",
   "execution_count": 20,
   "id": "98cf2c2a",
   "metadata": {},
   "outputs": [
    {
     "name": "stdout",
     "output_type": "stream",
     "text": [
      "Gesztenye\ta\tnyuszi\n"
     ]
    }
   ],
   "source": [
    "string3 = 'Gesztenye\\ta\\tnyuszi'\n",
    "print(string3)"
   ]
  },
  {
   "cell_type": "code",
   "execution_count": 30,
   "id": "e750d6b6",
   "metadata": {},
   "outputs": [
    {
     "name": "stdout",
     "output_type": "stream",
     "text": [
      "nem egyforma\n"
     ]
    }
   ],
   "source": [
    "if string1 != string2:\n",
    "    print('nem egyforma')\n",
    "else:\n",
    "    print('egyforma')"
   ]
  },
  {
   "cell_type": "code",
   "execution_count": 31,
   "id": "870d3fd5",
   "metadata": {},
   "outputs": [
    {
     "data": {
      "text/plain": [
       "'esztenye'"
      ]
     },
     "execution_count": 31,
     "metadata": {},
     "output_type": "execute_result"
    }
   ],
   "source": [
    "string1[1:]"
   ]
  },
  {
   "cell_type": "code",
   "execution_count": 32,
   "id": "5069dc1b",
   "metadata": {},
   "outputs": [
    {
     "data": {
      "text/plain": [
       "'G'"
      ]
     },
     "execution_count": 32,
     "metadata": {},
     "output_type": "execute_result"
    }
   ],
   "source": [
    "string1[:1]"
   ]
  },
  {
   "cell_type": "code",
   "execution_count": 33,
   "id": "94203984",
   "metadata": {},
   "outputs": [
    {
     "data": {
      "text/plain": [
       "'Gaztenye'"
      ]
     },
     "execution_count": 33,
     "metadata": {},
     "output_type": "execute_result"
    }
   ],
   "source": [
    "string1.replace('esz', 'az')"
   ]
  },
  {
   "cell_type": "code",
   "execution_count": 34,
   "id": "ae11329c",
   "metadata": {},
   "outputs": [
    {
     "data": {
      "text/plain": [
       "False"
      ]
     },
     "execution_count": 34,
     "metadata": {},
     "output_type": "execute_result"
    }
   ],
   "source": [
    "string1 is string2"
   ]
  },
  {
   "cell_type": "code",
   "execution_count": 37,
   "id": "b1ca4378",
   "metadata": {
    "scrolled": true
   },
   "outputs": [
    {
     "data": {
      "text/plain": [
       "-1"
      ]
     },
     "execution_count": 37,
     "metadata": {},
     "output_type": "execute_result"
    }
   ],
   "source": [
    "string1.find('az')"
   ]
  },
  {
   "cell_type": "code",
   "execution_count": 44,
   "id": "0af86926",
   "metadata": {},
   "outputs": [],
   "source": [
    "gaz = 'Gesz'"
   ]
  },
  {
   "cell_type": "code",
   "execution_count": 45,
   "id": "bfd2cf3e",
   "metadata": {},
   "outputs": [
    {
     "data": {
      "text/plain": [
       "0"
      ]
     },
     "execution_count": 45,
     "metadata": {},
     "output_type": "execute_result"
    }
   ],
   "source": [
    "string1.find(gaz) #returns the lowest index of the substring if it is found in a given string"
   ]
  },
  {
   "cell_type": "code",
   "execution_count": 40,
   "id": "6c162aa7",
   "metadata": {},
   "outputs": [
    {
     "data": {
      "text/plain": [
       "'Ge'"
      ]
     },
     "execution_count": 40,
     "metadata": {},
     "output_type": "execute_result"
    }
   ],
   "source": [
    "string1[:2]"
   ]
  },
  {
   "cell_type": "code",
   "execution_count": 41,
   "id": "a63311e4",
   "metadata": {},
   "outputs": [
    {
     "data": {
      "text/plain": [
       "'sztenye'"
      ]
     },
     "execution_count": 41,
     "metadata": {},
     "output_type": "execute_result"
    }
   ],
   "source": [
    "string1[2:]"
   ]
  },
  {
   "cell_type": "code",
   "execution_count": 46,
   "id": "71200e78",
   "metadata": {},
   "outputs": [],
   "source": [
    "substring = 'enye'"
   ]
  },
  {
   "cell_type": "code",
   "execution_count": 50,
   "id": "8c62971f",
   "metadata": {},
   "outputs": [
    {
     "data": {
      "text/plain": [
       "5"
      ]
     },
     "execution_count": 50,
     "metadata": {},
     "output_type": "execute_result"
    }
   ],
   "source": [
    "start = string1.find(substring)\n",
    "start"
   ]
  },
  {
   "cell_type": "code",
   "execution_count": 52,
   "id": "cade6dd6",
   "metadata": {},
   "outputs": [
    {
     "data": {
      "text/plain": [
       "9"
      ]
     },
     "execution_count": 52,
     "metadata": {},
     "output_type": "execute_result"
    }
   ],
   "source": [
    "end = start + len(substring)\n",
    "end"
   ]
  },
  {
   "cell_type": "code",
   "execution_count": 54,
   "id": "84fafb68",
   "metadata": {},
   "outputs": [],
   "source": [
    "list1 = ['a', 'b', 'c']"
   ]
  },
  {
   "cell_type": "code",
   "execution_count": 55,
   "id": "2a75dfb3",
   "metadata": {},
   "outputs": [
    {
     "data": {
      "text/plain": [
       "['a', 'b', 'c']"
      ]
     },
     "execution_count": 55,
     "metadata": {},
     "output_type": "execute_result"
    }
   ],
   "source": [
    "list1"
   ]
  },
  {
   "cell_type": "code",
   "execution_count": 56,
   "id": "d4032ee8",
   "metadata": {},
   "outputs": [
    {
     "data": {
      "text/plain": [
       "'b'"
      ]
     },
     "execution_count": 56,
     "metadata": {},
     "output_type": "execute_result"
    }
   ],
   "source": [
    "list1[1]"
   ]
  },
  {
   "cell_type": "code",
   "execution_count": 57,
   "id": "68ef9918",
   "metadata": {},
   "outputs": [],
   "source": [
    "string4 = 'asdf.asdf'"
   ]
  },
  {
   "cell_type": "code",
   "execution_count": 59,
   "id": "e16b7154",
   "metadata": {},
   "outputs": [
    {
     "data": {
      "text/plain": [
       "['asdf.asdf']"
      ]
     },
     "execution_count": 59,
     "metadata": {},
     "output_type": "execute_result"
    }
   ],
   "source": [
    "string4.rsplit()"
   ]
  },
  {
   "cell_type": "markdown",
   "id": "a4180a14",
   "metadata": {},
   "source": [
    "string5 = 'asdf\\nasdf'"
   ]
  },
  {
   "cell_type": "code",
   "execution_count": 62,
   "id": "958ccaab",
   "metadata": {},
   "outputs": [
    {
     "data": {
      "text/plain": [
       "['asdf', 'asdf']"
      ]
     },
     "execution_count": 62,
     "metadata": {},
     "output_type": "execute_result"
    }
   ],
   "source": [
    "string5 = 'asdf\\nasdf'\n",
    "string5.rsplit()"
   ]
  },
  {
   "cell_type": "code",
   "execution_count": 65,
   "id": "baafb415",
   "metadata": {},
   "outputs": [
    {
     "data": {
      "text/plain": [
       "list"
      ]
     },
     "execution_count": 65,
     "metadata": {},
     "output_type": "execute_result"
    }
   ],
   "source": [
    "type(string5.rsplit('.'))"
   ]
  },
  {
   "cell_type": "code",
   "execution_count": 66,
   "id": "56ccbbfe",
   "metadata": {},
   "outputs": [],
   "source": [
    "string6 = 'asdfasdfasdfasdf\\n'"
   ]
  },
  {
   "cell_type": "code",
   "execution_count": 67,
   "id": "98d71caf",
   "metadata": {},
   "outputs": [
    {
     "data": {
      "text/plain": [
       "['asdfasdfasdfasdf']"
      ]
     },
     "execution_count": 67,
     "metadata": {},
     "output_type": "execute_result"
    }
   ],
   "source": [
    "string6.rsplit()"
   ]
  },
  {
   "cell_type": "code",
   "execution_count": 68,
   "id": "a93b7e7a",
   "metadata": {},
   "outputs": [],
   "source": [
    "string7 = string1[1:] + 'G'"
   ]
  },
  {
   "cell_type": "code",
   "execution_count": 69,
   "id": "45e35862",
   "metadata": {},
   "outputs": [
    {
     "name": "stdout",
     "output_type": "stream",
     "text": [
      "esztenyeG\n"
     ]
    }
   ],
   "source": [
    "print(string7)"
   ]
  },
  {
   "cell_type": "code",
   "execution_count": 70,
   "id": "805d4305",
   "metadata": {},
   "outputs": [],
   "source": [
    "string7 = string1[1:] + string1[:1]"
   ]
  },
  {
   "cell_type": "code",
   "execution_count": null,
   "id": "532687dd",
   "metadata": {},
   "outputs": [],
   "source": []
  }
 ],
 "metadata": {
  "kernelspec": {
   "display_name": "Python 3",
   "language": "python",
   "name": "python3"
  },
  "language_info": {
   "codemirror_mode": {
    "name": "ipython",
    "version": 3
   },
   "file_extension": ".py",
   "mimetype": "text/x-python",
   "name": "python",
   "nbconvert_exporter": "python",
   "pygments_lexer": "ipython3",
   "version": "3.8.8"
  }
 },
 "nbformat": 4,
 "nbformat_minor": 5
}
