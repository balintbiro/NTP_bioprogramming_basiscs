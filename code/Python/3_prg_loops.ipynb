{
 "cells": [
  {
   "cell_type": "markdown",
   "id": "258c00ce",
   "metadata": {},
   "source": [
    "3. iteration\n",
    "- for loop\n",
    "- while loop"
   ]
  },
  {
   "cell_type": "code",
   "execution_count": 18,
   "id": "2c59d91c",
   "metadata": {},
   "outputs": [],
   "source": [
    "import numpy as np"
   ]
  },
  {
   "cell_type": "code",
   "execution_count": 3,
   "id": "2a982cee",
   "metadata": {},
   "outputs": [
    {
     "data": {
      "text/plain": [
       "str"
      ]
     },
     "execution_count": 3,
     "metadata": {},
     "output_type": "execute_result"
    }
   ],
   "source": [
    "#define a string type variable\n",
    "string = '12345'\n",
    "type(string)"
   ]
  },
  {
   "cell_type": "code",
   "execution_count": 4,
   "id": "7eaa62ea",
   "metadata": {},
   "outputs": [
    {
     "name": "stdout",
     "output_type": "stream",
     "text": [
      "0\n"
     ]
    },
    {
     "data": {
      "text/plain": [
       "list"
      ]
     },
     "execution_count": 4,
     "metadata": {},
     "output_type": "execute_result"
    }
   ],
   "source": [
    "#create an empty list (cube brackets!)\n",
    "empty_list = []\n",
    "print(len(empty_list))\n",
    "type(empty_list)"
   ]
  },
  {
   "cell_type": "code",
   "execution_count": 8,
   "id": "b0dc7ac5",
   "metadata": {},
   "outputs": [
    {
     "data": {
      "text/plain": [
       "'12345'"
      ]
     },
     "execution_count": 8,
     "metadata": {},
     "output_type": "execute_result"
    }
   ],
   "source": [
    "string"
   ]
  },
  {
   "cell_type": "code",
   "execution_count": 5,
   "id": "31d53113",
   "metadata": {},
   "outputs": [
    {
     "data": {
      "text/plain": [
       "['1', '2', '3', '4', '5']"
      ]
     },
     "execution_count": 5,
     "metadata": {},
     "output_type": "execute_result"
    }
   ],
   "source": [
    "#for loop\n",
    "empty_list = []\n",
    "for number in string: #head of the loop. For element in variable\n",
    "    empty_list.append(number)#body of the loop --> you can do whatever you want inside the loop!\n",
    "    #append is a list specific function --> adding one element at the end of a list\n",
    "empty_list #the list is gonna include all the elements as strings!"
   ]
  },
  {
   "cell_type": "code",
   "execution_count": 33,
   "id": "7ac62396",
   "metadata": {},
   "outputs": [
    {
     "data": {
      "text/plain": [
       "[1, 2, 3, 4, 5]"
      ]
     },
     "execution_count": 33,
     "metadata": {},
     "output_type": "execute_result"
    }
   ],
   "source": [
    "empty_list = []\n",
    "for number in string:\n",
    "    empty_list.append(int(number))#using the int() type conversion function!\n",
    "empty_list"
   ]
  },
  {
   "cell_type": "code",
   "execution_count": 34,
   "id": "4b946315",
   "metadata": {},
   "outputs": [
    {
     "data": {
      "text/plain": [
       "3.0"
      ]
     },
     "execution_count": 34,
     "metadata": {},
     "output_type": "execute_result"
    }
   ],
   "source": [
    "np.mean(empty_list)"
   ]
  },
  {
   "cell_type": "code",
   "execution_count": 54,
   "id": "3d5722d0",
   "metadata": {},
   "outputs": [
    {
     "name": "stdout",
     "output_type": "stream",
     "text": [
      "0 5\n",
      "1 4\n",
      "2 3\n",
      "3 2\n",
      "4 1\n"
     ]
    },
    {
     "data": {
      "text/plain": [
       "[]"
      ]
     },
     "execution_count": 54,
     "metadata": {},
     "output_type": "execute_result"
    }
   ],
   "source": [
    "empty_list = [] #iteration can be performed on strings as well!\n",
    "for index, number in enumerate(string[::-1]): #using this loop head, you can get also the indices\n",
    "    print(index, number)\n",
    "empty_list #thes list is empty beacuse we did not do anything to it in the loop body!"
   ]
  },
  {
   "cell_type": "code",
   "execution_count": 39,
   "id": "2975c178",
   "metadata": {},
   "outputs": [
    {
     "data": {
      "text/plain": [
       "['1', '3', '5']"
      ]
     },
     "execution_count": 39,
     "metadata": {},
     "output_type": "execute_result"
    }
   ],
   "source": [
    "empty_list = []\n",
    "for index, number in enumerate(string):\n",
    "    if index % 2 == 0: #define conditional statement inside the loop body\n",
    "        empty_list.append(number)\n",
    "empty_list"
   ]
  },
  {
   "cell_type": "code",
   "execution_count": 55,
   "id": "b1f0a302",
   "metadata": {},
   "outputs": [],
   "source": [
    "#define dictionary {key:value} where keys are names and values are diseases\n",
    "diseases = {'Lilla':'diabetes',\n",
    "              'Pali':'ekcema'}"
   ]
  },
  {
   "cell_type": "code",
   "execution_count": 58,
   "id": "7351b28c",
   "metadata": {},
   "outputs": [
    {
     "name": "stdout",
     "output_type": "stream",
     "text": [
      "Lilla\n",
      "Pali\n"
     ]
    }
   ],
   "source": [
    "for element in diseases: #default loop is corresponding to just the keys\n",
    "    print(element)"
   ]
  },
  {
   "cell_type": "code",
   "execution_count": null,
   "id": "c1264d21",
   "metadata": {},
   "outputs": [],
   "source": [
    "for element in diseases: #to get the keys and also the values, you gotta use the dictionary[key] structure\n",
    "    print(element, diseases[element])"
   ]
  },
  {
   "cell_type": "code",
   "execution_count": 42,
   "id": "191c190b",
   "metadata": {},
   "outputs": [
    {
     "data": {
      "text/plain": [
       "'diabetes'"
      ]
     },
     "execution_count": 42,
     "metadata": {},
     "output_type": "execute_result"
    }
   ],
   "source": [
    "diseases['Lilla']"
   ]
  },
  {
   "cell_type": "code",
   "execution_count": 45,
   "id": "6a91dc31",
   "metadata": {},
   "outputs": [
    {
     "name": "stdout",
     "output_type": "stream",
     "text": [
      "Lilla diabetes\n",
      "Pali ekcema\n"
     ]
    }
   ],
   "source": [
    "for name, disease in diseases.items():#special loop head for getting also the keys and values\n",
    "    print(name, disease)"
   ]
  },
  {
   "cell_type": "code",
   "execution_count": 47,
   "id": "b11c1b68",
   "metadata": {},
   "outputs": [
    {
     "data": {
      "text/plain": [
       "['a', 'a', 'a']"
      ]
     },
     "execution_count": 47,
     "metadata": {},
     "output_type": "execute_result"
    }
   ],
   "source": [
    "#while loop (magyarul eloltesztelo ciklus --> a ciklus vegrehajtasa elott lecsekkolja a bemeneti feltetelt)\n",
    "empty_list = []\n",
    "while len(empty_list) < 3:#while the length of the list is smaller than 3, append 'a'\n",
    "    empty_list.append('a') #when the condition is not True anymore, the execution stops\n",
    "empty_list"
   ]
  },
  {
   "cell_type": "code",
   "execution_count": 50,
   "id": "b1f78161",
   "metadata": {},
   "outputs": [
    {
     "name": "stdout",
     "output_type": "stream",
     "text": [
      "1\n",
      "2\n",
      "3\n"
     ]
    },
    {
     "data": {
      "text/plain": [
       "['a', 'a', 'a']"
      ]
     },
     "execution_count": 50,
     "metadata": {},
     "output_type": "execute_result"
    }
   ],
   "source": [
    "empty_list = []\n",
    "n = 0#different use of while loop\n",
    "while n < 3:\n",
    "    empty_list.append('a')\n",
    "    n += 1#it is very important to increase the variable (which is corresponding to drive the loop)\n",
    "    #otherwise its gonna be an infinite loop\n",
    "    print(n)\n",
    "empty_list"
   ]
  },
  {
   "cell_type": "code",
   "execution_count": null,
   "id": "8d8eb707",
   "metadata": {},
   "outputs": [],
   "source": []
  }
 ],
 "metadata": {
  "kernelspec": {
   "display_name": "Python 3",
   "language": "python",
   "name": "python3"
  },
  "language_info": {
   "codemirror_mode": {
    "name": "ipython",
    "version": 3
   },
   "file_extension": ".py",
   "mimetype": "text/x-python",
   "name": "python",
   "nbconvert_exporter": "python",
   "pygments_lexer": "ipython3",
   "version": "3.8.8"
  }
 },
 "nbformat": 4,
 "nbformat_minor": 5
}
