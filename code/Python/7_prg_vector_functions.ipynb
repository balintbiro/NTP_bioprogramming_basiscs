{
 "cells": [
  {
   "cell_type": "code",
   "execution_count": 1,
   "id": "a344d2e6",
   "metadata": {},
   "outputs": [],
   "source": [
    "#importing modules\n",
    "import pandas as pd"
   ]
  },
  {
   "cell_type": "code",
   "execution_count": 2,
   "id": "e3aa37ce",
   "metadata": {},
   "outputs": [],
   "source": [
    "#create simple vector\n",
    "vector=pd.Series([1,2,3,4])"
   ]
  },
  {
   "cell_type": "code",
   "execution_count": 3,
   "id": "06ef8841",
   "metadata": {},
   "outputs": [
    {
     "data": {
      "text/plain": [
       "0    1\n",
       "1    2\n",
       "2    3\n",
       "3    4\n",
       "dtype: int64"
      ]
     },
     "execution_count": 3,
     "metadata": {},
     "output_type": "execute_result"
    }
   ],
   "source": [
    "vector"
   ]
  },
  {
   "cell_type": "code",
   "execution_count": 5,
   "id": "580ce167",
   "metadata": {},
   "outputs": [],
   "source": [
    "#create a list with nucleic acid sequences\n",
    "samples=['ATCGTAGCATC','ACATTTTTTACATT','AAAAAAAGGGGCCCCCCTTTTTTT','TTCCCGGGG']"
   ]
  },
  {
   "cell_type": "code",
   "execution_count": 6,
   "id": "5dc59a39",
   "metadata": {},
   "outputs": [],
   "source": [
    "#create vector from the previously defined list of sequences\n",
    "sequences=pd.Series(samples)"
   ]
  },
  {
   "cell_type": "code",
   "execution_count": 7,
   "id": "4a783876",
   "metadata": {},
   "outputs": [
    {
     "data": {
      "text/plain": [
       "0                 ATCGTAGCATC\n",
       "1              ACATTTTTTACATT\n",
       "2    AAAAAAAGGGGCCCCCCTTTTTTT\n",
       "3                   TTCCCGGGG\n",
       "dtype: object"
      ]
     },
     "execution_count": 7,
     "metadata": {},
     "output_type": "execute_result"
    }
   ],
   "source": [
    "sequences"
   ]
  },
  {
   "cell_type": "code",
   "execution_count": 10,
   "id": "4b1f2bc5",
   "metadata": {},
   "outputs": [],
   "source": [
    "#define own function for calculating gc content\n",
    "def gc(sequence):\n",
    "    g_count=sequence.count('G')\n",
    "    c_count=sequence.count('C')\n",
    "    gc_content=(g_count+c_count)/len(sequence)\n",
    "    return gc_content"
   ]
  },
  {
   "cell_type": "code",
   "execution_count": 11,
   "id": "f5992eab",
   "metadata": {},
   "outputs": [
    {
     "data": {
      "text/plain": [
       "0    0.454545\n",
       "1    0.142857\n",
       "2    0.416667\n",
       "3    0.777778\n",
       "dtype: float64"
      ]
     },
     "execution_count": 11,
     "metadata": {},
     "output_type": "execute_result"
    }
   ],
   "source": [
    "#one way of doing vectorized calculations is to define a function and apply to the vector\n",
    "sequences.apply(gc)"
   ]
  },
  {
   "cell_type": "code",
   "execution_count": 12,
   "id": "e7f67763",
   "metadata": {},
   "outputs": [
    {
     "data": {
      "text/plain": [
       "0    0.454545\n",
       "1    0.142857\n",
       "2    0.416667\n",
       "3    0.777778\n",
       "dtype: float64"
      ]
     },
     "execution_count": 12,
     "metadata": {},
     "output_type": "execute_result"
    }
   ],
   "source": [
    "#another way is to define lambda functions\n",
    "#these are simple functions that you can just define in the same line\n",
    "sequences.apply(lambda sequence:(sequence.count('G')+sequence.count('C'))/len(sequence))"
   ]
  },
  {
   "cell_type": "code",
   "execution_count": null,
   "id": "c628cc96",
   "metadata": {},
   "outputs": [],
   "source": []
  }
 ],
 "metadata": {
  "kernelspec": {
   "display_name": "Python 3",
   "language": "python",
   "name": "python3"
  },
  "language_info": {
   "codemirror_mode": {
    "name": "ipython",
    "version": 3
   },
   "file_extension": ".py",
   "mimetype": "text/x-python",
   "name": "python",
   "nbconvert_exporter": "python",
   "pygments_lexer": "ipython3",
   "version": "3.8.8"
  }
 },
 "nbformat": 4,
 "nbformat_minor": 5
}
