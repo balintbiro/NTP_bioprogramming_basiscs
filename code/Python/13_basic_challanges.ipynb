{
 "cells": [
  {
   "cell_type": "markdown",
   "id": "c9fafa08",
   "metadata": {},
   "source": [
    "1. Calculate the length of the given variable without using the len() function!\n",
    "\n",
    "variable='abcdefgh'"
   ]
  },
  {
   "cell_type": "code",
   "execution_count": 11,
   "id": "af35d059",
   "metadata": {},
   "outputs": [
    {
     "name": "stdout",
     "output_type": "stream",
     "text": [
      "8\n"
     ]
    }
   ],
   "source": [
    "variable='abcdefgh'\n",
    "count=0\n",
    "for element in variable:\n",
    "    count+=1\n",
    "print (count)"
   ]
  },
  {
   "cell_type": "markdown",
   "id": "1c918387",
   "metadata": {},
   "source": [
    "2. Summarize the vector without using built in function!\n",
    "\n",
    "vector=[1,4,2,8,2,1,5,6]"
   ]
  },
  {
   "cell_type": "code",
   "execution_count": 18,
   "id": "68e434be",
   "metadata": {},
   "outputs": [
    {
     "name": "stdout",
     "output_type": "stream",
     "text": [
      "29\n"
     ]
    }
   ],
   "source": [
    "vector=[1,4,2,8,2,1,5,6]\n",
    "type (vector)\n",
    "counter=0\n",
    "for element in vector:\n",
    "    counter+=element\n",
    "print (counter)"
   ]
  },
  {
   "cell_type": "markdown",
   "id": "28322a39",
   "metadata": {},
   "source": [
    "3. Write a Python program to compute the distance between the points (x1, y1) and (x2, y2)!"
   ]
  },
  {
   "cell_type": "code",
   "execution_count": null,
   "id": "30b9336f",
   "metadata": {},
   "outputs": [],
   "source": []
  },
  {
   "cell_type": "markdown",
   "id": "987dc77c",
   "metadata": {},
   "source": [
    "4. Reverse a variable without using built in functions!\n",
    "\n",
    "variable='abcdefgh'"
   ]
  },
  {
   "cell_type": "code",
   "execution_count": 42,
   "id": "197108e5",
   "metadata": {},
   "outputs": [
    {
     "name": "stdout",
     "output_type": "stream",
     "text": [
      "hgfedcba\n"
     ]
    }
   ],
   "source": [
    "variable='abcdefgh'\n",
    "variable1=''\n",
    "character=0\n",
    "for element in variable:\n",
    "    character+=-1\n",
    "    variable1+=variable[character]\n",
    "print(variable1)"
   ]
  },
  {
   "cell_type": "code",
   "execution_count": 43,
   "id": "93ea02e9",
   "metadata": {},
   "outputs": [
    {
     "name": "stdout",
     "output_type": "stream",
     "text": [
      "hgfedcba\n"
     ]
    }
   ],
   "source": [
    "variable='abcdefgh'\n",
    "variable1=''\n",
    "character=-1\n",
    "for element in variable:\n",
    "    variable1+=variable[character]\n",
    "    character+=-1\n",
    "print(variable1)"
   ]
  },
  {
   "cell_type": "markdown",
   "id": "0cf2cf3c",
   "metadata": {},
   "source": [
    "5. Write a Python program to check whether a variable is numeric!\n",
    "\n",
    "variable='5'"
   ]
  },
  {
   "cell_type": "code",
   "execution_count": 50,
   "id": "506e028f",
   "metadata": {},
   "outputs": [
    {
     "name": "stdout",
     "output_type": "stream",
     "text": [
      "that is not a number\n"
     ]
    }
   ],
   "source": [
    "variable='a'\n",
    "number=10\n",
    "try:\n",
    "    int(variable)\n",
    "except ValueError:\n",
    "    print('that is not a number')\n",
    "\n",
    "\n"
   ]
  },
  {
   "cell_type": "code",
   "execution_count": null,
   "id": "00c14c35",
   "metadata": {},
   "outputs": [],
   "source": [
    "numbers=[]\n",
    "for element in lista:\n",
    "    try:\n",
    "        numbers.append(int(element))\n",
    "    except ValueError:\n",
    "        print(element)"
   ]
  },
  {
   "cell_type": "markdown",
   "id": "e2b1bc66",
   "metadata": {},
   "source": [
    "6. Find the maximum of a vector without using built in functions!\n",
    "\n",
    "vector=[1,4,2,8,2,1,5,6]"
   ]
  },
  {
   "cell_type": "code",
   "execution_count": 56,
   "id": "32b0794d",
   "metadata": {},
   "outputs": [
    {
     "name": "stdout",
     "output_type": "stream",
     "text": [
      "1\n",
      "4\n",
      "8\n"
     ]
    }
   ],
   "source": [
    "vector=[1,4,2,8,2,1,5,6]\n",
    "number=0\n",
    "for element in vector:\n",
    "    if element>number:\n",
    "        number=element\n",
    "        print (number)"
   ]
  },
  {
   "cell_type": "markdown",
   "id": "117c0240",
   "metadata": {},
   "source": [
    "7. Find whether an element is duplicated in a variable without using built in functions!\n",
    "\n",
    "vector=[1,4,2,8,2,1,5,6]"
   ]
  },
  {
   "cell_type": "code",
   "execution_count": 72,
   "id": "b8c5520c",
   "metadata": {},
   "outputs": [
    {
     "name": "stdout",
     "output_type": "stream",
     "text": [
      "2\n",
      "1\n"
     ]
    }
   ],
   "source": [
    "vector=[1,4,2,8,2,1,5,6]\n",
    "numbers=[]\n",
    "for element in vector:\n",
    "    if element not in numbers:\n",
    "        numbers.append(element)\n",
    "    else:\n",
    "        print(element)"
   ]
  },
  {
   "cell_type": "markdown",
   "id": "5c097695",
   "metadata": {},
   "source": [
    "8. Find the minimum of a variable without using built in functions!\n",
    "\n",
    "vector=[1,4,2,8,2,1,5,6]"
   ]
  },
  {
   "cell_type": "code",
   "execution_count": 62,
   "id": "cd62ecdf",
   "metadata": {},
   "outputs": [
    {
     "name": "stdout",
     "output_type": "stream",
     "text": [
      "1\n"
     ]
    }
   ],
   "source": [
    "vector=[1,4,2,8,2,1,5,6]\n",
    "number=10\n",
    "for element in vector:\n",
    "    if element<number:\n",
    "        number=element\n",
    "print (number)"
   ]
  },
  {
   "cell_type": "markdown",
   "id": "d82a7aa1",
   "metadata": {},
   "source": [
    "9. Check whether the given string is palindrom!\n",
    "\n",
    "string='abcdcba'"
   ]
  },
  {
   "cell_type": "code",
   "execution_count": 79,
   "id": "5f1bd901",
   "metadata": {},
   "outputs": [
    {
     "name": "stdout",
     "output_type": "stream",
     "text": [
      "Palindrom!\n"
     ]
    }
   ],
   "source": [
    "string='abcdcba'\n",
    "string_reverse=string[::-1]\n",
    "if string == string_reverse:\n",
    "    print ('Palindrom!')\n",
    "else:\n",
    "    print ('Not a palindrom!')"
   ]
  },
  {
   "cell_type": "code",
   "execution_count": 80,
   "id": "74f73721",
   "metadata": {},
   "outputs": [
    {
     "data": {
      "text/plain": [
       "'abcdcba'"
      ]
     },
     "execution_count": 80,
     "metadata": {},
     "output_type": "execute_result"
    }
   ],
   "source": [
    "string_reverse"
   ]
  },
  {
   "cell_type": "markdown",
   "id": "26bd0df4",
   "metadata": {},
   "source": [
    "10. Sort the given variable in ascending order without using built in functions!\n",
    "\n",
    "variable=[3,1,2]"
   ]
  },
  {
   "cell_type": "code",
   "execution_count": null,
   "id": "681f2283",
   "metadata": {},
   "outputs": [],
   "source": []
  }
 ],
 "metadata": {
  "kernelspec": {
   "display_name": "Python 3",
   "language": "python",
   "name": "python3"
  },
  "language_info": {
   "codemirror_mode": {
    "name": "ipython",
    "version": 3
   },
   "file_extension": ".py",
   "mimetype": "text/x-python",
   "name": "python",
   "nbconvert_exporter": "python",
   "pygments_lexer": "ipython3",
   "version": "3.8.8"
  }
 },
 "nbformat": 4,
 "nbformat_minor": 5
}
