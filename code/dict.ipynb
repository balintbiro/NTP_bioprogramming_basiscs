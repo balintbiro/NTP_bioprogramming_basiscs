{
 "cells": [
  {
   "cell_type": "code",
   "execution_count": 4,
   "id": "9764bf05",
   "metadata": {},
   "outputs": [],
   "source": [
    "aa_dict={'TYR':'T',\n",
    "                  'PHE':'P'}"
   ]
  },
  {
   "cell_type": "code",
   "execution_count": 3,
   "id": "244e55b7",
   "metadata": {},
   "outputs": [],
   "source": [
    "three_letter_sequence=['TYR','PHE']"
   ]
  },
  {
   "cell_type": "code",
   "execution_count": 6,
   "id": "c7ba8195",
   "metadata": {},
   "outputs": [
    {
     "data": {
      "text/plain": [
       "'TP'"
      ]
     },
     "execution_count": 6,
     "metadata": {},
     "output_type": "execute_result"
    }
   ],
   "source": [
    "one_letter_sequence=''\n",
    "for aa in three_letter_sequence:\n",
    "    one_letter_sequence+=aa_dict[aa]\n",
    "one_letter_sequence"
   ]
  },
  {
   "cell_type": "code",
   "execution_count": 5,
   "id": "24dc56b0",
   "metadata": {},
   "outputs": [
    {
     "data": {
      "text/plain": [
       "'T'"
      ]
     },
     "execution_count": 5,
     "metadata": {},
     "output_type": "execute_result"
    }
   ],
   "source": [
    "aa_dict['TYR']"
   ]
  },
  {
   "cell_type": "code",
   "execution_count": null,
   "id": "12af6c48",
   "metadata": {},
   "outputs": [],
   "source": []
  }
 ],
 "metadata": {
  "kernelspec": {
   "display_name": "Python 3",
   "language": "python",
   "name": "python3"
  },
  "language_info": {
   "codemirror_mode": {
    "name": "ipython",
    "version": 3
   },
   "file_extension": ".py",
   "mimetype": "text/x-python",
   "name": "python",
   "nbconvert_exporter": "python",
   "pygments_lexer": "ipython3",
   "version": "3.7.1"
  }
 },
 "nbformat": 4,
 "nbformat_minor": 5
}
