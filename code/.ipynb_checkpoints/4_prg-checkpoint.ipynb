{
 "cells": [
  {
   "cell_type": "code",
   "execution_count": 1,
   "id": "62c5f5c4",
   "metadata": {},
   "outputs": [
    {
     "ename": "OSError",
     "evalue": "[Errno 22] Invalid argument: 'Z:\\x08alint\\np/trial.fasta'",
     "output_type": "error",
     "traceback": [
      "\u001b[1;31m---------------------------------------------------------------------------\u001b[0m",
      "\u001b[1;31mOSError\u001b[0m                                   Traceback (most recent call last)",
      "\u001b[1;32m<ipython-input-1-06d55cb08269>\u001b[0m in \u001b[0;36m<module>\u001b[1;34m\u001b[0m\n\u001b[1;32m----> 1\u001b[1;33m \u001b[1;32mwith\u001b[0m \u001b[0mopen\u001b[0m \u001b[1;33m(\u001b[0m\u001b[1;34m'Z:\\balint\\np/trial.fasta'\u001b[0m\u001b[1;33m)\u001b[0m \u001b[1;32mas\u001b[0m \u001b[0mproba\u001b[0m\u001b[1;33m:\u001b[0m\u001b[1;33m\u001b[0m\u001b[1;33m\u001b[0m\u001b[0m\n\u001b[0m\u001b[0;32m      2\u001b[0m     \u001b[0mproba\u001b[0m\u001b[1;33m.\u001b[0m\u001b[0mwrite\u001b[0m\u001b[1;33m(\u001b[0m\u001b[1;34m'>abc123\\n'\u001b[0m\u001b[1;33m)\u001b[0m\u001b[1;33m\u001b[0m\u001b[1;33m\u001b[0m\u001b[0m\n",
      "\u001b[1;31mOSError\u001b[0m: [Errno 22] Invalid argument: 'Z:\\x08alint\\np/trial.fasta'"
     ]
    }
   ],
   "source": [
    "with open ('Z:\\balint\\np/trial.fasta') as proba:\n",
    "    proba.write('>abc123\\n')"
   ]
  },
  {
   "cell_type": "code",
   "execution_count": 4,
   "id": "7afa8d25",
   "metadata": {},
   "outputs": [
    {
     "ename": "OSError",
     "evalue": "[Errno 22] Invalid argument: 'Z:\\x08alint\\np/trial.fasta'",
     "output_type": "error",
     "traceback": [
      "\u001b[1;31m---------------------------------------------------------------------------\u001b[0m",
      "\u001b[1;31mOSError\u001b[0m                                   Traceback (most recent call last)",
      "\u001b[1;32m<ipython-input-4-06d55cb08269>\u001b[0m in \u001b[0;36m<module>\u001b[1;34m\u001b[0m\n\u001b[1;32m----> 1\u001b[1;33m \u001b[1;32mwith\u001b[0m \u001b[0mopen\u001b[0m \u001b[1;33m(\u001b[0m\u001b[1;34m'Z:\\balint\\np/trial.fasta'\u001b[0m\u001b[1;33m)\u001b[0m \u001b[1;32mas\u001b[0m \u001b[0mproba\u001b[0m\u001b[1;33m:\u001b[0m\u001b[1;33m\u001b[0m\u001b[1;33m\u001b[0m\u001b[0m\n\u001b[0m\u001b[0;32m      2\u001b[0m     \u001b[0mproba\u001b[0m\u001b[1;33m.\u001b[0m\u001b[0mwrite\u001b[0m\u001b[1;33m(\u001b[0m\u001b[1;34m'>abc123\\n'\u001b[0m\u001b[1;33m)\u001b[0m\u001b[1;33m\u001b[0m\u001b[1;33m\u001b[0m\u001b[0m\n",
      "\u001b[1;31mOSError\u001b[0m: [Errno 22] Invalid argument: 'Z:\\x08alint\\np/trial.fasta'"
     ]
    }
   ],
   "source": [
    "with open ('Z:\\balint\\np/trial.fasta') as proba:\n",
    "    proba.write('>abc123\\n')"
   ]
  },
  {
   "cell_type": "code",
   "execution_count": null,
   "id": "218f2032",
   "metadata": {},
   "outputs": [],
   "source": [
    "with open ('Z:\\balint\\np/trial.fasta') as proba:\n",
    "    proba.write('>abc123\\n')"
   ]
  },
  {
   "cell_type": "code",
   "execution_count": 14,
   "id": "22bdf359",
   "metadata": {},
   "outputs": [],
   "source": [
    "with open (r'Z:\\balint\\np/trial.fasta','w') as proba:\n",
    "    proba.write('>abc123\\n')"
   ]
  },
  {
   "cell_type": "code",
   "execution_count": 15,
   "id": "bcdb1606",
   "metadata": {},
   "outputs": [],
   "source": [
    "with open (r'Z:\\balint\\np/trial.fasta','a') as proba:\n",
    "    proba.write('ATCTGATCAGCTAGCTAGCATCGTGGGGGATCGATCGATCAGT')"
   ]
  },
  {
   "cell_type": "code",
   "execution_count": 17,
   "id": "73005131",
   "metadata": {},
   "outputs": [
    {
     "name": "stdout",
     "output_type": "stream",
     "text": [
      "['>abc123\\n', 'ATCTGATCAGCTAGCTAGCATCGTGGGGGATCGATCGATCAGT']\n"
     ]
    }
   ],
   "source": [
    "with open (r'Z:\\balint\\np/trial.fasta') as proba:\n",
    "    content = proba.readlines()\n",
    "    print((content))"
   ]
  },
  {
   "cell_type": "code",
   "execution_count": 20,
   "id": "d401568f",
   "metadata": {},
   "outputs": [
    {
     "data": {
      "text/plain": [
       "['>abc123\\n', 'ATCTGATCAGCTAGCTAGCATCGTGGGGGATCGATCGATCAGT']"
      ]
     },
     "execution_count": 20,
     "metadata": {},
     "output_type": "execute_result"
    }
   ],
   "source": [
    "content = open(r'Z:\\balint\\np/trial.fasta')\n",
    "content.readlines()"
   ]
  },
  {
   "cell_type": "code",
   "execution_count": 21,
   "id": "8b12f97b",
   "metadata": {},
   "outputs": [
    {
     "name": "stdout",
     "output_type": "stream",
     "text": [
      ">abc123\n",
      "\n",
      "ATCTGATCAGCTAGCTAGCATCGTGGGGGATCGATCGATCAGT\n"
     ]
    }
   ],
   "source": [
    "with open (r'Z:\\balint\\np/trial.fasta') as proba:\n",
    "    content = proba.readlines()\n",
    "    for line in content:\n",
    "        print(line)"
   ]
  },
  {
   "cell_type": "code",
   "execution_count": 22,
   "id": "82a19f70",
   "metadata": {},
   "outputs": [
    {
     "name": "stdout",
     "output_type": "stream",
     "text": [
      ">abc123\n",
      "ATCTGATCAGCTAGCTAGCATCGTGGGGGATCGATCGATCAG\n"
     ]
    }
   ],
   "source": [
    "with open (r'Z:\\balint\\np/trial.fasta') as proba:\n",
    "    content = proba.readlines()\n",
    "    for line in content:\n",
    "        print(line[:-1])"
   ]
  },
  {
   "cell_type": "code",
   "execution_count": 23,
   "id": "0cb90119",
   "metadata": {},
   "outputs": [
    {
     "name": "stdout",
     "output_type": "stream",
     "text": [
      ">abc123\n",
      "ATCTGATCAGCTAGCTAGCATCGTGGGGGATCGATCGATCAGT\n"
     ]
    }
   ],
   "source": [
    "with open (r'Z:\\balint\\np/trial.fasta') as proba:\n",
    "    content = proba.readlines()\n",
    "    for line in content:\n",
    "        if line[0] == '>':\n",
    "            print(line[:-1])\n",
    "        else:\n",
    "            print(line)"
   ]
  },
  {
   "cell_type": "code",
   "execution_count": 24,
   "id": "1196f4fe",
   "metadata": {},
   "outputs": [],
   "source": [
    "import os"
   ]
  },
  {
   "cell_type": "code",
   "execution_count": 28,
   "id": "a6c187ef",
   "metadata": {},
   "outputs": [
    {
     "data": {
      "text/plain": [
       "['.ipynb_checkpoints',\n",
       " '1_prg.ipynb',\n",
       " '2_prg.ipynb',\n",
       " '3_prg.ipynb',\n",
       " 'Untitled.ipynb']"
      ]
     },
     "execution_count": 28,
     "metadata": {},
     "output_type": "execute_result"
    }
   ],
   "source": [
    "os.listdir('../code')"
   ]
  },
  {
   "cell_type": "code",
   "execution_count": 32,
   "id": "966774d2",
   "metadata": {},
   "outputs": [],
   "source": [
    "with open ('../data/trial.fasta','w') as proba:\n",
    "    proba.write('>abc123\\n')\n",
    "    proba.write('ATCTGATCAGCTAGCTAGCATCGTGGGGGATCGATCGATCAGT')"
   ]
  },
  {
   "cell_type": "code",
   "execution_count": 35,
   "id": "afcd2850",
   "metadata": {},
   "outputs": [
    {
     "name": "stdout",
     "output_type": "stream",
     "text": [
      "1\n",
      "2\n",
      "3\n",
      "4\n"
     ]
    }
   ],
   "source": [
    "os.path.join('../data/')\n",
    "for i in range(1,5,1):\n",
    "    print(i)"
   ]
  },
  {
   "cell_type": "code",
   "execution_count": 36,
   "id": "2c69d170",
   "metadata": {},
   "outputs": [
    {
     "name": "stdout",
     "output_type": "stream",
     "text": [
      "1.fasta\n",
      "2.fasta\n",
      "3.fasta\n",
      "4.fasta\n"
     ]
    }
   ],
   "source": [
    "os.path.join('../data/')\n",
    "for i in range(1,5,1):\n",
    "    print('%s.fasta' % i)"
   ]
  },
  {
   "cell_type": "code",
   "execution_count": 37,
   "id": "0ed5d688",
   "metadata": {},
   "outputs": [
    {
     "name": "stdout",
     "output_type": "stream",
     "text": [
      "../data/1.fasta\n",
      "../data/2.fasta\n",
      "../data/3.fasta\n",
      "../data/4.fasta\n"
     ]
    }
   ],
   "source": [
    "home_dir = os.path.join('../data/')\n",
    "for i in range(1,5,1):\n",
    "    filename = '%s.fasta' % i\n",
    "    print(home_dir + filename)"
   ]
  },
  {
   "cell_type": "code",
   "execution_count": 38,
   "id": "7851e28a",
   "metadata": {},
   "outputs": [
    {
     "name": "stdout",
     "output_type": "stream",
     "text": [
      "<class 'int'>\n",
      "<class 'int'>\n",
      "<class 'int'>\n",
      "<class 'int'>\n"
     ]
    }
   ],
   "source": [
    "home_dir = os.path.join('../data/')\n",
    "for i in range(1,5,1):\n",
    "    filename = '%s.fasta' % i\n",
    "    print(type(i))"
   ]
  },
  {
   "cell_type": "code",
   "execution_count": 39,
   "id": "e8242830",
   "metadata": {},
   "outputs": [],
   "source": [
    "home_dir = os.path.join('../data/')\n",
    "for i in range(1,5,1):\n",
    "    filename = '%s.fasta' % i\n",
    "    with open (home_dir + filename, 'w') as outfile:\n",
    "        outfile.write(str(i))"
   ]
  },
  {
   "cell_type": "code",
   "execution_count": 43,
   "id": "3b08d9b2",
   "metadata": {},
   "outputs": [],
   "source": [
    "home_dir = os.path.join('../data/')\n",
    "for i in range(1,5,1):\n",
    "    filename = f'{i}.fasta'\n",
    "    with open (home_dir + filename, 'w') as outfile:\n",
    "        outfile.write(str(i))"
   ]
  },
  {
   "cell_type": "code",
   "execution_count": 49,
   "id": "c409bd49",
   "metadata": {},
   "outputs": [
    {
     "name": "stdout",
     "output_type": "stream",
     "text": [
      "0.5116279069767442\n"
     ]
    }
   ],
   "source": [
    "with open (home_dir + 'trial.fasta') as infile:\n",
    "    content = infile.readlines()\n",
    "    for line in content:\n",
    "        if line[0] == '>':\n",
    "            pass\n",
    "        else:\n",
    "            sequence = line\n",
    "            g_count = sequence.count('G')\n",
    "            c_count = sequence.count('C')\n",
    "            gc_ratio = (g_count + c_count) / len(sequence)\n",
    "            print(gc_ratio)"
   ]
  },
  {
   "cell_type": "code",
   "execution_count": null,
   "id": "e566473b",
   "metadata": {},
   "outputs": [],
   "source": []
  }
 ],
 "metadata": {
  "kernelspec": {
   "display_name": "Python 3",
   "language": "python",
   "name": "python3"
  },
  "language_info": {
   "codemirror_mode": {
    "name": "ipython",
    "version": 3
   },
   "file_extension": ".py",
   "mimetype": "text/x-python",
   "name": "python",
   "nbconvert_exporter": "python",
   "pygments_lexer": "ipython3",
   "version": "3.7.1"
  }
 },
 "nbformat": 4,
 "nbformat_minor": 5
}
