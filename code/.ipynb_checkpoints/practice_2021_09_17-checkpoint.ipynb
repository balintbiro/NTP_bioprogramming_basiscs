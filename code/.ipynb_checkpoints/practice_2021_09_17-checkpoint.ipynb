{
 "cells": [
  {
   "cell_type": "code",
   "execution_count": 3,
   "id": "e8da4101",
   "metadata": {},
   "outputs": [],
   "source": [
    "import pandas as pd"
   ]
  },
  {
   "cell_type": "code",
   "execution_count": 11,
   "id": "d9f54dc5",
   "metadata": {},
   "outputs": [
    {
     "data": {
      "text/html": [
       "<div>\n",
       "<style scoped>\n",
       "    .dataframe tbody tr th:only-of-type {\n",
       "        vertical-align: middle;\n",
       "    }\n",
       "\n",
       "    .dataframe tbody tr th {\n",
       "        vertical-align: top;\n",
       "    }\n",
       "\n",
       "    .dataframe thead th {\n",
       "        text-align: right;\n",
       "    }\n",
       "</style>\n",
       "<table border=\"1\" class=\"dataframe\">\n",
       "  <thead>\n",
       "    <tr style=\"text-align: right;\">\n",
       "      <th></th>\n",
       "      <th>patientunitstayid</th>\n",
       "      <th>culturetakenoffset</th>\n",
       "      <th>culturesite</th>\n",
       "      <th>organism</th>\n",
       "      <th>antibiotic</th>\n",
       "      <th>sensitivitylevel</th>\n",
       "    </tr>\n",
       "    <tr>\n",
       "      <th>microlabid</th>\n",
       "      <th></th>\n",
       "      <th></th>\n",
       "      <th></th>\n",
       "      <th></th>\n",
       "      <th></th>\n",
       "      <th></th>\n",
       "    </tr>\n",
       "  </thead>\n",
       "  <tbody>\n",
       "    <tr>\n",
       "      <th>549559</th>\n",
       "      <td>983524</td>\n",
       "      <td>-688</td>\n",
       "      <td>Blood, Venipuncture</td>\n",
       "      <td>gram positive rods</td>\n",
       "      <td>NaN</td>\n",
       "      <td>NaN</td>\n",
       "    </tr>\n",
       "    <tr>\n",
       "      <th>549555</th>\n",
       "      <td>983524</td>\n",
       "      <td>-5481</td>\n",
       "      <td>Stool</td>\n",
       "      <td>no growth</td>\n",
       "      <td>NaN</td>\n",
       "      <td>NaN</td>\n",
       "    </tr>\n",
       "    <tr>\n",
       "      <th>549565</th>\n",
       "      <td>983524</td>\n",
       "      <td>324</td>\n",
       "      <td>Stool</td>\n",
       "      <td>no growth</td>\n",
       "      <td>NaN</td>\n",
       "      <td>NaN</td>\n",
       "    </tr>\n",
       "    <tr>\n",
       "      <th>549562</th>\n",
       "      <td>983524</td>\n",
       "      <td>-686</td>\n",
       "      <td>Blood, Central Line</td>\n",
       "      <td>gram negative rods</td>\n",
       "      <td>NaN</td>\n",
       "      <td>NaN</td>\n",
       "    </tr>\n",
       "    <tr>\n",
       "      <th>549564</th>\n",
       "      <td>983524</td>\n",
       "      <td>-681</td>\n",
       "      <td>Blood, Central Line</td>\n",
       "      <td>gram positive cocci</td>\n",
       "      <td>NaN</td>\n",
       "      <td>NaN</td>\n",
       "    </tr>\n",
       "    <tr>\n",
       "      <th>...</th>\n",
       "      <td>...</td>\n",
       "      <td>...</td>\n",
       "      <td>...</td>\n",
       "      <td>...</td>\n",
       "      <td>...</td>\n",
       "      <td>...</td>\n",
       "    </tr>\n",
       "    <tr>\n",
       "      <th>1617032</th>\n",
       "      <td>3160582</td>\n",
       "      <td>411</td>\n",
       "      <td>Other</td>\n",
       "      <td>mixed flora</td>\n",
       "      <td>NaN</td>\n",
       "      <td>NaN</td>\n",
       "    </tr>\n",
       "    <tr>\n",
       "      <th>1617031</th>\n",
       "      <td>3160582</td>\n",
       "      <td>-521</td>\n",
       "      <td>Blood, Venipuncture</td>\n",
       "      <td>no growth</td>\n",
       "      <td>NaN</td>\n",
       "      <td>NaN</td>\n",
       "    </tr>\n",
       "    <tr>\n",
       "      <th>1617033</th>\n",
       "      <td>3160582</td>\n",
       "      <td>411</td>\n",
       "      <td>Other</td>\n",
       "      <td>Candida albicans</td>\n",
       "      <td>NaN</td>\n",
       "      <td>NaN</td>\n",
       "    </tr>\n",
       "    <tr>\n",
       "      <th>1617030</th>\n",
       "      <td>3160582</td>\n",
       "      <td>-522</td>\n",
       "      <td>Blood, Venipuncture</td>\n",
       "      <td>no growth</td>\n",
       "      <td>NaN</td>\n",
       "      <td>NaN</td>\n",
       "    </tr>\n",
       "    <tr>\n",
       "      <th>1627296</th>\n",
       "      <td>3160583</td>\n",
       "      <td>-7</td>\n",
       "      <td>Sputum, Tracheal Specimen</td>\n",
       "      <td>no growth</td>\n",
       "      <td>NaN</td>\n",
       "      <td>NaN</td>\n",
       "    </tr>\n",
       "  </tbody>\n",
       "</table>\n",
       "<p>16996 rows × 6 columns</p>\n",
       "</div>"
      ],
      "text/plain": [
       "            patientunitstayid  culturetakenoffset                culturesite  \\\n",
       "microlabid                                                                     \n",
       "549559                 983524                -688        Blood, Venipuncture   \n",
       "549555                 983524               -5481                      Stool   \n",
       "549565                 983524                 324                      Stool   \n",
       "549562                 983524                -686        Blood, Central Line   \n",
       "549564                 983524                -681        Blood, Central Line   \n",
       "...                       ...                 ...                        ...   \n",
       "1617032               3160582                 411                      Other   \n",
       "1617031               3160582                -521        Blood, Venipuncture   \n",
       "1617033               3160582                 411                      Other   \n",
       "1617030               3160582                -522        Blood, Venipuncture   \n",
       "1627296               3160583                  -7  Sputum, Tracheal Specimen   \n",
       "\n",
       "                       organism antibiotic sensitivitylevel  \n",
       "microlabid                                                   \n",
       "549559       gram positive rods        NaN              NaN  \n",
       "549555                no growth        NaN              NaN  \n",
       "549565                no growth        NaN              NaN  \n",
       "549562       gram negative rods        NaN              NaN  \n",
       "549564      gram positive cocci        NaN              NaN  \n",
       "...                         ...        ...              ...  \n",
       "1617032             mixed flora        NaN              NaN  \n",
       "1617031               no growth        NaN              NaN  \n",
       "1617033        Candida albicans        NaN              NaN  \n",
       "1617030               no growth        NaN              NaN  \n",
       "1627296               no growth        NaN              NaN  \n",
       "\n",
       "[16996 rows x 6 columns]"
      ]
     },
     "execution_count": 11,
     "metadata": {},
     "output_type": "execute_result"
    }
   ],
   "source": [
    "matrix = pd.read_csv('../data/microLab.csv', index_col=0)\n",
    "matrix"
   ]
  },
  {
   "cell_type": "code",
   "execution_count": 12,
   "id": "72512f32",
   "metadata": {},
   "outputs": [],
   "source": [
    "culturesites=matrix['culturesite']"
   ]
  },
  {
   "cell_type": "code",
   "execution_count": 13,
   "id": "ba55b7bb",
   "metadata": {},
   "outputs": [
    {
     "data": {
      "text/plain": [
       "microlabid\n",
       "549559           Blood, Venipuncture\n",
       "549555                         Stool\n",
       "549565                         Stool\n",
       "549562           Blood, Central Line\n",
       "549564           Blood, Central Line\n",
       "                     ...            \n",
       "1617032                        Other\n",
       "1617031          Blood, Venipuncture\n",
       "1617033                        Other\n",
       "1617030          Blood, Venipuncture\n",
       "1627296    Sputum, Tracheal Specimen\n",
       "Name: culturesite, Length: 16996, dtype: object"
      ]
     },
     "execution_count": 13,
     "metadata": {},
     "output_type": "execute_result"
    }
   ],
   "source": [
    "culturesites"
   ]
  },
  {
   "cell_type": "code",
   "execution_count": 17,
   "id": "ba4e1384",
   "metadata": {},
   "outputs": [
    {
     "data": {
      "text/plain": [
       "array(['Blood, Venipuncture', 'Stool', 'Blood, Central Line',\n",
       "       'Urine, Voided Specimen', 'Sputum, Tracheal Specimen',\n",
       "       'Nasopharynx', 'Urine, Catheter Specimen', 'Sputum, Expectorated',\n",
       "       'Bronchial Lavage', 'CSF', 'Other', 'Wound, Drainage Fluid',\n",
       "       'Wound, Decubitus', 'Abscess', 'Pleural Fluid', 'Peritoneal Fluid',\n",
       "       'Wound, Surgical', 'Bile', 'Rectal Swab', 'Skin'], dtype=object)"
      ]
     },
     "execution_count": 17,
     "metadata": {},
     "output_type": "execute_result"
    }
   ],
   "source": [
    "culturesites.unique()"
   ]
  },
  {
   "cell_type": "code",
   "execution_count": 18,
   "id": "53143e16",
   "metadata": {},
   "outputs": [
    {
     "data": {
      "text/plain": [
       "20"
      ]
     },
     "execution_count": 18,
     "metadata": {},
     "output_type": "execute_result"
    }
   ],
   "source": [
    "len(culturesites.unique())"
   ]
  },
  {
   "cell_type": "code",
   "execution_count": 22,
   "id": "51420405",
   "metadata": {},
   "outputs": [
    {
     "data": {
      "text/plain": [
       "numpy.ndarray"
      ]
     },
     "execution_count": 22,
     "metadata": {},
     "output_type": "execute_result"
    }
   ],
   "source": [
    "type(culturesites.unique())"
   ]
  },
  {
   "cell_type": "code",
   "execution_count": 23,
   "id": "917e23b5",
   "metadata": {},
   "outputs": [
    {
     "data": {
      "text/plain": [
       "0           Blood, Venipuncture\n",
       "1                         Stool\n",
       "2           Blood, Central Line\n",
       "3        Urine, Voided Specimen\n",
       "4     Sputum, Tracheal Specimen\n",
       "5                   Nasopharynx\n",
       "6      Urine, Catheter Specimen\n",
       "7          Sputum, Expectorated\n",
       "8              Bronchial Lavage\n",
       "9                           CSF\n",
       "10                        Other\n",
       "11        Wound, Drainage Fluid\n",
       "12             Wound, Decubitus\n",
       "13                      Abscess\n",
       "14                Pleural Fluid\n",
       "15             Peritoneal Fluid\n",
       "16              Wound, Surgical\n",
       "17                         Bile\n",
       "18                  Rectal Swab\n",
       "19                         Skin\n",
       "dtype: object"
      ]
     },
     "execution_count": 23,
     "metadata": {},
     "output_type": "execute_result"
    }
   ],
   "source": [
    "pd.Series(culturesites.unique())"
   ]
  },
  {
   "cell_type": "code",
   "execution_count": 25,
   "id": "483040ba",
   "metadata": {},
   "outputs": [],
   "source": [
    "subdf = matrix.loc[matrix['culturesite']=='Blood, Venipuncture']"
   ]
  },
  {
   "cell_type": "code",
   "execution_count": null,
   "id": "160fac66",
   "metadata": {},
   "outputs": [],
   "source": []
  }
 ],
 "metadata": {
  "kernelspec": {
   "display_name": "Python 3",
   "language": "python",
   "name": "python3"
  },
  "language_info": {
   "codemirror_mode": {
    "name": "ipython",
    "version": 3
   },
   "file_extension": ".py",
   "mimetype": "text/x-python",
   "name": "python",
   "nbconvert_exporter": "python",
   "pygments_lexer": "ipython3",
   "version": "3.8.8"
  }
 },
 "nbformat": 4,
 "nbformat_minor": 5
}
