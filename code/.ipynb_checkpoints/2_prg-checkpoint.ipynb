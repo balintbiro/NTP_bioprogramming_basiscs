{
 "cells": [
  {
   "cell_type": "code",
   "execution_count": 1,
   "id": "a3a2869b",
   "metadata": {},
   "outputs": [],
   "source": [
    "string = 'AAGCGCGTGATATCGAT'"
   ]
  },
  {
   "cell_type": "code",
   "execution_count": 2,
   "id": "b79afa0e",
   "metadata": {},
   "outputs": [],
   "source": [
    "substring = 'GTGA'"
   ]
  },
  {
   "cell_type": "code",
   "execution_count": 3,
   "id": "4a932d0a",
   "metadata": {},
   "outputs": [
    {
     "data": {
      "text/plain": [
       "6"
      ]
     },
     "execution_count": 3,
     "metadata": {},
     "output_type": "execute_result"
    }
   ],
   "source": [
    "string.find(substring)"
   ]
  },
  {
   "cell_type": "code",
   "execution_count": 4,
   "id": "eee66d51",
   "metadata": {},
   "outputs": [
    {
     "data": {
      "text/plain": [
       "'GTGATATCGAT'"
      ]
     },
     "execution_count": 4,
     "metadata": {},
     "output_type": "execute_result"
    }
   ],
   "source": [
    "string[6:]"
   ]
  },
  {
   "cell_type": "code",
   "execution_count": 5,
   "id": "96098900",
   "metadata": {},
   "outputs": [
    {
     "data": {
      "text/plain": [
       "4"
      ]
     },
     "execution_count": 5,
     "metadata": {},
     "output_type": "execute_result"
    }
   ],
   "source": [
    "len(substring)"
   ]
  },
  {
   "cell_type": "code",
   "execution_count": 7,
   "id": "6d7408dd",
   "metadata": {},
   "outputs": [
    {
     "data": {
      "text/plain": [
       "'GTGA'"
      ]
     },
     "execution_count": 7,
     "metadata": {},
     "output_type": "execute_result"
    }
   ],
   "source": [
    "string[6:(6 + len(substring))]"
   ]
  },
  {
   "cell_type": "code",
   "execution_count": 11,
   "id": "e6e33277",
   "metadata": {},
   "outputs": [
    {
     "data": {
      "text/plain": [
       "6"
      ]
     },
     "execution_count": 11,
     "metadata": {},
     "output_type": "execute_result"
    }
   ],
   "source": [
    "start = string.find(substring)\n",
    "start"
   ]
  },
  {
   "cell_type": "code",
   "execution_count": 12,
   "id": "bd1386da",
   "metadata": {},
   "outputs": [
    {
     "data": {
      "text/plain": [
       "10"
      ]
     },
     "execution_count": 12,
     "metadata": {},
     "output_type": "execute_result"
    }
   ],
   "source": [
    "end = start + len(substring)\n",
    "end"
   ]
  },
  {
   "cell_type": "code",
   "execution_count": 10,
   "id": "dd35976f",
   "metadata": {},
   "outputs": [
    {
     "data": {
      "text/plain": [
       "'GTGA'"
      ]
     },
     "execution_count": 10,
     "metadata": {},
     "output_type": "execute_result"
    }
   ],
   "source": [
    "string[start:end]"
   ]
  },
  {
   "cell_type": "code",
   "execution_count": 13,
   "id": "16826804",
   "metadata": {},
   "outputs": [
    {
     "data": {
      "text/plain": [
       "True"
      ]
     },
     "execution_count": 13,
     "metadata": {},
     "output_type": "execute_result"
    }
   ],
   "source": [
    "substring in string"
   ]
  },
  {
   "cell_type": "code",
   "execution_count": 22,
   "id": "d4588940",
   "metadata": {},
   "outputs": [],
   "source": [
    "string = 'AAGCGC1GTGATATCGAT'"
   ]
  },
  {
   "cell_type": "code",
   "execution_count": 23,
   "id": "758cc40d",
   "metadata": {},
   "outputs": [],
   "source": [
    "substring = '12'"
   ]
  },
  {
   "cell_type": "code",
   "execution_count": 25,
   "id": "1ef69769",
   "metadata": {},
   "outputs": [
    {
     "name": "stdout",
     "output_type": "stream",
     "text": [
      "partial find!\n"
     ]
    }
   ],
   "source": [
    "if substring in string:\n",
    "    print('find!')\n",
    "elif substring[0] in string:\n",
    "    print('partial find!')\n",
    "else:\n",
    "    print('not find')"
   ]
  },
  {
   "cell_type": "code",
   "execution_count": 26,
   "id": "f3e51e00",
   "metadata": {},
   "outputs": [],
   "source": [
    "substring = 'cdef'"
   ]
  },
  {
   "cell_type": "code",
   "execution_count": 27,
   "id": "1c60538e",
   "metadata": {},
   "outputs": [],
   "source": [
    "string = 'abcdefgh'"
   ]
  },
  {
   "cell_type": "code",
   "execution_count": 29,
   "id": "8c0a0a88",
   "metadata": {},
   "outputs": [
    {
     "name": "stdout",
     "output_type": "stream",
     "text": [
      "substring in string with len of 4!\n"
     ]
    }
   ],
   "source": [
    "if substring in string:\n",
    "    if len(substring) == 4:\n",
    "        print('substring in string with len of 4!')\n",
    "    else:\n",
    "        print('not find')\n",
    "else:\n",
    "    print('substr in str!')"
   ]
  },
  {
   "cell_type": "code",
   "execution_count": 30,
   "id": "70691b0b",
   "metadata": {},
   "outputs": [
    {
     "name": "stdout",
     "output_type": "stream",
     "text": [
      "abcdef\n",
      "ghijkl\n"
     ]
    }
   ],
   "source": [
    "string = 'abcdef\\nghijkl'\n",
    "print(string)"
   ]
  },
  {
   "cell_type": "code",
   "execution_count": 31,
   "id": "447e7608",
   "metadata": {},
   "outputs": [
    {
     "name": "stdout",
     "output_type": "stream",
     "text": [
      "abcdef\tghijkl\n"
     ]
    }
   ],
   "source": [
    "string = 'abcdef\\tghijkl'\n",
    "print(string)"
   ]
  },
  {
   "cell_type": "code",
   "execution_count": 36,
   "id": "6102e0e9",
   "metadata": {},
   "outputs": [],
   "source": [
    "list1 = ['a','b','c']"
   ]
  },
  {
   "cell_type": "code",
   "execution_count": 37,
   "id": "b50cb640",
   "metadata": {},
   "outputs": [
    {
     "data": {
      "text/plain": [
       "list"
      ]
     },
     "execution_count": 37,
     "metadata": {},
     "output_type": "execute_result"
    }
   ],
   "source": [
    "type(list1)"
   ]
  },
  {
   "cell_type": "code",
   "execution_count": 38,
   "id": "07478460",
   "metadata": {},
   "outputs": [
    {
     "data": {
      "text/plain": [
       "'a'"
      ]
     },
     "execution_count": 38,
     "metadata": {},
     "output_type": "execute_result"
    }
   ],
   "source": [
    "list1[0]"
   ]
  },
  {
   "cell_type": "code",
   "execution_count": 41,
   "id": "2cb2fe4c",
   "metadata": {},
   "outputs": [],
   "source": [
    "string1 = 'abcdef.ghijk'"
   ]
  },
  {
   "cell_type": "code",
   "execution_count": 43,
   "id": "484fef03",
   "metadata": {},
   "outputs": [
    {
     "data": {
      "text/plain": [
       "list"
      ]
     },
     "execution_count": 43,
     "metadata": {},
     "output_type": "execute_result"
    }
   ],
   "source": [
    "type(string.split('.'))"
   ]
  },
  {
   "cell_type": "code",
   "execution_count": 44,
   "id": "5515474c",
   "metadata": {},
   "outputs": [
    {
     "data": {
      "text/plain": [
       "['abcdef', 'ghijk']"
      ]
     },
     "execution_count": 44,
     "metadata": {},
     "output_type": "execute_result"
    }
   ],
   "source": [
    "string1 = 'abcdef\\tghijk'\n",
    "string1.rsplit()"
   ]
  },
  {
   "cell_type": "code",
   "execution_count": 45,
   "id": "5bea660f",
   "metadata": {},
   "outputs": [
    {
     "data": {
      "text/plain": [
       "['abcdefghijk']"
      ]
     },
     "execution_count": 45,
     "metadata": {},
     "output_type": "execute_result"
    }
   ],
   "source": [
    "string1 = 'abcdefghijk\\n'\n",
    "string1.rsplit()"
   ]
  },
  {
   "cell_type": "code",
   "execution_count": 48,
   "id": "135ee2f1",
   "metadata": {},
   "outputs": [
    {
     "data": {
      "text/plain": [
       "'abcd'"
      ]
     },
     "execution_count": 48,
     "metadata": {},
     "output_type": "execute_result"
    }
   ],
   "source": [
    "string1 = '*****abcd*****'\n",
    "string1.strip('*')"
   ]
  },
  {
   "cell_type": "code",
   "execution_count": 51,
   "id": "1b3b25b4",
   "metadata": {},
   "outputs": [
    {
     "data": {
      "text/plain": [
       "'abcd'"
      ]
     },
     "execution_count": 51,
     "metadata": {},
     "output_type": "execute_result"
    }
   ],
   "source": [
    "string1 = '*****abcd*****\\n'\n",
    "string1[:-1].strip('*')"
   ]
  },
  {
   "cell_type": "code",
   "execution_count": 52,
   "id": "a2a86451",
   "metadata": {},
   "outputs": [
    {
     "data": {
      "text/plain": [
       "'*****abcd'"
      ]
     },
     "execution_count": 52,
     "metadata": {},
     "output_type": "execute_result"
    }
   ],
   "source": [
    "string1 = '*****abcd*****'\n",
    "string1.rstrip('*')"
   ]
  },
  {
   "cell_type": "code",
   "execution_count": 53,
   "id": "84588952",
   "metadata": {},
   "outputs": [
    {
     "data": {
      "text/plain": [
       "'abcd*****'"
      ]
     },
     "execution_count": 53,
     "metadata": {},
     "output_type": "execute_result"
    }
   ],
   "source": [
    "string1 = '*****abcd*****'\n",
    "string1.lstrip('*')"
   ]
  },
  {
   "cell_type": "code",
   "execution_count": 58,
   "id": "34e0ff3a",
   "metadata": {},
   "outputs": [
    {
     "data": {
      "text/plain": [
       "'*****abcd*****g'"
      ]
     },
     "execution_count": 58,
     "metadata": {},
     "output_type": "execute_result"
    }
   ],
   "source": [
    "string2 = string1 + 'g'\n",
    "string2"
   ]
  },
  {
   "cell_type": "code",
   "execution_count": 59,
   "id": "a5b5c7d7",
   "metadata": {},
   "outputs": [
    {
     "data": {
      "text/plain": [
       "'*****abcd*****g'"
      ]
     },
     "execution_count": 59,
     "metadata": {},
     "output_type": "execute_result"
    }
   ],
   "source": [
    "string1 = string1 + 'g'\n",
    "string1"
   ]
  },
  {
   "cell_type": "code",
   "execution_count": 65,
   "id": "83ebef3f",
   "metadata": {},
   "outputs": [],
   "source": [
    "to_add = 12"
   ]
  },
  {
   "cell_type": "code",
   "execution_count": 67,
   "id": "ccf91d8e",
   "metadata": {},
   "outputs": [
    {
     "data": {
      "text/plain": [
       "'*****abcd*****g112'"
      ]
     },
     "execution_count": 67,
     "metadata": {},
     "output_type": "execute_result"
    }
   ],
   "source": [
    "string1 = string1 + str(to_add)\n",
    "string1"
   ]
  },
  {
   "cell_type": "code",
   "execution_count": 70,
   "id": "704baa49",
   "metadata": {},
   "outputs": [
    {
     "data": {
      "text/plain": [
       "['a', 'b', 'c']"
      ]
     },
     "execution_count": 70,
     "metadata": {},
     "output_type": "execute_result"
    }
   ],
   "source": [
    "lista1 = ['a','b','c']\n",
    "lista1"
   ]
  },
  {
   "cell_type": "code",
   "execution_count": 71,
   "id": "7d685ada",
   "metadata": {},
   "outputs": [
    {
     "data": {
      "text/plain": [
       "['a', 'b', 'c', 'd']"
      ]
     },
     "execution_count": 71,
     "metadata": {},
     "output_type": "execute_result"
    }
   ],
   "source": [
    "lista1.append('d')\n",
    "lista1"
   ]
  },
  {
   "cell_type": "code",
   "execution_count": 73,
   "id": "5c590725",
   "metadata": {},
   "outputs": [
    {
     "data": {
      "text/plain": [
       "[[1, 2], [3, 4]]"
      ]
     },
     "execution_count": 73,
     "metadata": {},
     "output_type": "execute_result"
    }
   ],
   "source": [
    "lista2 = [[1,2],[3,4]]\n",
    "lista2"
   ]
  },
  {
   "cell_type": "code",
   "execution_count": 75,
   "id": "98f730ab",
   "metadata": {},
   "outputs": [
    {
     "data": {
      "text/plain": [
       "2"
      ]
     },
     "execution_count": 75,
     "metadata": {},
     "output_type": "execute_result"
    }
   ],
   "source": [
    "len(lista2)"
   ]
  },
  {
   "cell_type": "code",
   "execution_count": 76,
   "id": "57f3b2fa",
   "metadata": {},
   "outputs": [
    {
     "data": {
      "text/plain": [
       "[1, 2]"
      ]
     },
     "execution_count": 76,
     "metadata": {},
     "output_type": "execute_result"
    }
   ],
   "source": [
    "lista2[0]"
   ]
  },
  {
   "cell_type": "code",
   "execution_count": 77,
   "id": "3bbe56e6",
   "metadata": {},
   "outputs": [
    {
     "data": {
      "text/plain": [
       "['a', 'b', 'c', 'd']"
      ]
     },
     "execution_count": 77,
     "metadata": {},
     "output_type": "execute_result"
    }
   ],
   "source": [
    "list('abcd')"
   ]
  },
  {
   "cell_type": "code",
   "execution_count": 78,
   "id": "928bb23a",
   "metadata": {},
   "outputs": [
    {
     "data": {
      "text/plain": [
       "'1'"
      ]
     },
     "execution_count": 78,
     "metadata": {},
     "output_type": "execute_result"
    }
   ],
   "source": [
    "str(1)"
   ]
  },
  {
   "cell_type": "code",
   "execution_count": 94,
   "id": "b9f028d9",
   "metadata": {},
   "outputs": [],
   "source": [
    "diseases = {'Lilla':'diabetes',\n",
    "              'Pali':'ekcema'}"
   ]
  },
  {
   "cell_type": "code",
   "execution_count": 95,
   "id": "fb1425e2",
   "metadata": {},
   "outputs": [
    {
     "data": {
      "text/plain": [
       "'diabetes'"
      ]
     },
     "execution_count": 95,
     "metadata": {},
     "output_type": "execute_result"
    }
   ],
   "source": [
    "diseases['Lilla']"
   ]
  },
  {
   "cell_type": "code",
   "execution_count": 96,
   "id": "57615339",
   "metadata": {},
   "outputs": [
    {
     "ename": "KeyError",
     "evalue": "0",
     "output_type": "error",
     "traceback": [
      "\u001b[1;31m---------------------------------------------------------------------------\u001b[0m",
      "\u001b[1;31mKeyError\u001b[0m                                  Traceback (most recent call last)",
      "\u001b[1;32m<ipython-input-96-fc3fa9ce7bb4>\u001b[0m in \u001b[0;36m<module>\u001b[1;34m\u001b[0m\n\u001b[1;32m----> 1\u001b[1;33m \u001b[0mdiseases\u001b[0m\u001b[1;33m[\u001b[0m\u001b[1;36m0\u001b[0m\u001b[1;33m]\u001b[0m\u001b[1;33m\u001b[0m\u001b[1;33m\u001b[0m\u001b[0m\n\u001b[0m",
      "\u001b[1;31mKeyError\u001b[0m: 0"
     ]
    }
   ],
   "source": [
    "diseases[0]"
   ]
  },
  {
   "cell_type": "code",
   "execution_count": 97,
   "id": "b4fefc0b",
   "metadata": {},
   "outputs": [],
   "source": [
    "diseases['Zsolti'] = 'hajhullas'"
   ]
  },
  {
   "cell_type": "code",
   "execution_count": 98,
   "id": "79793e2e",
   "metadata": {},
   "outputs": [
    {
     "data": {
      "text/plain": [
       "{'Lilla': 'diabetes', 'Pali': 'ekcema', 'Zsolti': 'hajhullas'}"
      ]
     },
     "execution_count": 98,
     "metadata": {},
     "output_type": "execute_result"
    }
   ],
   "source": [
    "diseases"
   ]
  },
  {
   "cell_type": "code",
   "execution_count": 102,
   "id": "e0967db8",
   "metadata": {},
   "outputs": [],
   "source": [
    "diseases['Lilla'] = 'diabetes2'"
   ]
  },
  {
   "cell_type": "code",
   "execution_count": 103,
   "id": "ff2d9f5d",
   "metadata": {},
   "outputs": [
    {
     "data": {
      "text/plain": [
       "{'Lilla': 'diabetes2', 'Pali': 'ekcema', 'Zsolti': 'hajhullas'}"
      ]
     },
     "execution_count": 103,
     "metadata": {},
     "output_type": "execute_result"
    }
   ],
   "source": [
    "diseases"
   ]
  },
  {
   "cell_type": "code",
   "execution_count": null,
   "id": "e7a18fd9",
   "metadata": {},
   "outputs": [],
   "source": []
  }
 ],
 "metadata": {
  "kernelspec": {
   "display_name": "Python 3",
   "language": "python",
   "name": "python3"
  },
  "language_info": {
   "codemirror_mode": {
    "name": "ipython",
    "version": 3
   },
   "file_extension": ".py",
   "mimetype": "text/x-python",
   "name": "python",
   "nbconvert_exporter": "python",
   "pygments_lexer": "ipython3",
   "version": "3.7.1"
  }
 },
 "nbformat": 4,
 "nbformat_minor": 5
}
