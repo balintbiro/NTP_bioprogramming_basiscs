{
 "cells": [
  {
   "cell_type": "code",
   "execution_count": 1,
   "id": "4ff1d0bc",
   "metadata": {},
   "outputs": [
    {
     "name": "stdout",
     "output_type": "stream",
     "text": [
      "Hello world!\n"
     ]
    }
   ],
   "source": [
    "message = 'Hello world!'\n",
    "print(message)"
   ]
  },
  {
   "cell_type": "code",
   "execution_count": 5,
   "id": "471bfd65",
   "metadata": {},
   "outputs": [
    {
     "name": "stdout",
     "output_type": "stream",
     "text": [
      "Message is a string\n"
     ]
    }
   ],
   "source": [
    "if type(message)==str:\n",
    "    print('Message is a string')\n",
    "else:\n",
    "    print('Message is not a string!')"
   ]
  },
  {
   "cell_type": "code",
   "execution_count": 6,
   "id": "37337b21",
   "metadata": {},
   "outputs": [],
   "source": [
    "string1 = 'Gesztenye'"
   ]
  },
  {
   "cell_type": "code",
   "execution_count": 7,
   "id": "60fb69c4",
   "metadata": {},
   "outputs": [
    {
     "data": {
      "text/plain": [
       "'G'"
      ]
     },
     "execution_count": 7,
     "metadata": {},
     "output_type": "execute_result"
    }
   ],
   "source": [
    "string1[0]"
   ]
  },
  {
   "cell_type": "code",
   "execution_count": 8,
   "id": "523b347d",
   "metadata": {},
   "outputs": [
    {
     "data": {
      "text/plain": [
       "'e'"
      ]
     },
     "execution_count": 8,
     "metadata": {},
     "output_type": "execute_result"
    }
   ],
   "source": [
    "string1[8]"
   ]
  },
  {
   "cell_type": "code",
   "execution_count": 9,
   "id": "8d3d4ff2",
   "metadata": {},
   "outputs": [
    {
     "data": {
      "text/plain": [
       "'eynetzseG'"
      ]
     },
     "execution_count": 9,
     "metadata": {},
     "output_type": "execute_result"
    }
   ],
   "source": [
    "string1[::-1]"
   ]
  },
  {
   "cell_type": "code",
   "execution_count": 10,
   "id": "4c17d21e",
   "metadata": {},
   "outputs": [
    {
     "data": {
      "text/plain": [
       "'G'"
      ]
     },
     "execution_count": 10,
     "metadata": {},
     "output_type": "execute_result"
    }
   ],
   "source": [
    "string1[:1]"
   ]
  },
  {
   "cell_type": "code",
   "execution_count": 11,
   "id": "b8f6a166",
   "metadata": {},
   "outputs": [
    {
     "data": {
      "text/plain": [
       "'Gesztenye'"
      ]
     },
     "execution_count": 11,
     "metadata": {},
     "output_type": "execute_result"
    }
   ],
   "source": [
    "string1[::1]"
   ]
  },
  {
   "cell_type": "code",
   "execution_count": 12,
   "id": "be6d2207",
   "metadata": {},
   "outputs": [
    {
     "data": {
      "text/plain": [
       "'esztenye'"
      ]
     },
     "execution_count": 12,
     "metadata": {},
     "output_type": "execute_result"
    }
   ],
   "source": [
    "string1[1:]"
   ]
  },
  {
   "cell_type": "code",
   "execution_count": 13,
   "id": "a3f664df",
   "metadata": {},
   "outputs": [
    {
     "data": {
      "text/plain": [
       "'G'"
      ]
     },
     "execution_count": 13,
     "metadata": {},
     "output_type": "execute_result"
    }
   ],
   "source": [
    "string1[:1]"
   ]
  },
  {
   "cell_type": "code",
   "execution_count": 14,
   "id": "86432514",
   "metadata": {},
   "outputs": [
    {
     "data": {
      "text/plain": [
       "'Ges'"
      ]
     },
     "execution_count": 14,
     "metadata": {},
     "output_type": "execute_result"
    }
   ],
   "source": [
    "string1[0:3]"
   ]
  },
  {
   "cell_type": "code",
   "execution_count": 15,
   "id": "a649f4a1",
   "metadata": {},
   "outputs": [
    {
     "data": {
      "text/plain": [
       "9"
      ]
     },
     "execution_count": 15,
     "metadata": {},
     "output_type": "execute_result"
    }
   ],
   "source": [
    "len(string1)"
   ]
  },
  {
   "cell_type": "code",
   "execution_count": 17,
   "id": "e6c1357e",
   "metadata": {},
   "outputs": [],
   "source": [
    "string2 = 'Gesz\\ntenye'"
   ]
  },
  {
   "cell_type": "code",
   "execution_count": 18,
   "id": "b05c6b4d",
   "metadata": {},
   "outputs": [
    {
     "name": "stdout",
     "output_type": "stream",
     "text": [
      "Gesz\n",
      "tenye\n"
     ]
    }
   ],
   "source": [
    "print(string2)"
   ]
  },
  {
   "cell_type": "code",
   "execution_count": 20,
   "id": "935af8fe",
   "metadata": {},
   "outputs": [
    {
     "name": "stdout",
     "output_type": "stream",
     "text": [
      "Gesztenye\ta\tnyuszi\n"
     ]
    }
   ],
   "source": [
    "string3 = 'Gesztenye\\ta\\tnyuszi'\n",
    "print(string3)"
   ]
  },
  {
   "cell_type": "code",
   "execution_count": 30,
   "id": "21537a89",
   "metadata": {},
   "outputs": [
    {
     "name": "stdout",
     "output_type": "stream",
     "text": [
      "nem egyforma\n"
     ]
    }
   ],
   "source": [
    "if string1 != string2:\n",
    "    print('nem egyforma')\n",
    "else:\n",
    "    print('egyforma')"
   ]
  },
  {
   "cell_type": "code",
   "execution_count": 31,
   "id": "91577a42",
   "metadata": {},
   "outputs": [
    {
     "data": {
      "text/plain": [
       "'esztenye'"
      ]
     },
     "execution_count": 31,
     "metadata": {},
     "output_type": "execute_result"
    }
   ],
   "source": [
    "string1[1:]"
   ]
  },
  {
   "cell_type": "code",
   "execution_count": 32,
   "id": "f0618450",
   "metadata": {},
   "outputs": [
    {
     "data": {
      "text/plain": [
       "'G'"
      ]
     },
     "execution_count": 32,
     "metadata": {},
     "output_type": "execute_result"
    }
   ],
   "source": [
    "string1[:1]"
   ]
  },
  {
   "cell_type": "code",
   "execution_count": 33,
   "id": "deff9597",
   "metadata": {},
   "outputs": [
    {
     "data": {
      "text/plain": [
       "'Gaztenye'"
      ]
     },
     "execution_count": 33,
     "metadata": {},
     "output_type": "execute_result"
    }
   ],
   "source": [
    "string1.replace('esz', 'az')"
   ]
  },
  {
   "cell_type": "code",
   "execution_count": 34,
   "id": "c0c25cf3",
   "metadata": {},
   "outputs": [
    {
     "data": {
      "text/plain": [
       "False"
      ]
     },
     "execution_count": 34,
     "metadata": {},
     "output_type": "execute_result"
    }
   ],
   "source": [
    "string1 is string2"
   ]
  },
  {
   "cell_type": "code",
   "execution_count": 37,
   "id": "dacb1c3c",
   "metadata": {
    "scrolled": true
   },
   "outputs": [
    {
     "data": {
      "text/plain": [
       "-1"
      ]
     },
     "execution_count": 37,
     "metadata": {},
     "output_type": "execute_result"
    }
   ],
   "source": [
    "string1.find('az')"
   ]
  },
  {
   "cell_type": "code",
   "execution_count": 44,
   "id": "4a7e56d7",
   "metadata": {},
   "outputs": [],
   "source": [
    "gaz = 'Gesz'"
   ]
  },
  {
   "cell_type": "code",
   "execution_count": 45,
   "id": "cb78110b",
   "metadata": {},
   "outputs": [
    {
     "data": {
      "text/plain": [
       "0"
      ]
     },
     "execution_count": 45,
     "metadata": {},
     "output_type": "execute_result"
    }
   ],
   "source": [
    "string1.find(gaz) #returns the lowest index of the substring if it is found in a given string"
   ]
  },
  {
   "cell_type": "code",
   "execution_count": 40,
   "id": "dd2318b9",
   "metadata": {},
   "outputs": [
    {
     "data": {
      "text/plain": [
       "'Ge'"
      ]
     },
     "execution_count": 40,
     "metadata": {},
     "output_type": "execute_result"
    }
   ],
   "source": [
    "string1[:2]"
   ]
  },
  {
   "cell_type": "code",
   "execution_count": 41,
   "id": "9524da18",
   "metadata": {},
   "outputs": [
    {
     "data": {
      "text/plain": [
       "'sztenye'"
      ]
     },
     "execution_count": 41,
     "metadata": {},
     "output_type": "execute_result"
    }
   ],
   "source": [
    "string1[2:]"
   ]
  },
  {
   "cell_type": "code",
   "execution_count": 46,
   "id": "e437ad5b",
   "metadata": {},
   "outputs": [],
   "source": [
    "substring = 'enye'"
   ]
  },
  {
   "cell_type": "code",
   "execution_count": 50,
   "id": "dc57a6c4",
   "metadata": {},
   "outputs": [
    {
     "data": {
      "text/plain": [
       "5"
      ]
     },
     "execution_count": 50,
     "metadata": {},
     "output_type": "execute_result"
    }
   ],
   "source": [
    "start = string1.find(substring)\n",
    "start"
   ]
  },
  {
   "cell_type": "code",
   "execution_count": 52,
   "id": "f41dcda3",
   "metadata": {},
   "outputs": [
    {
     "data": {
      "text/plain": [
       "9"
      ]
     },
     "execution_count": 52,
     "metadata": {},
     "output_type": "execute_result"
    }
   ],
   "source": [
    "end = start + len(substring)\n",
    "end"
   ]
  },
  {
   "cell_type": "code",
   "execution_count": 54,
   "id": "4f873575",
   "metadata": {},
   "outputs": [],
   "source": [
    "list1 = ['a', 'b', 'c']"
   ]
  },
  {
   "cell_type": "code",
   "execution_count": 55,
   "id": "b0e23f1c",
   "metadata": {},
   "outputs": [
    {
     "data": {
      "text/plain": [
       "['a', 'b', 'c']"
      ]
     },
     "execution_count": 55,
     "metadata": {},
     "output_type": "execute_result"
    }
   ],
   "source": [
    "list1"
   ]
  },
  {
   "cell_type": "code",
   "execution_count": 56,
   "id": "5e4b7a04",
   "metadata": {},
   "outputs": [
    {
     "data": {
      "text/plain": [
       "'b'"
      ]
     },
     "execution_count": 56,
     "metadata": {},
     "output_type": "execute_result"
    }
   ],
   "source": [
    "list1[1]"
   ]
  },
  {
   "cell_type": "code",
   "execution_count": 57,
   "id": "217e40cd",
   "metadata": {},
   "outputs": [],
   "source": [
    "string4 = 'asdf.asdf'"
   ]
  },
  {
   "cell_type": "code",
   "execution_count": 59,
   "id": "e10a7145",
   "metadata": {},
   "outputs": [
    {
     "data": {
      "text/plain": [
       "['asdf.asdf']"
      ]
     },
     "execution_count": 59,
     "metadata": {},
     "output_type": "execute_result"
    }
   ],
   "source": [
    "string4.rsplit()"
   ]
  },
  {
   "cell_type": "code",
   "execution_count": null,
   "id": "c0b728be",
   "metadata": {},
   "outputs": [],
   "source": []
  }
 ],
 "metadata": {
  "kernelspec": {
   "display_name": "Python 3",
   "language": "python",
   "name": "python3"
  },
  "language_info": {
   "codemirror_mode": {
    "name": "ipython",
    "version": 3
   },
   "file_extension": ".py",
   "mimetype": "text/x-python",
   "name": "python",
   "nbconvert_exporter": "python",
   "pygments_lexer": "ipython3",
   "version": "3.8.8"
  }
 },
 "nbformat": 4,
 "nbformat_minor": 5
}
