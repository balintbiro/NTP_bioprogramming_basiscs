{
 "cells": [
  {
   "cell_type": "markdown",
   "id": "5743a099",
   "metadata": {},
   "source": [
    "1. introduction\n",
    "    basic phylosophy (import this)\n",
    "        form of communication\n",
    "    'Hello world!'\n",
    "        print() statement\n",
    "    string data type\n",
    "        indexing (0 based, reversing), slicing, replace, split\n",
    "        .find()\n",
    "            len(string)\n",
    "        special characters as strings ('\\n', '\\t')\n",
    "    declare variable\n",
    "    conditional statements\n",
    "        if, elif, else\n",
    "    special statements\n",
    "        is, in, and, or, ==, !="
   ]
  },
  {
   "cell_type": "code",
   "execution_count": 2,
   "id": "6e30242a",
   "metadata": {},
   "outputs": [
    {
     "name": "stdout",
     "output_type": "stream",
     "text": [
      "The Zen of Python, by Tim Peters\n",
      "\n",
      "Beautiful is better than ugly.\n",
      "Explicit is better than implicit.\n",
      "Simple is better than complex.\n",
      "Complex is better than complicated.\n",
      "Flat is better than nested.\n",
      "Sparse is better than dense.\n",
      "Readability counts.\n",
      "Special cases aren't special enough to break the rules.\n",
      "Although practicality beats purity.\n",
      "Errors should never pass silently.\n",
      "Unless explicitly silenced.\n",
      "In the face of ambiguity, refuse the temptation to guess.\n",
      "There should be one-- and preferably only one --obvious way to do it.\n",
      "Although that way may not be obvious at first unless you're Dutch.\n",
      "Now is better than never.\n",
      "Although never is often better than *right* now.\n",
      "If the implementation is hard to explain, it's a bad idea.\n",
      "If the implementation is easy to explain, it may be a good idea.\n",
      "Namespaces are one honking great idea -- let's do more of those!\n"
     ]
    }
   ],
   "source": [
    "#attitue basics\n",
    "import this"
   ]
  },
  {
   "cell_type": "code",
   "execution_count": 4,
   "id": "1470de61",
   "metadata": {},
   "outputs": [],
   "source": [
    "#variable declaration, quotation marks mean that the inner stuff is gonna be a string\n",
    "message = 'hello world!'"
   ]
  },
  {
   "cell_type": "code",
   "execution_count": 6,
   "id": "9a1a6efc",
   "metadata": {},
   "outputs": [
    {
     "data": {
      "text/plain": [
       "str"
      ]
     },
     "execution_count": 6,
     "metadata": {},
     "output_type": "execute_result"
    }
   ],
   "source": [
    "#the return value of the type() function is gonna be the actual data type of a variable\n",
    "type(message)"
   ]
  },
  {
   "cell_type": "code",
   "execution_count": 11,
   "id": "c27369fd",
   "metadata": {},
   "outputs": [
    {
     "data": {
      "text/plain": [
       "int"
      ]
     },
     "execution_count": 11,
     "metadata": {},
     "output_type": "execute_result"
    }
   ],
   "source": [
    "#real numbers have the datatype of integer\n",
    "new_msg = (1233424234)\n",
    "type(new_msg)"
   ]
  },
  {
   "cell_type": "code",
   "execution_count": 10,
   "id": "4d9c96b4",
   "metadata": {},
   "outputs": [
    {
     "data": {
      "text/plain": [
       "str"
      ]
     },
     "execution_count": 10,
     "metadata": {},
     "output_type": "execute_result"
    }
   ],
   "source": [
    "#define numbers as string type variable\n",
    "new_msg = str(1233424234)\n",
    "type(new_msg)"
   ]
  },
  {
   "cell_type": "code",
   "execution_count": 27,
   "id": "db5a7f91",
   "metadata": {},
   "outputs": [],
   "source": [
    "string1 = 'abcdefgh'"
   ]
  },
  {
   "cell_type": "code",
   "execution_count": 14,
   "id": "1a247afb",
   "metadata": {},
   "outputs": [
    {
     "name": "stdout",
     "output_type": "stream",
     "text": [
      "abcdefgh\n"
     ]
    }
   ],
   "source": [
    "print(string1)"
   ]
  },
  {
   "cell_type": "code",
   "execution_count": 15,
   "id": "8e6e0231",
   "metadata": {},
   "outputs": [
    {
     "data": {
      "text/plain": [
       "'abcdefgh'"
      ]
     },
     "execution_count": 15,
     "metadata": {},
     "output_type": "execute_result"
    }
   ],
   "source": [
    "string1"
   ]
  },
  {
   "cell_type": "code",
   "execution_count": 28,
   "id": "ec381927",
   "metadata": {},
   "outputs": [
    {
     "data": {
      "text/plain": [
       "'a'"
      ]
     },
     "execution_count": 28,
     "metadata": {},
     "output_type": "execute_result"
    }
   ],
   "source": [
    "#indexing in python is zero based\n",
    "string1[0]"
   ]
  },
  {
   "cell_type": "code",
   "execution_count": 18,
   "id": "4f0d3b95",
   "metadata": {},
   "outputs": [
    {
     "data": {
      "text/plain": [
       "'b'"
      ]
     },
     "execution_count": 18,
     "metadata": {},
     "output_type": "execute_result"
    }
   ],
   "source": [
    "string1[1]"
   ]
  },
  {
   "cell_type": "code",
   "execution_count": 19,
   "id": "4e993ad5",
   "metadata": {},
   "outputs": [
    {
     "data": {
      "text/plain": [
       "'h'"
      ]
     },
     "execution_count": 19,
     "metadata": {},
     "output_type": "execute_result"
    }
   ],
   "source": [
    "#opposite indexing is -1 based, think about indexing as a ring!\n",
    "string1[-1]"
   ]
  },
  {
   "cell_type": "code",
   "execution_count": 3,
   "id": "015da9e3",
   "metadata": {},
   "outputs": [],
   "source": [
    "seq = 'AGGGTCCCN'"
   ]
  },
  {
   "cell_type": "code",
   "execution_count": 21,
   "id": "7245f881",
   "metadata": {},
   "outputs": [
    {
     "data": {
      "text/plain": [
       "'NCCCTGGGA'"
      ]
     },
     "execution_count": 21,
     "metadata": {},
     "output_type": "execute_result"
    }
   ],
   "source": [
    "#physical reversal of a sequence\n",
    "seq[::-1]"
   ]
  },
  {
   "cell_type": "code",
   "execution_count": 22,
   "id": "ec3efcd0",
   "metadata": {},
   "outputs": [
    {
     "data": {
      "text/plain": [
       "'GGGTCCCN'"
      ]
     },
     "execution_count": 22,
     "metadata": {},
     "output_type": "execute_result"
    }
   ],
   "source": [
    "#slicing string variable. First index is the start of the slice which is inclusive\n",
    "seq[1:]"
   ]
  },
  {
   "cell_type": "code",
   "execution_count": 23,
   "id": "74b207d3",
   "metadata": {},
   "outputs": [
    {
     "data": {
      "text/plain": [
       "'GGG'"
      ]
     },
     "execution_count": 23,
     "metadata": {},
     "output_type": "execute_result"
    }
   ],
   "source": [
    "#second index is the end of the slice which is exclusive so its not gonna be involved in the slice!\n",
    "seq[1:4]"
   ]
  },
  {
   "cell_type": "code",
   "execution_count": 24,
   "id": "cae71879",
   "metadata": {},
   "outputs": [
    {
     "data": {
      "text/plain": [
       "'T'"
      ]
     },
     "execution_count": 24,
     "metadata": {},
     "output_type": "execute_result"
    }
   ],
   "source": [
    "seq[4]"
   ]
  },
  {
   "cell_type": "code",
   "execution_count": 25,
   "id": "fc141503",
   "metadata": {},
   "outputs": [
    {
     "data": {
      "text/plain": [
       "'AGGGTCCC*'"
      ]
     },
     "execution_count": 25,
     "metadata": {},
     "output_type": "execute_result"
    }
   ],
   "source": [
    "#replacing character of a string variable! First argument in the character which we would like to change.\n",
    "#second character is a character that we would like to replace to\n",
    "seq.replace('N','*')"
   ]
  },
  {
   "cell_type": "code",
   "execution_count": 27,
   "id": "4fbc1687",
   "metadata": {},
   "outputs": [
    {
     "data": {
      "text/plain": [
       "int"
      ]
     },
     "execution_count": 27,
     "metadata": {},
     "output_type": "execute_result"
    }
   ],
   "source": [
    "#checking the length of a variable which has integer type return value\n",
    "type(len(seq))"
   ]
  },
  {
   "cell_type": "code",
   "execution_count": 4,
   "id": "581ea10f",
   "metadata": {},
   "outputs": [],
   "source": [
    "world = 'wrld'"
   ]
  },
  {
   "cell_type": "code",
   "execution_count": 5,
   "id": "b69dca93",
   "metadata": {},
   "outputs": [
    {
     "ename": "SyntaxError",
     "evalue": "invalid syntax (<ipython-input-5-93ec477cf6e6>, line 1)",
     "output_type": "error",
     "traceback": [
      "\u001b[1;36m  File \u001b[1;32m\"<ipython-input-5-93ec477cf6e6>\"\u001b[1;36m, line \u001b[1;32m1\u001b[0m\n\u001b[1;33m    is = 'wrld'\u001b[0m\n\u001b[1;37m     ^\u001b[0m\n\u001b[1;31mSyntaxError\u001b[0m\u001b[1;31m:\u001b[0m invalid syntax\n"
     ]
    }
   ],
   "source": [
    "#there are some names that cannot be used since python has special meanings for them\n",
    "is = 'wrld'"
   ]
  },
  {
   "cell_type": "code",
   "execution_count": 12,
   "id": "453c5e2a",
   "metadata": {},
   "outputs": [
    {
     "data": {
      "text/plain": [
       "bool"
      ]
     },
     "execution_count": 12,
     "metadata": {},
     "output_type": "execute_result"
    }
   ],
   "source": [
    "#return value of 'question' is a boolean\n",
    "type('N' in seq)"
   ]
  },
  {
   "cell_type": "code",
   "execution_count": 13,
   "id": "b42f63bd",
   "metadata": {},
   "outputs": [],
   "source": [
    "seq1 = 'abcd'"
   ]
  },
  {
   "cell_type": "code",
   "execution_count": 14,
   "id": "c0d21544",
   "metadata": {},
   "outputs": [
    {
     "data": {
      "text/plain": [
       "'abcd'"
      ]
     },
     "execution_count": 14,
     "metadata": {},
     "output_type": "execute_result"
    }
   ],
   "source": [
    "seq1"
   ]
  },
  {
   "cell_type": "code",
   "execution_count": 18,
   "id": "b5eb9cf4",
   "metadata": {},
   "outputs": [],
   "source": [
    "seq2 = 'abcd'"
   ]
  },
  {
   "cell_type": "code",
   "execution_count": 16,
   "id": "884319f0",
   "metadata": {},
   "outputs": [
    {
     "data": {
      "text/plain": [
       "'abd'"
      ]
     },
     "execution_count": 16,
     "metadata": {},
     "output_type": "execute_result"
    }
   ],
   "source": [
    "seq2"
   ]
  },
  {
   "cell_type": "code",
   "execution_count": 19,
   "id": "9cc51fd7",
   "metadata": {},
   "outputs": [
    {
     "data": {
      "text/plain": [
       "True"
      ]
     },
     "execution_count": 19,
     "metadata": {},
     "output_type": "execute_result"
    }
   ],
   "source": [
    "seq1 is seq2"
   ]
  },
  {
   "cell_type": "code",
   "execution_count": 23,
   "id": "cc57ce7e",
   "metadata": {},
   "outputs": [
    {
     "data": {
      "text/plain": [
       "True"
      ]
     },
     "execution_count": 23,
     "metadata": {},
     "output_type": "execute_result"
    }
   ],
   "source": [
    "seq1 != seq"
   ]
  },
  {
   "cell_type": "code",
   "execution_count": null,
   "id": "87e2344a",
   "metadata": {},
   "outputs": [],
   "source": []
  }
 ],
 "metadata": {
  "kernelspec": {
   "display_name": "Python 3",
   "language": "python",
   "name": "python3"
  },
  "language_info": {
   "codemirror_mode": {
    "name": "ipython",
    "version": 3
   },
   "file_extension": ".py",
   "mimetype": "text/x-python",
   "name": "python",
   "nbconvert_exporter": "python",
   "pygments_lexer": "ipython3",
   "version": "3.7.1"
  }
 },
 "nbformat": 4,
 "nbformat_minor": 5
}
