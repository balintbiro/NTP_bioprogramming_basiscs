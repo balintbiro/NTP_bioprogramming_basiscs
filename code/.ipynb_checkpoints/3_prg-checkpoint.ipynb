{
 "cells": [
  {
   "cell_type": "code",
   "execution_count": 18,
   "id": "7e08cc1f",
   "metadata": {},
   "outputs": [],
   "source": [
    "import numpy as np"
   ]
  },
  {
   "cell_type": "code",
   "execution_count": 3,
   "id": "2a982cee",
   "metadata": {},
   "outputs": [],
   "source": [
    "string = '12345'"
   ]
  },
  {
   "cell_type": "code",
   "execution_count": 4,
   "id": "370802a4",
   "metadata": {},
   "outputs": [
    {
     "data": {
      "text/plain": [
       "str"
      ]
     },
     "execution_count": 4,
     "metadata": {},
     "output_type": "execute_result"
    }
   ],
   "source": [
    "type(string)"
   ]
  },
  {
   "cell_type": "code",
   "execution_count": 7,
   "id": "a604f187",
   "metadata": {},
   "outputs": [
    {
     "name": "stdout",
     "output_type": "stream",
     "text": [
      "0\n"
     ]
    },
    {
     "data": {
      "text/plain": [
       "list"
      ]
     },
     "execution_count": 7,
     "metadata": {},
     "output_type": "execute_result"
    }
   ],
   "source": [
    "empty_list = []\n",
    "print(len(empty_list))\n",
    "type(empty_list)"
   ]
  },
  {
   "cell_type": "code",
   "execution_count": 8,
   "id": "9708b285",
   "metadata": {},
   "outputs": [
    {
     "data": {
      "text/plain": [
       "'12345'"
      ]
     },
     "execution_count": 8,
     "metadata": {},
     "output_type": "execute_result"
    }
   ],
   "source": [
    "string"
   ]
  },
  {
   "cell_type": "code",
   "execution_count": 32,
   "id": "29107bb9",
   "metadata": {},
   "outputs": [
    {
     "data": {
      "text/plain": [
       "['1', '2', '3', '4', '5']"
      ]
     },
     "execution_count": 32,
     "metadata": {},
     "output_type": "execute_result"
    }
   ],
   "source": [
    "empty_list = []\n",
    "for number in string:\n",
    "    empty_list.append((number))\n",
    "empty_list"
   ]
  },
  {
   "cell_type": "code",
   "execution_count": 33,
   "id": "0de1d73d",
   "metadata": {},
   "outputs": [
    {
     "data": {
      "text/plain": [
       "[1, 2, 3, 4, 5]"
      ]
     },
     "execution_count": 33,
     "metadata": {},
     "output_type": "execute_result"
    }
   ],
   "source": [
    "empty_list = []\n",
    "for number in string:\n",
    "    empty_list.append(int(number))\n",
    "empty_list"
   ]
  },
  {
   "cell_type": "code",
   "execution_count": 34,
   "id": "94e9dd03",
   "metadata": {},
   "outputs": [
    {
     "data": {
      "text/plain": [
       "3.0"
      ]
     },
     "execution_count": 34,
     "metadata": {},
     "output_type": "execute_result"
    }
   ],
   "source": [
    "np.mean(empty_list)"
   ]
  },
  {
   "cell_type": "code",
   "execution_count": 38,
   "id": "7e5f10a7",
   "metadata": {},
   "outputs": [
    {
     "name": "stdout",
     "output_type": "stream",
     "text": [
      "0 5\n",
      "1 4\n",
      "2 3\n",
      "3 2\n",
      "4 1\n"
     ]
    },
    {
     "data": {
      "text/plain": [
       "[]"
      ]
     },
     "execution_count": 38,
     "metadata": {},
     "output_type": "execute_result"
    }
   ],
   "source": [
    "empty_list = []\n",
    "for index, number in enumerate(string[::-1]):\n",
    "    print(index, number)\n",
    "empty_list"
   ]
  },
  {
   "cell_type": "code",
   "execution_count": 39,
   "id": "84a92650",
   "metadata": {},
   "outputs": [
    {
     "data": {
      "text/plain": [
       "['1', '3', '5']"
      ]
     },
     "execution_count": 39,
     "metadata": {},
     "output_type": "execute_result"
    }
   ],
   "source": [
    "empty_list = []\n",
    "for index, number in enumerate(string):\n",
    "    if index % 2 == 0:\n",
    "        empty_list.append(number)\n",
    "empty_list"
   ]
  },
  {
   "cell_type": "code",
   "execution_count": 40,
   "id": "8c44f49d",
   "metadata": {},
   "outputs": [],
   "source": [
    "diseases = {'Lilla':'diabetes',\n",
    "              'Pali':'ekcema'}"
   ]
  },
  {
   "cell_type": "code",
   "execution_count": 44,
   "id": "c4b8decf",
   "metadata": {},
   "outputs": [
    {
     "name": "stdout",
     "output_type": "stream",
     "text": [
      "Lilla diabetes\n",
      "Pali ekcema\n"
     ]
    }
   ],
   "source": [
    "for element in diseases:\n",
    "    print(element, diseases[element])"
   ]
  },
  {
   "cell_type": "code",
   "execution_count": 42,
   "id": "398cfdfa",
   "metadata": {},
   "outputs": [
    {
     "data": {
      "text/plain": [
       "'diabetes'"
      ]
     },
     "execution_count": 42,
     "metadata": {},
     "output_type": "execute_result"
    }
   ],
   "source": [
    "diseases['Lilla']"
   ]
  },
  {
   "cell_type": "code",
   "execution_count": 45,
   "id": "33812c4c",
   "metadata": {},
   "outputs": [
    {
     "name": "stdout",
     "output_type": "stream",
     "text": [
      "Lilla diabetes\n",
      "Pali ekcema\n"
     ]
    }
   ],
   "source": [
    "for name, disease in diseases.items():\n",
    "    print(name, disease)"
   ]
  },
  {
   "cell_type": "code",
   "execution_count": 47,
   "id": "de9024be",
   "metadata": {},
   "outputs": [
    {
     "data": {
      "text/plain": [
       "['a', 'a', 'a']"
      ]
     },
     "execution_count": 47,
     "metadata": {},
     "output_type": "execute_result"
    }
   ],
   "source": [
    "empty_list = []\n",
    "while len(empty_list) < 3:\n",
    "    empty_list.append('a')\n",
    "empty_list"
   ]
  },
  {
   "cell_type": "code",
   "execution_count": 50,
   "id": "0d9ed367",
   "metadata": {},
   "outputs": [
    {
     "name": "stdout",
     "output_type": "stream",
     "text": [
      "1\n",
      "2\n",
      "3\n"
     ]
    },
    {
     "data": {
      "text/plain": [
       "['a', 'a', 'a']"
      ]
     },
     "execution_count": 50,
     "metadata": {},
     "output_type": "execute_result"
    }
   ],
   "source": [
    "empty_list = []\n",
    "n = 0\n",
    "while n < 3:\n",
    "    empty_list.append('a')\n",
    "    n += 1\n",
    "    print(n)\n",
    "empty_list"
   ]
  },
  {
   "cell_type": "code",
   "execution_count": null,
   "id": "229a9764",
   "metadata": {},
   "outputs": [],
   "source": []
  }
 ],
 "metadata": {
  "kernelspec": {
   "display_name": "Python 3",
   "language": "python",
   "name": "python3"
  },
  "language_info": {
   "codemirror_mode": {
    "name": "ipython",
    "version": 3
   },
   "file_extension": ".py",
   "mimetype": "text/x-python",
   "name": "python",
   "nbconvert_exporter": "python",
   "pygments_lexer": "ipython3",
   "version": "3.7.1"
  }
 },
 "nbformat": 4,
 "nbformat_minor": 5
}
