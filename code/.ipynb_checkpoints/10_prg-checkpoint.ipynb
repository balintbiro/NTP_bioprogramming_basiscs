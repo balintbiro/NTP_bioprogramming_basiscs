{
 "cells": [
  {
   "cell_type": "markdown",
   "id": "b95414ce",
   "metadata": {},
   "source": [
    "English description is required since it facilitates the understanding of the topics and makes lookup easier for the user.\n",
    "Object Oriented Programming (OOP) is a very important programming paradigm that has many advantages and some drawback(s). At this point we were programming in a so called linear style. OOP is completely different and a very big topic so we will just check some of the core ideas.\n",
    "Classes are the base concepts of OOP and can be considered as some kind of templates. They have a key mechanism called instantiation. To instantiate a class you have to predefine a special function called constructor. Your PC sees your class through your constructor function. If you instantiate a class, that will result in an object (which is an instance). Inside your class you can define as many functions as you want but you can only use these functions through your class! This is the core concept of OOP, which requires an even more abstract way of thinking than the coding style we did before.\n",
    "The advantages:\n",
    "- increases readibility through structure simplification\n",
    "- code refactoring (when you change the structure of your code without changing the result of it) is easier if you have an OOP code\n",
    "- debugging is also easier with OOP\n",
    "- and more\n",
    "There is one really big drawback of OOP, you have to know exactly which is a proper case for using OOP. If you define a class for every little task that you have to perform, than your code is going to be a complete mess! There is a golden rule for OOP code, if you have just one function inside your class, that class is totally useless!\n",
    "Lets see a little illustration and hopefully after that it will make sense.\n",
    "To understand OOP, it is a good idea to think about a car assembly process. So you define a class which is a template for producing a car. This vehicle is a complex system (wheels, frame, glasses etc) so you should define the subprocesses (in our case, the functions will be our subprocesses). In pseudocode:\n",
    "\n",
    "class Car: #this is our class\n",
    "    def frame: #these are our functions (for each subprocesses which are strongly related to our car!)\n",
    "        'the base frame of our car'\n",
    "    def angine:\n",
    "        'add engine to the car'\n",
    "    def wheels:\n",
    "        'add wheels to the frame'\n",
    "    def glasses:\n",
    "        'add glasses to the car'\n",
    "\n",
    "Since most of the cars have the same parts, we can do different brands just by using our class (template).\n",
    "toyota=Car() #these are objects (instances) that were produced via instantiation from our class\n",
    "opel=Car()"
   ]
  },
  {
   "cell_type": "code",
   "execution_count": 13,
   "id": "df315fc8",
   "metadata": {},
   "outputs": [],
   "source": [
    "class Car:#there is a convention amongst python users that the name of the classes start with a capital letter\n",
    "    def __init__(self, brand, engine_volume, number_of_wheels):#this is our constructor function\n",
    "        self.brand=brand\n",
    "        self.number_of_wheels=number_of_wheels\n",
    "        self.engine_volume=engine_volume\n",
    "        \n",
    "    def frame(self):#these are the subprocess related functions\n",
    "        subprocess=f'create aluminium frame in the {self.brand} factory'\n",
    "        return subprocess\n",
    "    \n",
    "    def engine(self):\n",
    "        subprocess=f'build {self.engine_volume} cc engine into the frame'\n",
    "        return subprocess\n",
    "    \n",
    "    def wheels(self):\n",
    "        subprocess=f'add {self.number_of_wheels} wheels to the car'\n",
    "        return subprocess"
   ]
  },
  {
   "cell_type": "markdown",
   "id": "9986d284",
   "metadata": {},
   "source": [
    "In the next three cells we will build up a Toyota Yaris with the help of our previously defined class."
   ]
  },
  {
   "cell_type": "code",
   "execution_count": 14,
   "id": "6ded3070",
   "metadata": {},
   "outputs": [
    {
     "data": {
      "text/plain": [
       "'create aluminium frame in the Toyota factory'"
      ]
     },
     "execution_count": 14,
     "metadata": {},
     "output_type": "execute_result"
    }
   ],
   "source": [
    "toyota_yaris=Car('Toyota', 1300, 4)#instantiation. Since constructor needs three data, we provide them!\n",
    "toyota_yaris.frame()"
   ]
  },
  {
   "cell_type": "code",
   "execution_count": 15,
   "id": "a3a53d6c",
   "metadata": {},
   "outputs": [
    {
     "data": {
      "text/plain": [
       "'build 1300 cc engine into the frame'"
      ]
     },
     "execution_count": 15,
     "metadata": {},
     "output_type": "execute_result"
    }
   ],
   "source": [
    "toyota_yaris.engine()"
   ]
  },
  {
   "cell_type": "code",
   "execution_count": 16,
   "id": "5bfa71d8",
   "metadata": {},
   "outputs": [
    {
     "data": {
      "text/plain": [
       "'add 4 wheels to the car'"
      ]
     },
     "execution_count": 16,
     "metadata": {},
     "output_type": "execute_result"
    }
   ],
   "source": [
    "toyota_yaris.wheels()"
   ]
  },
  {
   "cell_type": "markdown",
   "id": "fe8e6e8f",
   "metadata": {},
   "source": [
    "In the next three cells we will build up an Opel Corsa with the help of our previously defined class. It is important to understand that from our point of view the two type of cars are pretty much the same so we can use the same class to create them!"
   ]
  },
  {
   "cell_type": "code",
   "execution_count": 18,
   "id": "78ff1b98",
   "metadata": {},
   "outputs": [
    {
     "data": {
      "text/plain": [
       "'create aluminium frame in the Opel factory'"
      ]
     },
     "execution_count": 18,
     "metadata": {},
     "output_type": "execute_result"
    }
   ],
   "source": [
    "opel_corsa=Car('Opel', 1000, 4)\n",
    "opel_corsa.frame()"
   ]
  },
  {
   "cell_type": "code",
   "execution_count": null,
   "id": "9b80706d",
   "metadata": {},
   "outputs": [],
   "source": []
  },
  {
   "cell_type": "code",
   "execution_count": 1,
   "id": "8c8d66c6",
   "metadata": {},
   "outputs": [],
   "source": [
    "class Osztaly:\n",
    "    def __init__(self, sequence):\n",
    "        self.sequence=sequence\n",
    "        \n",
    "    def length(self):\n",
    "        return len(self.sequence)\n",
    "    \n",
    "    def counter(self, character):\n",
    "        return self.sequence.count(character)"
   ]
  },
  {
   "cell_type": "code",
   "execution_count": 2,
   "id": "2889f834",
   "metadata": {},
   "outputs": [],
   "source": [
    "telefon=Osztaly('Szeretem az ameriaki stílusú kávét!')"
   ]
  },
  {
   "cell_type": "code",
   "execution_count": 3,
   "id": "9710b052",
   "metadata": {},
   "outputs": [
    {
     "data": {
      "text/plain": [
       "__main__.Osztaly"
      ]
     },
     "execution_count": 3,
     "metadata": {},
     "output_type": "execute_result"
    }
   ],
   "source": [
    "type(telefon)"
   ]
  },
  {
   "cell_type": "code",
   "execution_count": 4,
   "id": "cb22a369",
   "metadata": {},
   "outputs": [
    {
     "data": {
      "text/plain": [
       "35"
      ]
     },
     "execution_count": 4,
     "metadata": {},
     "output_type": "execute_result"
    }
   ],
   "source": [
    "telefon.length()"
   ]
  },
  {
   "cell_type": "code",
   "execution_count": 5,
   "id": "43615f8d",
   "metadata": {},
   "outputs": [
    {
     "ename": "TypeError",
     "evalue": "counter() missing 1 required positional argument: 'character'",
     "output_type": "error",
     "traceback": [
      "\u001b[1;31m---------------------------------------------------------------------------\u001b[0m",
      "\u001b[1;31mTypeError\u001b[0m                                 Traceback (most recent call last)",
      "\u001b[1;32m<ipython-input-5-a6b3f547511c>\u001b[0m in \u001b[0;36m<module>\u001b[1;34m\u001b[0m\n\u001b[1;32m----> 1\u001b[1;33m \u001b[0mtelefon\u001b[0m\u001b[1;33m.\u001b[0m\u001b[0mcounter\u001b[0m\u001b[1;33m(\u001b[0m\u001b[1;33m)\u001b[0m\u001b[1;33m\u001b[0m\u001b[1;33m\u001b[0m\u001b[0m\n\u001b[0m",
      "\u001b[1;31mTypeError\u001b[0m: counter() missing 1 required positional argument: 'character'"
     ]
    }
   ],
   "source": [
    "telefon.counter()"
   ]
  },
  {
   "cell_type": "code",
   "execution_count": 6,
   "id": "df882f2a",
   "metadata": {},
   "outputs": [
    {
     "data": {
      "text/plain": [
       "3"
      ]
     },
     "execution_count": 6,
     "metadata": {},
     "output_type": "execute_result"
    }
   ],
   "source": [
    "telefon.counter('a')"
   ]
  },
  {
   "cell_type": "code",
   "execution_count": null,
   "id": "dbf3c772",
   "metadata": {},
   "outputs": [],
   "source": []
  }
 ],
 "metadata": {
  "kernelspec": {
   "display_name": "Python 3",
   "language": "python",
   "name": "python3"
  },
  "language_info": {
   "codemirror_mode": {
    "name": "ipython",
    "version": 3
   },
   "file_extension": ".py",
   "mimetype": "text/x-python",
   "name": "python",
   "nbconvert_exporter": "python",
   "pygments_lexer": "ipython3",
   "version": "3.7.1"
  }
 },
 "nbformat": 4,
 "nbformat_minor": 5
}
