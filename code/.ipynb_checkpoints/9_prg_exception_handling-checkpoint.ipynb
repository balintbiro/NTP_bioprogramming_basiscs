{
 "cells": [
  {
   "cell_type": "code",
   "execution_count": 7,
   "id": "aa7b9430",
   "metadata": {},
   "outputs": [],
   "source": [
    "#simple vector with strings.\n",
    "#one is a \"real\" string AKA letter while the majority of the elements are string formatted numbers\n",
    "lista=['1','2','3','4','5','a','6','7']"
   ]
  },
  {
   "cell_type": "code",
   "execution_count": 8,
   "id": "dd060899",
   "metadata": {},
   "outputs": [
    {
     "name": "stdout",
     "output_type": "stream",
     "text": [
      "<class 'str'>\n",
      "<class 'str'>\n",
      "<class 'str'>\n",
      "<class 'str'>\n",
      "<class 'str'>\n",
      "<class 'str'>\n",
      "<class 'str'>\n",
      "<class 'str'>\n"
     ]
    }
   ],
   "source": [
    "numbers=''\n",
    "for element in lista:\n",
    "    print(type(element))"
   ]
  },
  {
   "cell_type": "code",
   "execution_count": 9,
   "id": "ef0ba475",
   "metadata": {},
   "outputs": [
    {
     "data": {
      "text/plain": [
       "'11'"
      ]
     },
     "execution_count": 9,
     "metadata": {},
     "output_type": "execute_result"
    }
   ],
   "source": [
    "'1'+'1'"
   ]
  },
  {
   "cell_type": "code",
   "execution_count": 12,
   "id": "9a5450bf",
   "metadata": {},
   "outputs": [
    {
     "ename": "ValueError",
     "evalue": "invalid literal for int() with base 10: 'a'",
     "output_type": "error",
     "traceback": [
      "\u001b[1;31m---------------------------------------------------------------------------\u001b[0m",
      "\u001b[1;31mValueError\u001b[0m                                Traceback (most recent call last)",
      "\u001b[1;32m<ipython-input-12-a898c61decaa>\u001b[0m in \u001b[0;36m<module>\u001b[1;34m\u001b[0m\n\u001b[0;32m      1\u001b[0m \u001b[0mnumbers\u001b[0m\u001b[1;33m=\u001b[0m\u001b[1;33m[\u001b[0m\u001b[1;33m]\u001b[0m\u001b[1;33m\u001b[0m\u001b[1;33m\u001b[0m\u001b[0m\n\u001b[0;32m      2\u001b[0m \u001b[1;32mfor\u001b[0m \u001b[0melement\u001b[0m \u001b[1;32min\u001b[0m \u001b[0mlista\u001b[0m\u001b[1;33m:\u001b[0m\u001b[1;33m\u001b[0m\u001b[1;33m\u001b[0m\u001b[0m\n\u001b[1;32m----> 3\u001b[1;33m     \u001b[0mnumbers\u001b[0m\u001b[1;33m.\u001b[0m\u001b[0mappend\u001b[0m\u001b[1;33m(\u001b[0m\u001b[0mint\u001b[0m\u001b[1;33m(\u001b[0m\u001b[0melement\u001b[0m\u001b[1;33m)\u001b[0m\u001b[1;33m)\u001b[0m\u001b[1;33m\u001b[0m\u001b[1;33m\u001b[0m\u001b[0m\n\u001b[0m",
      "\u001b[1;31mValueError\u001b[0m: invalid literal for int() with base 10: 'a'"
     ]
    }
   ],
   "source": [
    "#if we try to convert datatypes (str to int), we will get an error since the 'a' cannot be an integer\n",
    "numbers=[]\n",
    "for element in lista:\n",
    "    numbers.append(int(element))"
   ]
  },
  {
   "cell_type": "code",
   "execution_count": 13,
   "id": "2bdfb2e0",
   "metadata": {},
   "outputs": [
    {
     "ename": "SyntaxError",
     "evalue": "unexpected EOF while parsing (<ipython-input-13-67fca8810df1>, line 4)",
     "output_type": "error",
     "traceback": [
      "\u001b[1;36m  File \u001b[1;32m\"<ipython-input-13-67fca8810df1>\"\u001b[1;36m, line \u001b[1;32m4\u001b[0m\n\u001b[1;33m    numbers.append(int(element))\u001b[0m\n\u001b[1;37m                                ^\u001b[0m\n\u001b[1;31mSyntaxError\u001b[0m\u001b[1;31m:\u001b[0m unexpected EOF while parsing\n"
     ]
    }
   ],
   "source": [
    "#there is an elegant way for handling exceptions in python\n",
    "#this is the try/except pair\n",
    "#try cannot be applied without except\n",
    "numbers=[]\n",
    "for element in lista:\n",
    "    try:\n",
    "        numbers.append(int(element))"
   ]
  },
  {
   "cell_type": "code",
   "execution_count": 14,
   "id": "d36d9072",
   "metadata": {},
   "outputs": [
    {
     "name": "stdout",
     "output_type": "stream",
     "text": [
      "a\n"
     ]
    }
   ],
   "source": [
    "#error type can be specified in the except branch of the try/except pair\n",
    "numbers=[]\n",
    "for element in lista:\n",
    "    try:\n",
    "        numbers.append(int(element))\n",
    "    except ValueError:\n",
    "        print(element)"
   ]
  },
  {
   "cell_type": "code",
   "execution_count": 18,
   "id": "6cdd4bcb",
   "metadata": {},
   "outputs": [],
   "source": [
    "filenames=[1,2,3,4,5]"
   ]
  },
  {
   "cell_type": "code",
   "execution_count": 22,
   "id": "d30de820",
   "metadata": {},
   "outputs": [
    {
     "name": "stdout",
     "output_type": "stream",
     "text": [
      "['1']\n",
      "['2']\n",
      "['3']\n",
      "['4']\n"
     ]
    }
   ],
   "source": [
    "#different errors have to handled with different exceptions\n",
    "import os\n",
    "for filename in filenames:\n",
    "    filename='%s.fasta' % filename\n",
    "    directory=os.path.join('../data/')\n",
    "    filepath=directory+filename\n",
    "    try:\n",
    "        with open(filepath)as infile:\n",
    "            content=infile.readlines()\n",
    "            print(content)\n",
    "    except FileNotFoundError:\n",
    "        pass"
   ]
  },
  {
   "cell_type": "code",
   "execution_count": 24,
   "id": "2f64e0bd",
   "metadata": {},
   "outputs": [
    {
     "name": "stdout",
     "output_type": "stream",
     "text": [
      "['1']\n",
      "['2']\n",
      "['3']\n",
      "['4']\n",
      "There is no such file:  5.fasta\n"
     ]
    }
   ],
   "source": [
    "#there is an option to give a custom feedback in the \"except\" branch\n",
    "for filename in filenames:\n",
    "    filename='%s.fasta' % filename\n",
    "    directory=os.path.join('../data/')\n",
    "    filepath=directory+filename\n",
    "    try:\n",
    "        with open(filepath)as infile:\n",
    "            content=infile.readlines()\n",
    "            print(content)\n",
    "    except FileNotFoundError:\n",
    "        print('There is no such file: ',filename)"
   ]
  },
  {
   "cell_type": "code",
   "execution_count": null,
   "id": "fe23d68b",
   "metadata": {},
   "outputs": [],
   "source": []
  }
 ],
 "metadata": {
  "kernelspec": {
   "display_name": "Python 3",
   "language": "python",
   "name": "python3"
  },
  "language_info": {
   "codemirror_mode": {
    "name": "ipython",
    "version": 3
   },
   "file_extension": ".py",
   "mimetype": "text/x-python",
   "name": "python",
   "nbconvert_exporter": "python",
   "pygments_lexer": "ipython3",
   "version": "3.7.1"
  }
 },
 "nbformat": 4,
 "nbformat_minor": 5
}
