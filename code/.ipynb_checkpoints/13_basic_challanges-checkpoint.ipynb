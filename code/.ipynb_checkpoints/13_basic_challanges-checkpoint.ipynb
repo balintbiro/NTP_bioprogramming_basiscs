{
 "cells": [
  {
   "cell_type": "markdown",
   "id": "c9fafa08",
   "metadata": {},
   "source": [
    "1. Calculate the length of the given variable without using the len() function!\n",
    "\n",
    "variable='abcdefgh'"
   ]
  },
  {
   "cell_type": "code",
   "execution_count": null,
   "id": "af35d059",
   "metadata": {},
   "outputs": [],
   "source": []
  },
  {
   "cell_type": "markdown",
   "id": "1c918387",
   "metadata": {},
   "source": [
    "2. Summarize the vector without using built in function!\n",
    "\n",
    "vector=[1,4,2,8,2,1,5,6]"
   ]
  },
  {
   "cell_type": "code",
   "execution_count": null,
   "id": "68e434be",
   "metadata": {},
   "outputs": [],
   "source": []
  },
  {
   "cell_type": "markdown",
   "id": "28322a39",
   "metadata": {},
   "source": [
    "3. Write a Python program to compute the distance between the points (x1, y1) and (x2, y2)!"
   ]
  },
  {
   "cell_type": "code",
   "execution_count": null,
   "id": "30b9336f",
   "metadata": {},
   "outputs": [],
   "source": []
  },
  {
   "cell_type": "markdown",
   "id": "987dc77c",
   "metadata": {},
   "source": [
    "4. Reverse a variable without using built in functions!\n",
    "\n",
    "variable='abcdefgh'"
   ]
  },
  {
   "cell_type": "code",
   "execution_count": null,
   "id": "197108e5",
   "metadata": {},
   "outputs": [],
   "source": []
  },
  {
   "cell_type": "markdown",
   "id": "0cf2cf3c",
   "metadata": {},
   "source": [
    "5. Write a Python program to check whether a variable is numeric!\n",
    "\n",
    "variable='5'"
   ]
  },
  {
   "cell_type": "code",
   "execution_count": null,
   "id": "506e028f",
   "metadata": {},
   "outputs": [],
   "source": []
  },
  {
   "cell_type": "markdown",
   "id": "e2b1bc66",
   "metadata": {},
   "source": [
    "6. Find the maximum of a vector without using built in functions!\n",
    "\n",
    "vector=[1,4,2,8,2,1,5,6]"
   ]
  },
  {
   "cell_type": "code",
   "execution_count": null,
   "id": "32b0794d",
   "metadata": {},
   "outputs": [],
   "source": []
  },
  {
   "cell_type": "markdown",
   "id": "117c0240",
   "metadata": {},
   "source": [
    "7. Find whether an element is duplicated in a variable without using built in functions!\n",
    "\n",
    "vector=[1,4,2,8,2,1,5,6]"
   ]
  },
  {
   "cell_type": "code",
   "execution_count": null,
   "id": "b8c5520c",
   "metadata": {},
   "outputs": [],
   "source": []
  },
  {
   "cell_type": "markdown",
   "id": "5c097695",
   "metadata": {},
   "source": [
    "8. Find the minimum of a variable without using built in functions!\n",
    "\n",
    "vector=[1,4,2,8,2,1,5,6]"
   ]
  },
  {
   "cell_type": "code",
   "execution_count": null,
   "id": "cd62ecdf",
   "metadata": {},
   "outputs": [],
   "source": []
  },
  {
   "cell_type": "markdown",
   "id": "d82a7aa1",
   "metadata": {},
   "source": [
    "9. Check whether the given string is palindrom!\n",
    "\n",
    "string='abcdcba'"
   ]
  },
  {
   "cell_type": "code",
   "execution_count": null,
   "id": "5f1bd901",
   "metadata": {},
   "outputs": [],
   "source": []
  },
  {
   "cell_type": "markdown",
   "id": "26bd0df4",
   "metadata": {},
   "source": [
    "10. Sort the given variable in ascending order without using built in functions!\n",
    "\n",
    "variable=[3,1,2]"
   ]
  },
  {
   "cell_type": "code",
   "execution_count": null,
   "id": "681f2283",
   "metadata": {},
   "outputs": [],
   "source": []
  }
 ],
 "metadata": {
  "kernelspec": {
   "display_name": "Python 3",
   "language": "python",
   "name": "python3"
  },
  "language_info": {
   "codemirror_mode": {
    "name": "ipython",
    "version": 3
   },
   "file_extension": ".py",
   "mimetype": "text/x-python",
   "name": "python",
   "nbconvert_exporter": "python",
   "pygments_lexer": "ipython3",
   "version": "3.7.1"
  }
 },
 "nbformat": 4,
 "nbformat_minor": 5
}
