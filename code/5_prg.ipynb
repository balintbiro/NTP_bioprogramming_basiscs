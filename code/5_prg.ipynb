{
 "cells": [
  {
   "cell_type": "code",
   "execution_count": 1,
   "id": "6f229919",
   "metadata": {},
   "outputs": [],
   "source": [
    "#general representation of the synthax of the defined functions\n",
    "def fuggveny_neve(bemenet):\n",
    "    return kimenet"
   ]
  },
  {
   "cell_type": "code",
   "execution_count": 5,
   "id": "eb617a02",
   "metadata": {},
   "outputs": [],
   "source": [
    "#simplest example for a defined function\n",
    "def simplest(x):\n",
    "    return x"
   ]
  },
  {
   "cell_type": "code",
   "execution_count": 6,
   "id": "de19a6c9",
   "metadata": {},
   "outputs": [
    {
     "data": {
      "text/plain": [
       "8"
      ]
     },
     "execution_count": 6,
     "metadata": {},
     "output_type": "execute_result"
    }
   ],
   "source": [
    "#the function simply gives back the input\n",
    "simplest(8)"
   ]
  },
  {
   "cell_type": "code",
   "execution_count": 3,
   "id": "f6d8383a",
   "metadata": {},
   "outputs": [],
   "source": [
    "#a little bit complicated function which uses the input for the output message\n",
    "def greetings(name):#head of the function. def is compulsory, than the arbitrary chosen name of the function.\n",
    "    #in the \"normal\" bracket the required input of the function. The best practice is to give a name to\n",
    "    #the input that will make you remember\n",
    "    #in the body of the function you can do whatever you want.\n",
    "    message = f'hi {name}, how you doin?'#in this case we declared a variable (called message) where we used\n",
    "    #a so called formatted string\n",
    "    return message#you can specify the return value of your function"
   ]
  },
  {
   "cell_type": "code",
   "execution_count": 4,
   "id": "6bdb5925",
   "metadata": {},
   "outputs": [
    {
     "data": {
      "text/plain": [
       "'hi Pista, how you doin?'"
      ]
     },
     "execution_count": 4,
     "metadata": {},
     "output_type": "execute_result"
    }
   ],
   "source": [
    "#the defined function in working\n",
    "my_name = 'Pista'#my_name variable which is 'Pista'\n",
    "greetings(my_name)#using this variable as input of the greetings function"
   ]
  },
  {
   "cell_type": "code",
   "execution_count": null,
   "id": "628a5664",
   "metadata": {},
   "outputs": [],
   "source": []
  }
 ],
 "metadata": {
  "kernelspec": {
   "display_name": "Python 3",
   "language": "python",
   "name": "python3"
  },
  "language_info": {
   "codemirror_mode": {
    "name": "ipython",
    "version": 3
   },
   "file_extension": ".py",
   "mimetype": "text/x-python",
   "name": "python",
   "nbconvert_exporter": "python",
   "pygments_lexer": "ipython3",
   "version": "3.8.8"
  }
 },
 "nbformat": 4,
 "nbformat_minor": 5
}
