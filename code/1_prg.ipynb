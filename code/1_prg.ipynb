{
 "cells": [
  {
   "cell_type": "code",
   "execution_count": 2,
   "id": "6e30242a",
   "metadata": {},
   "outputs": [
    {
     "name": "stdout",
     "output_type": "stream",
     "text": [
      "The Zen of Python, by Tim Peters\n",
      "\n",
      "Beautiful is better than ugly.\n",
      "Explicit is better than implicit.\n",
      "Simple is better than complex.\n",
      "Complex is better than complicated.\n",
      "Flat is better than nested.\n",
      "Sparse is better than dense.\n",
      "Readability counts.\n",
      "Special cases aren't special enough to break the rules.\n",
      "Although practicality beats purity.\n",
      "Errors should never pass silently.\n",
      "Unless explicitly silenced.\n",
      "In the face of ambiguity, refuse the temptation to guess.\n",
      "There should be one-- and preferably only one --obvious way to do it.\n",
      "Although that way may not be obvious at first unless you're Dutch.\n",
      "Now is better than never.\n",
      "Although never is often better than *right* now.\n",
      "If the implementation is hard to explain, it's a bad idea.\n",
      "If the implementation is easy to explain, it may be a good idea.\n",
      "Namespaces are one honking great idea -- let's do more of those!\n"
     ]
    }
   ],
   "source": [
    "import this"
   ]
  },
  {
   "cell_type": "code",
   "execution_count": 4,
   "id": "1470de61",
   "metadata": {},
   "outputs": [],
   "source": [
    "message = 'hello world!'"
   ]
  },
  {
   "cell_type": "code",
   "execution_count": 6,
   "id": "9a1a6efc",
   "metadata": {},
   "outputs": [
    {
     "data": {
      "text/plain": [
       "str"
      ]
     },
     "execution_count": 6,
     "metadata": {},
     "output_type": "execute_result"
    }
   ],
   "source": [
    "type(message)"
   ]
  },
  {
   "cell_type": "code",
   "execution_count": 11,
   "id": "c27369fd",
   "metadata": {},
   "outputs": [
    {
     "data": {
      "text/plain": [
       "int"
      ]
     },
     "execution_count": 11,
     "metadata": {},
     "output_type": "execute_result"
    }
   ],
   "source": [
    "new_msg = (1233424234)\n",
    "type(new_msg)"
   ]
  },
  {
   "cell_type": "code",
   "execution_count": 10,
   "id": "4d9c96b4",
   "metadata": {},
   "outputs": [
    {
     "data": {
      "text/plain": [
       "str"
      ]
     },
     "execution_count": 10,
     "metadata": {},
     "output_type": "execute_result"
    }
   ],
   "source": [
    "new_msg = str(1233424234)\n",
    "type(new_msg)"
   ]
  },
  {
   "cell_type": "markdown",
   "id": "563b41da",
   "metadata": {},
   "source": [
    "string data type\n",
    "indexing (0 based, reversing), slicing, replace, split\n",
    ".find()\n",
    "len(string)\n",
    "special characters as strings ('\\n', '\\t')"
   ]
  },
  {
   "cell_type": "code",
   "execution_count": 12,
   "id": "db5a7f91",
   "metadata": {},
   "outputs": [],
   "source": [
    "string1 = 'abcdefgh'"
   ]
  },
  {
   "cell_type": "code",
   "execution_count": 14,
   "id": "1a247afb",
   "metadata": {},
   "outputs": [
    {
     "name": "stdout",
     "output_type": "stream",
     "text": [
      "abcdefgh\n"
     ]
    }
   ],
   "source": [
    "print(string1)"
   ]
  },
  {
   "cell_type": "code",
   "execution_count": 15,
   "id": "8e6e0231",
   "metadata": {},
   "outputs": [
    {
     "data": {
      "text/plain": [
       "'abcdefgh'"
      ]
     },
     "execution_count": 15,
     "metadata": {},
     "output_type": "execute_result"
    }
   ],
   "source": [
    "string1"
   ]
  },
  {
   "cell_type": "code",
   "execution_count": 16,
   "id": "ec381927",
   "metadata": {},
   "outputs": [
    {
     "data": {
      "text/plain": [
       "'a'"
      ]
     },
     "execution_count": 16,
     "metadata": {},
     "output_type": "execute_result"
    }
   ],
   "source": [
    "string1[0]"
   ]
  },
  {
   "cell_type": "code",
   "execution_count": 18,
   "id": "4f0d3b95",
   "metadata": {},
   "outputs": [
    {
     "data": {
      "text/plain": [
       "'b'"
      ]
     },
     "execution_count": 18,
     "metadata": {},
     "output_type": "execute_result"
    }
   ],
   "source": [
    "string1[1]"
   ]
  },
  {
   "cell_type": "code",
   "execution_count": 19,
   "id": "4e993ad5",
   "metadata": {},
   "outputs": [
    {
     "data": {
      "text/plain": [
       "'h'"
      ]
     },
     "execution_count": 19,
     "metadata": {},
     "output_type": "execute_result"
    }
   ],
   "source": [
    "string1[-1]"
   ]
  },
  {
   "cell_type": "code",
   "execution_count": 20,
   "id": "015da9e3",
   "metadata": {},
   "outputs": [],
   "source": [
    "seq = 'AGGGTCCCN'"
   ]
  },
  {
   "cell_type": "code",
   "execution_count": 21,
   "id": "7245f881",
   "metadata": {},
   "outputs": [
    {
     "data": {
      "text/plain": [
       "'NCCCTGGGA'"
      ]
     },
     "execution_count": 21,
     "metadata": {},
     "output_type": "execute_result"
    }
   ],
   "source": [
    "seq[::-1]"
   ]
  },
  {
   "cell_type": "code",
   "execution_count": 22,
   "id": "ec3efcd0",
   "metadata": {},
   "outputs": [
    {
     "data": {
      "text/plain": [
       "'GGGTCCCN'"
      ]
     },
     "execution_count": 22,
     "metadata": {},
     "output_type": "execute_result"
    }
   ],
   "source": [
    "seq[1:]"
   ]
  },
  {
   "cell_type": "code",
   "execution_count": 23,
   "id": "74b207d3",
   "metadata": {},
   "outputs": [
    {
     "data": {
      "text/plain": [
       "'GGG'"
      ]
     },
     "execution_count": 23,
     "metadata": {},
     "output_type": "execute_result"
    }
   ],
   "source": [
    "seq[1:4]"
   ]
  },
  {
   "cell_type": "code",
   "execution_count": 24,
   "id": "cae71879",
   "metadata": {},
   "outputs": [
    {
     "data": {
      "text/plain": [
       "'T'"
      ]
     },
     "execution_count": 24,
     "metadata": {},
     "output_type": "execute_result"
    }
   ],
   "source": [
    "seq[4]"
   ]
  },
  {
   "cell_type": "code",
   "execution_count": 25,
   "id": "fc141503",
   "metadata": {},
   "outputs": [
    {
     "data": {
      "text/plain": [
       "'AGGGTCCC*'"
      ]
     },
     "execution_count": 25,
     "metadata": {},
     "output_type": "execute_result"
    }
   ],
   "source": [
    "seq.replace('N','*')"
   ]
  },
  {
   "cell_type": "code",
   "execution_count": 27,
   "id": "4fbc1687",
   "metadata": {},
   "outputs": [
    {
     "data": {
      "text/plain": [
       "int"
      ]
     },
     "execution_count": 27,
     "metadata": {},
     "output_type": "execute_result"
    }
   ],
   "source": [
    "type(len(seq))"
   ]
  },
  {
   "cell_type": "code",
   "execution_count": null,
   "id": "581ea10f",
   "metadata": {},
   "outputs": [],
   "source": []
  }
 ],
 "metadata": {
  "kernelspec": {
   "display_name": "Python 3",
   "language": "python",
   "name": "python3"
  },
  "language_info": {
   "codemirror_mode": {
    "name": "ipython",
    "version": 3
   },
   "file_extension": ".py",
   "mimetype": "text/x-python",
   "name": "python",
   "nbconvert_exporter": "python",
   "pygments_lexer": "ipython3",
   "version": "3.7.1"
  }
 },
 "nbformat": 4,
 "nbformat_minor": 5
}
