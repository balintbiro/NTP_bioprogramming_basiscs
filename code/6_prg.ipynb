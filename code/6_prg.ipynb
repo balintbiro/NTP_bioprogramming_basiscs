{
 "cells": [
  {
   "cell_type": "code",
   "execution_count": 2,
   "id": "eb62a617",
   "metadata": {},
   "outputs": [],
   "source": [
    "#importing the required modules. It boosts the readability to import them at the very beginning.\n",
    "import time\n",
    "import numpy as np#in some cases we shorten the name of the modules. In this way it is easier to use them.\n",
    "import pandas as pd"
   ]
  },
  {
   "cell_type": "markdown",
   "id": "78c5c9b1",
   "metadata": {},
   "source": [
    "Describe the runtime difference between a vectorized and a non vectorized way of vector generating."
   ]
  },
  {
   "cell_type": "code",
   "execution_count": 7,
   "id": "e0e184b3",
   "metadata": {},
   "outputs": [
    {
     "data": {
      "text/plain": [
       "0.024485997358957925"
      ]
     },
     "execution_count": 7,
     "metadata": {},
     "output_type": "execute_result"
    }
   ],
   "source": [
    "start=time.time()#for runtime checking\n",
    "vector=[]#empty variable\n",
    "for i in range(0,10000000,1):#iteratively generate a vector\n",
    "    vector.append(i)\n",
    "end=time.time()#end of runtime checking\n",
    "runtime=(end-start)/60#minutes\n",
    "runtime"
   ]
  },
  {
   "cell_type": "code",
   "execution_count": 8,
   "id": "5f54d806",
   "metadata": {},
   "outputs": [
    {
     "data": {
      "text/plain": [
       "0.0028598825136820476"
      ]
     },
     "execution_count": 8,
     "metadata": {},
     "output_type": "execute_result"
    }
   ],
   "source": [
    "start=time.time()\n",
    "vector=np.arange(0,10000000,1)#generate a vector in a vectorized form\n",
    "end=time.time()\n",
    "runtime=(end-start)/60#minutes\n",
    "runtime"
   ]
  },
  {
   "cell_type": "code",
   "execution_count": 3,
   "id": "0fd24274",
   "metadata": {},
   "outputs": [],
   "source": [
    "vector=pd.Series(['a','b','c','d'])#how to create vector (Series in Pandas)"
   ]
  },
  {
   "cell_type": "code",
   "execution_count": 12,
   "id": "df082ab6",
   "metadata": {},
   "outputs": [
    {
     "data": {
      "text/plain": [
       "0    a\n",
       "1    b\n",
       "2    c\n",
       "3    d\n",
       "dtype: object"
      ]
     },
     "execution_count": 12,
     "metadata": {},
     "output_type": "execute_result"
    }
   ],
   "source": [
    "vector"
   ]
  },
  {
   "cell_type": "code",
   "execution_count": 13,
   "id": "aaec96f0",
   "metadata": {},
   "outputs": [
    {
     "data": {
      "text/plain": [
       "'b'"
      ]
     },
     "execution_count": 13,
     "metadata": {},
     "output_type": "execute_result"
    }
   ],
   "source": [
    "vector[1]#the conventional indexing can be used with vectors as well"
   ]
  },
  {
   "cell_type": "code",
   "execution_count": 15,
   "id": "3fb0255a",
   "metadata": {},
   "outputs": [],
   "source": [
    "vector.index=np.arange(8,12,1)#indexing of the vector can be altered"
   ]
  },
  {
   "cell_type": "code",
   "execution_count": 16,
   "id": "01a6d840",
   "metadata": {},
   "outputs": [
    {
     "data": {
      "text/plain": [
       "8     a\n",
       "9     b\n",
       "10    c\n",
       "11    d\n",
       "dtype: object"
      ]
     },
     "execution_count": 16,
     "metadata": {},
     "output_type": "execute_result"
    }
   ],
   "source": [
    "vector"
   ]
  },
  {
   "cell_type": "code",
   "execution_count": 17,
   "id": "90b8d5d2",
   "metadata": {},
   "outputs": [],
   "source": [
    "new_vector=pd.Series([3,6,9,12,15])"
   ]
  },
  {
   "cell_type": "code",
   "execution_count": 19,
   "id": "03a003af",
   "metadata": {},
   "outputs": [
    {
     "name": "stdout",
     "output_type": "stream",
     "text": [
      "6\n",
      "12\n",
      "18\n",
      "24\n",
      "30\n"
     ]
    }
   ],
   "source": [
    "for i in new_vector:#vectors are iterables but there is no need to do that\n",
    "    print(i*2)"
   ]
  },
  {
   "cell_type": "code",
   "execution_count": 20,
   "id": "769f2664",
   "metadata": {},
   "outputs": [
    {
     "data": {
      "text/plain": [
       "0     6\n",
       "1    12\n",
       "2    18\n",
       "3    24\n",
       "4    30\n",
       "dtype: int64"
      ]
     },
     "execution_count": 20,
     "metadata": {},
     "output_type": "execute_result"
    }
   ],
   "source": [
    "new_vector*2#its very simple to do different modifications for vectors"
   ]
  },
  {
   "cell_type": "code",
   "execution_count": 21,
   "id": "867d863e",
   "metadata": {},
   "outputs": [],
   "source": [
    "def multiplication(element):#there is a special way of defining functions for vectors\n",
    "    return element*2"
   ]
  },
  {
   "cell_type": "code",
   "execution_count": 23,
   "id": "f33fe4e7",
   "metadata": {},
   "outputs": [
    {
     "data": {
      "text/plain": [
       "0     6\n",
       "1    12\n",
       "2    18\n",
       "3    24\n",
       "4    30\n",
       "dtype: int64"
      ]
     },
     "execution_count": 23,
     "metadata": {},
     "output_type": "execute_result"
    }
   ],
   "source": [
    "new_vector.apply(multiplication)#special syntax for using predefined functions with vecotrs"
   ]
  },
  {
   "cell_type": "code",
   "execution_count": 24,
   "id": "04a61e80",
   "metadata": {},
   "outputs": [],
   "source": [
    "sequences=pd.Series(['ACTAGCATGCATCGATCAGCTAGTCG',#vectors can contain any datatypes\n",
    "                    'ACAGTCGATCAGCTACGATCGATCGTACGAT',\n",
    "                    'ACAGTCGACTAGCTAGCATCGATCGACGT',\n",
    "                    'CAGTCGATCAGCTACGATCGTACGATCGTGCTGATCGATCGATCG'])"
   ]
  },
  {
   "cell_type": "code",
   "execution_count": 25,
   "id": "1afc2732",
   "metadata": {},
   "outputs": [
    {
     "data": {
      "text/plain": [
       "0                       ACTAGCATGCATCGATCAGCTAGTCG\n",
       "1                  ACAGTCGATCAGCTACGATCGATCGTACGAT\n",
       "2                    ACAGTCGACTAGCTAGCATCGATCGACGT\n",
       "3    CAGTCGATCAGCTACGATCGTACGATCGTGCTGATCGATCGATCG\n",
       "dtype: object"
      ]
     },
     "execution_count": 25,
     "metadata": {},
     "output_type": "execute_result"
    }
   ],
   "source": [
    "sequences"
   ]
  },
  {
   "cell_type": "code",
   "execution_count": 4,
   "id": "fda49027",
   "metadata": {},
   "outputs": [],
   "source": [
    "def gc_ratio(sequence):#little function for calculating gc ratios along a vector\n",
    "    g_count=sequence.count('G')\n",
    "    c_count=sequence.count('C')\n",
    "    gc_ratio=(g_count+c_count)/len(sequence)\n",
    "    return gc_ratio"
   ]
  },
  {
   "cell_type": "code",
   "execution_count": 27,
   "id": "9fc82ec8",
   "metadata": {},
   "outputs": [
    {
     "data": {
      "text/plain": [
       "0    0.500000\n",
       "1    0.483871\n",
       "2    0.517241\n",
       "3    0.533333\n",
       "dtype: float64"
      ]
     },
     "execution_count": 27,
     "metadata": {},
     "output_type": "execute_result"
    }
   ],
   "source": [
    "sequences.apply(gc_ratio)"
   ]
  },
  {
   "cell_type": "code",
   "execution_count": null,
   "id": "bbbadf40",
   "metadata": {},
   "outputs": [],
   "source": []
  }
 ],
 "metadata": {
  "kernelspec": {
   "display_name": "Python 3",
   "language": "python",
   "name": "python3"
  },
  "language_info": {
   "codemirror_mode": {
    "name": "ipython",
    "version": 3
   },
   "file_extension": ".py",
   "mimetype": "text/x-python",
   "name": "python",
   "nbconvert_exporter": "python",
   "pygments_lexer": "ipython3",
   "version": "3.8.8"
  }
 },
 "nbformat": 4,
 "nbformat_minor": 5
}
